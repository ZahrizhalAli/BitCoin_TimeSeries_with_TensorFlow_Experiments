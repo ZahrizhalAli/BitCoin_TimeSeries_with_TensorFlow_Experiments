{
  "nbformat": 4,
  "nbformat_minor": 0,
  "metadata": {
    "colab": {
      "provenance": [],
      "toc_visible": true,
      "authorship_tag": "ABX9TyOgLSUGqC8e9rJgd6yCVHcp",
      "include_colab_link": true
    },
    "kernelspec": {
      "name": "python3",
      "display_name": "Python 3"
    },
    "language_info": {
      "name": "python"
    },
    "accelerator": "GPU",
    "gpuClass": "standard"
  },
  "cells": [
    {
      "cell_type": "markdown",
      "metadata": {
        "id": "view-in-github",
        "colab_type": "text"
      },
      "source": [
        "<a href=\"https://colab.research.google.com/github/ZahrizhalAli/BitCoin_TimeSeries_with_TensorFlow_Experiments/blob/main/10_time_series_forecasting_with_tensorflow_video.ipynb\" target=\"_parent\"><img src=\"https://colab.research.google.com/assets/colab-badge.svg\" alt=\"Open In Colab\"/></a>"
      ]
    },
    {
      "cell_type": "markdown",
      "source": [
        "## Time series forecasting fundamentals with TensorFlow + Milestone Project 3: BitPredict\n",
        "\n",
        "**Note** This is not financial advice\n",
        "\n",
        "Bitcoin prediction based on the historical data"
      ],
      "metadata": {
        "id": "lZSRlDpyI670"
      }
    },
    {
      "cell_type": "markdown",
      "source": [
        "##  Get Data\n",
        "\n",
        "we're going to be using historical price of data of bitcointo try and predict the future price of bitcoin. We downloaded the data from here : https://raw.githubusercontent.com/mrdbourke/tensorflow-deep-learning/main/extras/BTC_USD_2013-10-01_2021-05-18-CoinDesk.csv"
      ],
      "metadata": {
        "id": "EJT3OgpcVFku"
      }
    },
    {
      "cell_type": "code",
      "source": [
        "!wget https://raw.githubusercontent.com/mrdbourke/tensorflow-deep-learning/main/extras/BTC_USD_2013-10-01_2021-05-18-CoinDesk.csv"
      ],
      "metadata": {
        "colab": {
          "base_uri": "https://localhost:8080/"
        },
        "id": "xe9M_HWVV_LW",
        "outputId": "a6e52d4f-7570-429a-815a-e22511d7b984"
      },
      "execution_count": 1,
      "outputs": [
        {
          "output_type": "stream",
          "name": "stdout",
          "text": [
            "--2022-09-08 02:43:30--  https://raw.githubusercontent.com/mrdbourke/tensorflow-deep-learning/main/extras/BTC_USD_2013-10-01_2021-05-18-CoinDesk.csv\n",
            "Resolving raw.githubusercontent.com (raw.githubusercontent.com)... 185.199.110.133, 185.199.111.133, 185.199.109.133, ...\n",
            "Connecting to raw.githubusercontent.com (raw.githubusercontent.com)|185.199.110.133|:443... connected.\n",
            "HTTP request sent, awaiting response... 200 OK\n",
            "Length: 178509 (174K) [text/plain]\n",
            "Saving to: ‘BTC_USD_2013-10-01_2021-05-18-CoinDesk.csv’\n",
            "\n",
            "\r          BTC_USD_2   0%[                    ]       0  --.-KB/s               \rBTC_USD_2013-10-01_ 100%[===================>] 174.33K  --.-KB/s    in 0.003s  \n",
            "\n",
            "2022-09-08 02:43:30 (63.4 MB/s) - ‘BTC_USD_2013-10-01_2021-05-18-CoinDesk.csv’ saved [178509/178509]\n",
            "\n"
          ]
        }
      ]
    },
    {
      "cell_type": "markdown",
      "source": [
        "## Importing time series data"
      ],
      "metadata": {
        "id": "PMqvWnhqWCse"
      }
    },
    {
      "cell_type": "code",
      "source": [
        "import pandas as pd\n",
        "import tensorflow as tf\n",
        "import numpy as np\n",
        "#Lets read in our bitcoin data and parse the dates\n",
        "df = pd.read_csv('/content/BTC_USD_2013-10-01_2021-05-18-CoinDesk.csv', \n",
        "                 parse_dates=['Date'],\n",
        "                 index_col=['Date']) #  parse the date column and tell pandas column 1 is a datetime"
      ],
      "metadata": {
        "id": "V2C2cJxcWVbT"
      },
      "execution_count": 2,
      "outputs": []
    },
    {
      "cell_type": "code",
      "source": [
        "df.head()"
      ],
      "metadata": {
        "colab": {
          "base_uri": "https://localhost:8080/",
          "height": 237
        },
        "id": "4pmd30sDW6Nn",
        "outputId": "6001ab68-a14c-4244-a4bd-feedbc823eab"
      },
      "execution_count": 3,
      "outputs": [
        {
          "output_type": "execute_result",
          "data": {
            "text/plain": [
              "           Currency  Closing Price (USD)  24h Open (USD)  24h High (USD)  \\\n",
              "Date                                                                       \n",
              "2013-10-01      BTC            123.65499       124.30466       124.75166   \n",
              "2013-10-02      BTC            125.45500       123.65499       125.75850   \n",
              "2013-10-03      BTC            108.58483       125.45500       125.66566   \n",
              "2013-10-04      BTC            118.67466       108.58483       118.67500   \n",
              "2013-10-05      BTC            121.33866       118.67466       121.93633   \n",
              "\n",
              "            24h Low (USD)  \n",
              "Date                       \n",
              "2013-10-01      122.56349  \n",
              "2013-10-02      123.63383  \n",
              "2013-10-03       83.32833  \n",
              "2013-10-04      107.05816  \n",
              "2013-10-05      118.00566  "
            ],
            "text/html": [
              "\n",
              "  <div id=\"df-d0e633b4-08ae-4d25-b9cb-80b05065fbb4\">\n",
              "    <div class=\"colab-df-container\">\n",
              "      <div>\n",
              "<style scoped>\n",
              "    .dataframe tbody tr th:only-of-type {\n",
              "        vertical-align: middle;\n",
              "    }\n",
              "\n",
              "    .dataframe tbody tr th {\n",
              "        vertical-align: top;\n",
              "    }\n",
              "\n",
              "    .dataframe thead th {\n",
              "        text-align: right;\n",
              "    }\n",
              "</style>\n",
              "<table border=\"1\" class=\"dataframe\">\n",
              "  <thead>\n",
              "    <tr style=\"text-align: right;\">\n",
              "      <th></th>\n",
              "      <th>Currency</th>\n",
              "      <th>Closing Price (USD)</th>\n",
              "      <th>24h Open (USD)</th>\n",
              "      <th>24h High (USD)</th>\n",
              "      <th>24h Low (USD)</th>\n",
              "    </tr>\n",
              "    <tr>\n",
              "      <th>Date</th>\n",
              "      <th></th>\n",
              "      <th></th>\n",
              "      <th></th>\n",
              "      <th></th>\n",
              "      <th></th>\n",
              "    </tr>\n",
              "  </thead>\n",
              "  <tbody>\n",
              "    <tr>\n",
              "      <th>2013-10-01</th>\n",
              "      <td>BTC</td>\n",
              "      <td>123.65499</td>\n",
              "      <td>124.30466</td>\n",
              "      <td>124.75166</td>\n",
              "      <td>122.56349</td>\n",
              "    </tr>\n",
              "    <tr>\n",
              "      <th>2013-10-02</th>\n",
              "      <td>BTC</td>\n",
              "      <td>125.45500</td>\n",
              "      <td>123.65499</td>\n",
              "      <td>125.75850</td>\n",
              "      <td>123.63383</td>\n",
              "    </tr>\n",
              "    <tr>\n",
              "      <th>2013-10-03</th>\n",
              "      <td>BTC</td>\n",
              "      <td>108.58483</td>\n",
              "      <td>125.45500</td>\n",
              "      <td>125.66566</td>\n",
              "      <td>83.32833</td>\n",
              "    </tr>\n",
              "    <tr>\n",
              "      <th>2013-10-04</th>\n",
              "      <td>BTC</td>\n",
              "      <td>118.67466</td>\n",
              "      <td>108.58483</td>\n",
              "      <td>118.67500</td>\n",
              "      <td>107.05816</td>\n",
              "    </tr>\n",
              "    <tr>\n",
              "      <th>2013-10-05</th>\n",
              "      <td>BTC</td>\n",
              "      <td>121.33866</td>\n",
              "      <td>118.67466</td>\n",
              "      <td>121.93633</td>\n",
              "      <td>118.00566</td>\n",
              "    </tr>\n",
              "  </tbody>\n",
              "</table>\n",
              "</div>\n",
              "      <button class=\"colab-df-convert\" onclick=\"convertToInteractive('df-d0e633b4-08ae-4d25-b9cb-80b05065fbb4')\"\n",
              "              title=\"Convert this dataframe to an interactive table.\"\n",
              "              style=\"display:none;\">\n",
              "        \n",
              "  <svg xmlns=\"http://www.w3.org/2000/svg\" height=\"24px\"viewBox=\"0 0 24 24\"\n",
              "       width=\"24px\">\n",
              "    <path d=\"M0 0h24v24H0V0z\" fill=\"none\"/>\n",
              "    <path d=\"M18.56 5.44l.94 2.06.94-2.06 2.06-.94-2.06-.94-.94-2.06-.94 2.06-2.06.94zm-11 1L8.5 8.5l.94-2.06 2.06-.94-2.06-.94L8.5 2.5l-.94 2.06-2.06.94zm10 10l.94 2.06.94-2.06 2.06-.94-2.06-.94-.94-2.06-.94 2.06-2.06.94z\"/><path d=\"M17.41 7.96l-1.37-1.37c-.4-.4-.92-.59-1.43-.59-.52 0-1.04.2-1.43.59L10.3 9.45l-7.72 7.72c-.78.78-.78 2.05 0 2.83L4 21.41c.39.39.9.59 1.41.59.51 0 1.02-.2 1.41-.59l7.78-7.78 2.81-2.81c.8-.78.8-2.07 0-2.86zM5.41 20L4 18.59l7.72-7.72 1.47 1.35L5.41 20z\"/>\n",
              "  </svg>\n",
              "      </button>\n",
              "      \n",
              "  <style>\n",
              "    .colab-df-container {\n",
              "      display:flex;\n",
              "      flex-wrap:wrap;\n",
              "      gap: 12px;\n",
              "    }\n",
              "\n",
              "    .colab-df-convert {\n",
              "      background-color: #E8F0FE;\n",
              "      border: none;\n",
              "      border-radius: 50%;\n",
              "      cursor: pointer;\n",
              "      display: none;\n",
              "      fill: #1967D2;\n",
              "      height: 32px;\n",
              "      padding: 0 0 0 0;\n",
              "      width: 32px;\n",
              "    }\n",
              "\n",
              "    .colab-df-convert:hover {\n",
              "      background-color: #E2EBFA;\n",
              "      box-shadow: 0px 1px 2px rgba(60, 64, 67, 0.3), 0px 1px 3px 1px rgba(60, 64, 67, 0.15);\n",
              "      fill: #174EA6;\n",
              "    }\n",
              "\n",
              "    [theme=dark] .colab-df-convert {\n",
              "      background-color: #3B4455;\n",
              "      fill: #D2E3FC;\n",
              "    }\n",
              "\n",
              "    [theme=dark] .colab-df-convert:hover {\n",
              "      background-color: #434B5C;\n",
              "      box-shadow: 0px 1px 3px 1px rgba(0, 0, 0, 0.15);\n",
              "      filter: drop-shadow(0px 1px 2px rgba(0, 0, 0, 0.3));\n",
              "      fill: #FFFFFF;\n",
              "    }\n",
              "  </style>\n",
              "\n",
              "      <script>\n",
              "        const buttonEl =\n",
              "          document.querySelector('#df-d0e633b4-08ae-4d25-b9cb-80b05065fbb4 button.colab-df-convert');\n",
              "        buttonEl.style.display =\n",
              "          google.colab.kernel.accessAllowed ? 'block' : 'none';\n",
              "\n",
              "        async function convertToInteractive(key) {\n",
              "          const element = document.querySelector('#df-d0e633b4-08ae-4d25-b9cb-80b05065fbb4');\n",
              "          const dataTable =\n",
              "            await google.colab.kernel.invokeFunction('convertToInteractive',\n",
              "                                                     [key], {});\n",
              "          if (!dataTable) return;\n",
              "\n",
              "          const docLinkHtml = 'Like what you see? Visit the ' +\n",
              "            '<a target=\"_blank\" href=https://colab.research.google.com/notebooks/data_table.ipynb>data table notebook</a>'\n",
              "            + ' to learn more about interactive tables.';\n",
              "          element.innerHTML = '';\n",
              "          dataTable['output_type'] = 'display_data';\n",
              "          await google.colab.output.renderOutput(dataTable, element);\n",
              "          const docLink = document.createElement('div');\n",
              "          docLink.innerHTML = docLinkHtml;\n",
              "          element.appendChild(docLink);\n",
              "        }\n",
              "      </script>\n",
              "    </div>\n",
              "  </div>\n",
              "  "
            ]
          },
          "metadata": {},
          "execution_count": 3
        }
      ]
    },
    {
      "cell_type": "code",
      "source": [
        "# How many samples do we have\n",
        "len(df)"
      ],
      "metadata": {
        "colab": {
          "base_uri": "https://localhost:8080/"
        },
        "id": "ljOxS2zgW7OQ",
        "outputId": "4efd816f-affb-4cc6-b1df-b847eb8137d7"
      },
      "execution_count": 4,
      "outputs": [
        {
          "output_type": "execute_result",
          "data": {
            "text/plain": [
              "2787"
            ]
          },
          "metadata": {},
          "execution_count": 4
        }
      ]
    },
    {
      "cell_type": "code",
      "source": [
        "#only wantt closing price for each day\n",
        "bitcoin_prices =  pd.DataFrame(df['Closing Price (USD)']).rename(columns={'Closing Price (USD)': 'Price'})"
      ],
      "metadata": {
        "id": "hNk47HitW9Ka"
      },
      "execution_count": 5,
      "outputs": []
    },
    {
      "cell_type": "code",
      "source": [
        "bitcoin_prices.head()"
      ],
      "metadata": {
        "colab": {
          "base_uri": "https://localhost:8080/",
          "height": 237
        },
        "id": "QWQtBWKXx80s",
        "outputId": "894ae56b-f91f-4020-93c1-a26dad4ba440"
      },
      "execution_count": 6,
      "outputs": [
        {
          "output_type": "execute_result",
          "data": {
            "text/plain": [
              "                Price\n",
              "Date                 \n",
              "2013-10-01  123.65499\n",
              "2013-10-02  125.45500\n",
              "2013-10-03  108.58483\n",
              "2013-10-04  118.67466\n",
              "2013-10-05  121.33866"
            ],
            "text/html": [
              "\n",
              "  <div id=\"df-1fb1db85-8beb-427c-b46f-561787ef31e9\">\n",
              "    <div class=\"colab-df-container\">\n",
              "      <div>\n",
              "<style scoped>\n",
              "    .dataframe tbody tr th:only-of-type {\n",
              "        vertical-align: middle;\n",
              "    }\n",
              "\n",
              "    .dataframe tbody tr th {\n",
              "        vertical-align: top;\n",
              "    }\n",
              "\n",
              "    .dataframe thead th {\n",
              "        text-align: right;\n",
              "    }\n",
              "</style>\n",
              "<table border=\"1\" class=\"dataframe\">\n",
              "  <thead>\n",
              "    <tr style=\"text-align: right;\">\n",
              "      <th></th>\n",
              "      <th>Price</th>\n",
              "    </tr>\n",
              "    <tr>\n",
              "      <th>Date</th>\n",
              "      <th></th>\n",
              "    </tr>\n",
              "  </thead>\n",
              "  <tbody>\n",
              "    <tr>\n",
              "      <th>2013-10-01</th>\n",
              "      <td>123.65499</td>\n",
              "    </tr>\n",
              "    <tr>\n",
              "      <th>2013-10-02</th>\n",
              "      <td>125.45500</td>\n",
              "    </tr>\n",
              "    <tr>\n",
              "      <th>2013-10-03</th>\n",
              "      <td>108.58483</td>\n",
              "    </tr>\n",
              "    <tr>\n",
              "      <th>2013-10-04</th>\n",
              "      <td>118.67466</td>\n",
              "    </tr>\n",
              "    <tr>\n",
              "      <th>2013-10-05</th>\n",
              "      <td>121.33866</td>\n",
              "    </tr>\n",
              "  </tbody>\n",
              "</table>\n",
              "</div>\n",
              "      <button class=\"colab-df-convert\" onclick=\"convertToInteractive('df-1fb1db85-8beb-427c-b46f-561787ef31e9')\"\n",
              "              title=\"Convert this dataframe to an interactive table.\"\n",
              "              style=\"display:none;\">\n",
              "        \n",
              "  <svg xmlns=\"http://www.w3.org/2000/svg\" height=\"24px\"viewBox=\"0 0 24 24\"\n",
              "       width=\"24px\">\n",
              "    <path d=\"M0 0h24v24H0V0z\" fill=\"none\"/>\n",
              "    <path d=\"M18.56 5.44l.94 2.06.94-2.06 2.06-.94-2.06-.94-.94-2.06-.94 2.06-2.06.94zm-11 1L8.5 8.5l.94-2.06 2.06-.94-2.06-.94L8.5 2.5l-.94 2.06-2.06.94zm10 10l.94 2.06.94-2.06 2.06-.94-2.06-.94-.94-2.06-.94 2.06-2.06.94z\"/><path d=\"M17.41 7.96l-1.37-1.37c-.4-.4-.92-.59-1.43-.59-.52 0-1.04.2-1.43.59L10.3 9.45l-7.72 7.72c-.78.78-.78 2.05 0 2.83L4 21.41c.39.39.9.59 1.41.59.51 0 1.02-.2 1.41-.59l7.78-7.78 2.81-2.81c.8-.78.8-2.07 0-2.86zM5.41 20L4 18.59l7.72-7.72 1.47 1.35L5.41 20z\"/>\n",
              "  </svg>\n",
              "      </button>\n",
              "      \n",
              "  <style>\n",
              "    .colab-df-container {\n",
              "      display:flex;\n",
              "      flex-wrap:wrap;\n",
              "      gap: 12px;\n",
              "    }\n",
              "\n",
              "    .colab-df-convert {\n",
              "      background-color: #E8F0FE;\n",
              "      border: none;\n",
              "      border-radius: 50%;\n",
              "      cursor: pointer;\n",
              "      display: none;\n",
              "      fill: #1967D2;\n",
              "      height: 32px;\n",
              "      padding: 0 0 0 0;\n",
              "      width: 32px;\n",
              "    }\n",
              "\n",
              "    .colab-df-convert:hover {\n",
              "      background-color: #E2EBFA;\n",
              "      box-shadow: 0px 1px 2px rgba(60, 64, 67, 0.3), 0px 1px 3px 1px rgba(60, 64, 67, 0.15);\n",
              "      fill: #174EA6;\n",
              "    }\n",
              "\n",
              "    [theme=dark] .colab-df-convert {\n",
              "      background-color: #3B4455;\n",
              "      fill: #D2E3FC;\n",
              "    }\n",
              "\n",
              "    [theme=dark] .colab-df-convert:hover {\n",
              "      background-color: #434B5C;\n",
              "      box-shadow: 0px 1px 3px 1px rgba(0, 0, 0, 0.15);\n",
              "      filter: drop-shadow(0px 1px 2px rgba(0, 0, 0, 0.3));\n",
              "      fill: #FFFFFF;\n",
              "    }\n",
              "  </style>\n",
              "\n",
              "      <script>\n",
              "        const buttonEl =\n",
              "          document.querySelector('#df-1fb1db85-8beb-427c-b46f-561787ef31e9 button.colab-df-convert');\n",
              "        buttonEl.style.display =\n",
              "          google.colab.kernel.accessAllowed ? 'block' : 'none';\n",
              "\n",
              "        async function convertToInteractive(key) {\n",
              "          const element = document.querySelector('#df-1fb1db85-8beb-427c-b46f-561787ef31e9');\n",
              "          const dataTable =\n",
              "            await google.colab.kernel.invokeFunction('convertToInteractive',\n",
              "                                                     [key], {});\n",
              "          if (!dataTable) return;\n",
              "\n",
              "          const docLinkHtml = 'Like what you see? Visit the ' +\n",
              "            '<a target=\"_blank\" href=https://colab.research.google.com/notebooks/data_table.ipynb>data table notebook</a>'\n",
              "            + ' to learn more about interactive tables.';\n",
              "          element.innerHTML = '';\n",
              "          dataTable['output_type'] = 'display_data';\n",
              "          await google.colab.output.renderOutput(dataTable, element);\n",
              "          const docLink = document.createElement('div');\n",
              "          docLink.innerHTML = docLinkHtml;\n",
              "          element.appendChild(docLink);\n",
              "        }\n",
              "      </script>\n",
              "    </div>\n",
              "  </div>\n",
              "  "
            ]
          },
          "metadata": {},
          "execution_count": 6
        }
      ]
    },
    {
      "cell_type": "code",
      "source": [
        "import matplotlib.pyplot as plt\n",
        "bitcoin_prices.plot(figsize=(10, 7))\n",
        "plt.ylabel(\"BTC Price\")\n",
        "plt.legend(fontsize=14)"
      ],
      "metadata": {
        "colab": {
          "base_uri": "https://localhost:8080/",
          "height": 460
        },
        "id": "BGAc4ILJx9tw",
        "outputId": "5f3c81e6-74e5-4578-e7ef-6571a51fd9b7"
      },
      "execution_count": 7,
      "outputs": [
        {
          "output_type": "execute_result",
          "data": {
            "text/plain": [
              "<matplotlib.legend.Legend at 0x7f0be6c6f9d0>"
            ]
          },
          "metadata": {},
          "execution_count": 7
        },
        {
          "output_type": "display_data",
          "data": {
            "text/plain": [
              "<Figure size 720x504 with 1 Axes>"
            ],
            "image/png": "[encoded data removed]"
          },
          "metadata": {
            "needs_background": "light"
          }
        }
      ]
    },
    {
      "cell_type": "markdown",
      "source": [
        "## Importing time series with Python's CSV module"
      ],
      "metadata": {
        "id": "KYescfJWyJ8l"
      }
    },
    {
      "cell_type": "code",
      "source": [
        "import csv\n",
        "from datetime import datetime\n",
        "\n",
        "timesteps = []\n",
        "btc_price = []\n",
        "\n",
        "with open('/content/BTC_USD_2013-10-01_2021-05-18-CoinDesk.csv', 'r') as f:\n",
        "  csv_reader = csv.reader(f, delimiter=',') #format from csv\n",
        "  next(csv_reader) #skips  the first line a.k.a the labels / headers\n",
        "  for line in csv_reader:\n",
        "    timesteps.append(datetime.strptime(line[1], \"%Y-%m-%d\")) # get the second labels a.k.a Date from csv\n",
        "    btc_price.append(float(line[2])) # get closing price "
      ],
      "metadata": {
        "id": "Y7nnPJsz0LE_"
      },
      "execution_count": 8,
      "outputs": []
    },
    {
      "cell_type": "code",
      "source": [
        "timesteps[:10], btc_price[:10]"
      ],
      "metadata": {
        "colab": {
          "base_uri": "https://localhost:8080/"
        },
        "id": "_e6885qP1Scq",
        "outputId": "7a792fb5-5ed1-4321-b83b-4f1af127614c"
      },
      "execution_count": 9,
      "outputs": [
        {
          "output_type": "execute_result",
          "data": {
            "text/plain": [
              "([datetime.datetime(2013, 10, 1, 0, 0),\n",
              "  datetime.datetime(2013, 10, 2, 0, 0),\n",
              "  datetime.datetime(2013, 10, 3, 0, 0),\n",
              "  datetime.datetime(2013, 10, 4, 0, 0),\n",
              "  datetime.datetime(2013, 10, 5, 0, 0),\n",
              "  datetime.datetime(2013, 10, 6, 0, 0),\n",
              "  datetime.datetime(2013, 10, 7, 0, 0),\n",
              "  datetime.datetime(2013, 10, 8, 0, 0),\n",
              "  datetime.datetime(2013, 10, 9, 0, 0),\n",
              "  datetime.datetime(2013, 10, 10, 0, 0)],\n",
              " [123.65499,\n",
              "  125.455,\n",
              "  108.58483,\n",
              "  118.67466,\n",
              "  121.33866,\n",
              "  120.65533,\n",
              "  121.795,\n",
              "  123.033,\n",
              "  124.049,\n",
              "  125.96116])"
            ]
          },
          "metadata": {},
          "execution_count": 9
        }
      ]
    },
    {
      "cell_type": "markdown",
      "source": [
        "## Create train and test sets of our time series data (the wrong way)"
      ],
      "metadata": {
        "id": "CyyvOFfo1d8U"
      }
    },
    {
      "cell_type": "code",
      "source": [
        "# Get bitcoin date array\n",
        "timesteps = bitcoin_prices.index.to_numpy()\n",
        "prices = bitcoin_prices['Price'].to_numpy()\n",
        "\n",
        "timesteps[:10], prices[:10]"
      ],
      "metadata": {
        "colab": {
          "base_uri": "https://localhost:8080/"
        },
        "id": "Skp7vpjf_gLM",
        "outputId": "20e1e5c1-feb9-432f-e28b-3a2fb7429eaf"
      },
      "execution_count": 10,
      "outputs": [
        {
          "output_type": "execute_result",
          "data": {
            "text/plain": [
              "(array(['2013-10-01T00:00:00.000000000', '2013-10-02T00:00:00.000000000',\n",
              "        '2013-10-03T00:00:00.000000000', '2013-10-04T00:00:00.000000000',\n",
              "        '2013-10-05T00:00:00.000000000', '2013-10-06T00:00:00.000000000',\n",
              "        '2013-10-07T00:00:00.000000000', '2013-10-08T00:00:00.000000000',\n",
              "        '2013-10-09T00:00:00.000000000', '2013-10-10T00:00:00.000000000'],\n",
              "       dtype='datetime64[ns]'),\n",
              " array([123.65499, 125.455  , 108.58483, 118.67466, 121.33866, 120.65533,\n",
              "        121.795  , 123.033  , 124.049  , 125.96116]))"
            ]
          },
          "metadata": {},
          "execution_count": 10
        }
      ]
    },
    {
      "cell_type": "code",
      "source": [
        "from sklearn.model_selection import train_test_split\n",
        "\n",
        "X_train, X_test ,y_train, y_test = train_test_split(timesteps, \n",
        "                                                    prices, \n",
        "                                                    test_size=0.2,\n",
        "                                                    random_state=42)\n",
        "\n",
        "X_train.shape, X_test.shape, y_train.shape, y_test.shape"
      ],
      "metadata": {
        "colab": {
          "base_uri": "https://localhost:8080/"
        },
        "id": "OhODA24bCYzk",
        "outputId": "f6a6baae-cff8-4bc1-8b43-216c05caf38b"
      },
      "execution_count": 11,
      "outputs": [
        {
          "output_type": "execute_result",
          "data": {
            "text/plain": [
              "((2229,), (558,), (2229,), (558,))"
            ]
          },
          "metadata": {},
          "execution_count": 11
        }
      ]
    },
    {
      "cell_type": "code",
      "source": [
        "# Let's plot wrong train and test splits\n",
        "plt.figure(figsize=(10, 7))\n",
        "plt.scatter(X_train, y_train, s=5, label='Train data')\n",
        "plt.scatter(X_test, y_test, s=5, label='Test data')\n",
        "plt.show()"
      ],
      "metadata": {
        "colab": {
          "base_uri": "https://localhost:8080/",
          "height": 428
        },
        "id": "p6ACs4TtDl0H",
        "outputId": "da56ca11-3cff-4457-d775-fb0adc878fb1"
      },
      "execution_count": 12,
      "outputs": [
        {
          "output_type": "display_data",
          "data": {
            "text/plain": [
              "<Figure size 720x504 with 1 Axes>"
            ],
            "image/png": "[encoded data removed]"
          },
          "metadata": {
            "needs_background": "light"
          }
        }
      ]
    },
    {
      "cell_type": "markdown",
      "source": [
        "## Create train and test split for time series (the right way)"
      ],
      "metadata": {
        "id": "wyfkJnd_Xza_"
      }
    },
    {
      "cell_type": "code",
      "source": [
        "# Creat train and test splits the right way tfor time series data\n",
        "split_size = int(0.8 * len(prices)) # 80% train,\n",
        "\n",
        "# create train data splits\n",
        "X_train , y_train = timesteps[:split_size], prices[:split_size]\n",
        "X_test, y_test = timesteps[split_size:], prices[split_size:]\n",
        "\n",
        "\n",
        "len(X_train), len(X_test), len(y_train), len(y_test)"
      ],
      "metadata": {
        "colab": {
          "base_uri": "https://localhost:8080/"
        },
        "id": "rrfjhavYY0Mx",
        "outputId": "fac14b17-da8f-439b-abc6-857d3167dbfa"
      },
      "execution_count": 13,
      "outputs": [
        {
          "output_type": "execute_result",
          "data": {
            "text/plain": [
              "(2229, 558, 2229, 558)"
            ]
          },
          "metadata": {},
          "execution_count": 13
        }
      ]
    },
    {
      "cell_type": "code",
      "source": [
        "# Let's plot the right train and test splits\n",
        "plt.figure(figsize=(10, 7))\n",
        "plt.scatter(X_train, y_train, s=5, label='Train data')\n",
        "plt.scatter(X_test, y_test, s=5, label='Test data')\n",
        "plt.show()"
      ],
      "metadata": {
        "id": "5e1RD4iHZIo6",
        "outputId": "c2771290-39d7-43a7-e268-f12b8eaa5b10",
        "colab": {
          "base_uri": "https://localhost:8080/",
          "height": 54
        }
      },
      "execution_count": 14,
      "outputs": [
        {
          "output_type": "display_data",
          "data": {
            "text/plain": [
              "<Figure size 720x504 with 1 Axes>"
            ],
            "image/png": "[encoded data removed]"
          },
          "metadata": {
            "needs_background": "light"
          }
        }
      ]
    },
    {
      "cell_type": "markdown",
      "source": [
        "## Creating a plotting function"
      ],
      "metadata": {
        "id": "6Q_VOYYyZMW7"
      }
    },
    {
      "cell_type": "code",
      "source": [
        "\n",
        "\n",
        "# Create a function to plot time series data\n",
        "def plot_time_series(timesteps, values, format='.', start=0, end=None, label=None):\n",
        "  \"\"\"\n",
        "  Plots a timesteps (a series of points in time) against values (a series of values across timesteps).\n",
        "  \n",
        "  Parameters\n",
        "  ---------\n",
        "  timesteps : array of timesteps\n",
        "  values : array of values across time\n",
        "  format : style of plot, default \".\"\n",
        "  start : where to start the plot (setting a value will index from start of timesteps & values)\n",
        "  end : where to end the plot (setting a value will index from end of timesteps & values)\n",
        "  label : label to show on plot of values\n",
        "  \"\"\"\n",
        "  # Plot the series\n",
        "  plt.plot(timesteps[start:end], values[start:end], format, label=label)\n",
        "  plt.xlabel(\"Time\")\n",
        "  plt.ylabel(\"BTC Price\")\n",
        "  if label:\n",
        "    plt.legend(fontsize=14) # make label bigger\n",
        "  plt.grid(True)\n",
        "\n"
      ],
      "metadata": {
        "id": "SYPCfMRhHhVM"
      },
      "execution_count": 15,
      "outputs": []
    },
    {
      "cell_type": "code",
      "source": [
        "# Try out our plotting function\n",
        "plt.figure(figsize=(10, 7))\n",
        "plot_time_series(timesteps=X_train, values=y_train, label=\"Train data\")\n",
        "plot_time_series(timesteps=X_test, values=y_test, label=\"Test data\")"
      ],
      "metadata": {
        "colab": {
          "base_uri": "https://localhost:8080/",
          "height": 54
        },
        "id": "_0ZVKWnEHiD5",
        "outputId": "bab89c7f-e38b-4d72-d608-08437ee43bd6"
      },
      "execution_count": 16,
      "outputs": [
        {
          "output_type": "display_data",
          "data": {
            "text/plain": [
              "<Figure size 720x504 with 1 Axes>"
            ],
            "image/png": "[encoded data removed]"
          },
          "metadata": {
            "needs_background": "light"
          }
        }
      ]
    },
    {
      "cell_type": "markdown",
      "source": [
        "## Modelling Experiments\n",
        "\n",
        "We've got some bitcoin historical data, to model it let's run a series of modelling experiments to see which model performs best.\n",
        "\n",
        "**Experiments**\n",
        "\n",
        "* 0 Naive model\n",
        "* 1 Dense model\n",
        "* 2 Same as model 1\n",
        "* 3 Same as model 1\n",
        "* 4 Conv1D\n",
        "* 5 LSTM (RNN)\n",
        "* 6 Same as model 1 (but with multivariate data)\n",
        "* 7 N-BEATS algorithm\n",
        "* 8 Ensemble (multiple models stacked together)\n",
        "* 9 Future prediction model\n",
        "* 10 Same as model 1 (but with different data)"
      ],
      "metadata": {
        "id": "6nK43tFFIYGX"
      }
    },
    {
      "cell_type": "markdown",
      "source": [
        "## Model 0 : Naive model forecasts (baseline)\n",
        "\n",
        "$$\\hat{y}_{t} = y_{t-1}$$\n",
        "\n",
        "In English:\n",
        "> The prediction at timestep t (y_hat) is equal to the value at timestep t-1 (previous timestep) - this is for horizon of 1"
      ],
      "metadata": {
        "id": "z0phYeSwIoN2"
      }
    },
    {
      "cell_type": "code",
      "source": [
        "# Create a naive forecase\n",
        "naive_forecast = y_test[:-1]\n",
        "\n",
        "naive_forecast[:10], naive_forecast[-10:]"
      ],
      "metadata": {
        "colab": {
          "base_uri": "https://localhost:8080/"
        },
        "id": "n-KJbVUWKqAs",
        "outputId": "5ac58700-64ba-43da-805f-46ecf2b387e7"
      },
      "execution_count": 17,
      "outputs": [
        {
          "output_type": "execute_result",
          "data": {
            "text/plain": [
              "(array([9226.48582088, 8794.35864452, 8798.04205463, 9081.18687849,\n",
              "        8711.53433917, 8760.89271814, 8749.52059102, 8656.97092235,\n",
              "        8500.64355816, 8469.2608989 ]),\n",
              " array([57107.12067189, 58788.20967893, 58102.19142623, 55715.54665129,\n",
              "        56573.5554719 , 52147.82118698, 49764.1320816 , 50032.69313676,\n",
              "        47885.62525472, 45604.61575361]))"
            ]
          },
          "metadata": {},
          "execution_count": 17
        }
      ]
    },
    {
      "cell_type": "code",
      "source": [
        "# Plot naive forecast\n",
        "plt.figure(figsize=(10, 7))\n",
        "# plot_time_series(timesteps=X_train, values=y_train, start= 300, label=\"Train data\")\n",
        "plot_time_series(timesteps=X_test, values=y_test, start=300, format=\"-\", label=\"Test data\")\n",
        "plot_time_series(timesteps=X_test[1:], values=naive_forecast, start=300, format=\"-\", label=\"Naive forecast\");"
      ],
      "metadata": {
        "colab": {
          "base_uri": "https://localhost:8080/",
          "height": 54
        },
        "id": "go79mGM5Lz_O",
        "outputId": "a51d6bd0-df6d-4cb6-9302-bbd6b0791851"
      },
      "execution_count": 18,
      "outputs": [
        {
          "output_type": "display_data",
          "data": {
            "text/plain": [
              "<Figure size 720x504 with 1 Axes>"
            ],
            "image/png": "[encoded data removed]"
          },
          "metadata": {
            "needs_background": "light"
          }
        }
      ]
    },
    {
      "cell_type": "markdown",
      "source": [
        "## Evaluating a time series model\n",
        "\n",
        "Some evaluation metrics for time series forecasting\n",
        "\n",
        "What are we doing?\n",
        "\n",
        "We're predicting a number means we have a form of a regression problem.\n",
        "\n",
        "Because we're working on a regression.\n",
        "\n",
        "A few common regression metrics (which can also be used for time series forecasting):\n",
        "* MAE - Mean Absolute Error (on average prediction is this much different from this much true value)\n",
        "* MSE - Mean Squared Error\n",
        "* Huber - Combination of MSE and MAE. Less sensitive to outliers\n",
        "* Mean Absolute Percentage Error - sMAPE (Symmetric Mean Absolute Percentage Error)\n",
        "* Mean Absolute Scaled Error - (<1) if forecasts performs better than naive forecast **Note** : There are seasonal and non-seasonal\n",
        "\n",
        "**Note** For all of the above metrics, **lower is better**\n",
        "\n",
        "\n",
        "The main thing we're evaluating here is: **how do our model's forecasts (y_pred) compare against the actual values (y_true) or ground truth values**"
      ],
      "metadata": {
        "id": "84bK7wBrMeJj"
      }
    },
    {
      "cell_type": "markdown",
      "source": [
        "### MASE Implementation\n",
        "\n",
        "**Source** : https://www.sktime.org/en/stable/api_reference/auto_generated/sktime.performance_metrics.forecasting.MeanAbsoluteScaledError.html\n",
        "\n",
        "**2nd Source** : https://stackoverflow.com/questions/63485535/implementation-of-mean-absolute-scaled-error-in-tensorflow-python"
      ],
      "metadata": {
        "id": "dAX9fxwvuT4Q"
      }
    },
    {
      "cell_type": "code",
      "source": [
        "# MASE Implementation\n",
        "def mean_absolute_scaled_error(y_true, y_pred):\n",
        "  \"\"\"\n",
        "  Implement MASE (assuming no seasonality of data: i.e. Bitcoin marketplace is not seasonality)\n",
        "\n",
        "  \"\"\"\n",
        "  mae = tf.reduce_mean(tf.abs(y_true - y_pred))\n",
        "\n",
        "  # Find MAE of naive forecast (no seasonality)\n",
        "  mae_naive_no_season = tf.reduce_mean(tf.abs(y_true[1:] - y_true[:-1])) # our seasonality is 1 day (hence the shift of 1). i.e bitcoin is 1 per day\n",
        "\n",
        "  return mae / mae_naive_no_season"
      ],
      "metadata": {
        "id": "eJnlDBhTwbFW"
      },
      "execution_count": 19,
      "outputs": []
    },
    {
      "cell_type": "code",
      "source": [
        "mean_absolute_scaled_error(y_test[1:], naive_forecast).numpy() #y_test[1:] is based on what we index in line 18"
      ],
      "metadata": {
        "colab": {
          "base_uri": "https://localhost:8080/"
        },
        "id": "PlI-6UI4yJUB",
        "outputId": "c666957c-01c4-4541-8dac-c4f98b789838"
      },
      "execution_count": 20,
      "outputs": [
        {
          "output_type": "execute_result",
          "data": {
            "text/plain": [
              "0.9995699939182624"
            ]
          },
          "metadata": {},
          "execution_count": 20
        }
      ]
    },
    {
      "cell_type": "markdown",
      "source": [
        "## Function for all evaluation metrics "
      ],
      "metadata": {
        "id": "AzlasStcyS8-"
      }
    },
    {
      "cell_type": "code",
      "source": [
        "def evaluate_preds(y_true, y_pred):\n",
        "  \"\"\"\n",
        "  Return evaluation metrics in dictionary form of (MAE, MSE, sMAPE, and MASE)\n",
        "  \n",
        "  Make sure float32 datatype (for metric calculation)\n",
        "  \"\"\"\n",
        "  # Turning datatype to float32\n",
        "  y_true = tf.cast(y_true, dtype=tf.float32)\n",
        "  y_pred = tf.cast(y_pred, dtype=tf.float32)\n",
        "\n",
        "\n",
        "  # MAE\n",
        "  mae = tf.keras.metrics.mean_absolute_error(y_true, y_pred)\n",
        "\n",
        "  # MSE\n",
        "  mse = tf.keras.metrics.mean_squared_error(y_true, y_pred)\n",
        "\n",
        "  # RMSE\n",
        "  rmse = tf.sqrt(mse)\n",
        "\n",
        "  # sMAPE (MAPE and sMAPE is different)\n",
        "  mape = tf.keras.metrics.mean_absolute_percentage_error(y_true, y_pred) \n",
        "\n",
        "  # MASE\n",
        "  mase = mean_absolute_scaled_error(y_true, y_pred)\n",
        "\n",
        "  return {'MAE': mae.numpy(),\n",
        "          'MSE': mse.numpy(),\n",
        "          'RMSE': rmse.numpy(),\n",
        "          'MAPE': mape.numpy(),\n",
        "          'MASE': mase.numpy()} # convert to numpy so that it does not return as a tensor -> will create an error"
      ],
      "metadata": {
        "id": "yrg-ImK10rA1"
      },
      "execution_count": 21,
      "outputs": []
    },
    {
      "cell_type": "code",
      "source": [
        "naive_results = evaluate_preds(y_test[1:], naive_forecast)\n",
        "naive_results"
      ],
      "metadata": {
        "colab": {
          "base_uri": "https://localhost:8080/"
        },
        "id": "_I-PvQ1r2DFp",
        "outputId": "a89ca96f-103c-4dc6-b411-bff78d009604"
      },
      "execution_count": 22,
      "outputs": [
        {
          "output_type": "execute_result",
          "data": {
            "text/plain": [
              "{'MAE': 567.9802,\n",
              " 'MSE': 1147547.0,\n",
              " 'RMSE': 1071.2362,\n",
              " 'MAPE': 2.516525,\n",
              " 'MASE': 0.99957}"
            ]
          },
          "metadata": {},
          "execution_count": 22
        }
      ]
    },
    {
      "cell_type": "code",
      "source": [
        "naive_forecast[-10:]"
      ],
      "metadata": {
        "colab": {
          "base_uri": "https://localhost:8080/"
        },
        "id": "a9C91uWa2K5q",
        "outputId": "03ff64bb-6867-42fd-bd73-c8193739f949"
      },
      "execution_count": 23,
      "outputs": [
        {
          "output_type": "execute_result",
          "data": {
            "text/plain": [
              "array([57107.12067189, 58788.20967893, 58102.19142623, 55715.54665129,\n",
              "       56573.5554719 , 52147.82118698, 49764.1320816 , 50032.69313676,\n",
              "       47885.62525472, 45604.61575361])"
            ]
          },
          "metadata": {},
          "execution_count": 23
        }
      ]
    },
    {
      "cell_type": "code",
      "source": [
        "# On average there are 567 difference to the real value\n",
        "naive_results['MAE']"
      ],
      "metadata": {
        "colab": {
          "base_uri": "https://localhost:8080/"
        },
        "id": "MbbZztRH4JgB",
        "outputId": "b55191ce-fe09-44ed-d19c-1054ca4484d5"
      },
      "execution_count": 24,
      "outputs": [
        {
          "output_type": "execute_result",
          "data": {
            "text/plain": [
              "567.9802"
            ]
          },
          "metadata": {},
          "execution_count": 24
        }
      ]
    },
    {
      "cell_type": "code",
      "source": [
        "tf.reduce_mean(y_test)"
      ],
      "metadata": {
        "colab": {
          "base_uri": "https://localhost:8080/"
        },
        "id": "Ss_e-1_c4SBD",
        "outputId": "ce708219-2792-4320-d8fa-8341fa64f4bd"
      },
      "execution_count": 25,
      "outputs": [
        {
          "output_type": "execute_result",
          "data": {
            "text/plain": [
              "<tf.Tensor: shape=(), dtype=float64, numpy=20056.632963737222>"
            ]
          },
          "metadata": {},
          "execution_count": 25
        }
      ]
    },
    {
      "cell_type": "code",
      "source": [
        "tf.reduce_min(y_test), tf.reduce_max(y_test)"
      ],
      "metadata": {
        "colab": {
          "base_uri": "https://localhost:8080/"
        },
        "id": "ACV8t0ua4j7j",
        "outputId": "f121b4a1-2c58-4881-c735-e7f547ff1557"
      },
      "execution_count": 26,
      "outputs": [
        {
          "output_type": "execute_result",
          "data": {
            "text/plain": [
              "(<tf.Tensor: shape=(), dtype=float64, numpy=4944.7023359837>,\n",
              " <tf.Tensor: shape=(), dtype=float64, numpy=63346.7890351052>)"
            ]
          },
          "metadata": {},
          "execution_count": 26
        }
      ]
    },
    {
      "cell_type": "markdown",
      "source": [
        "## Other models you can use for baselines and for actual forecasts\n",
        "\n",
        "In this notebook, we're focused on TensorFlow and deep learning models.\n",
        "\n",
        "However there are plenty of other styles of time series model below:\n",
        "\n",
        "**Source** : \n",
        "\n",
        "Model/Library Name \tResource\n",
        "* Moving average \thttps://machinelearningmastery.com/moving-average-smoothing-for-time-series-forecasting-python/\n",
        "* ARIMA (Autoregression Integrated Moving Average) \thttps://machinelearningmastery.com/arima-for-time-series-forecasting-with-python/\n",
        "* sktime (Scikit-Learn for time series) \thttps://github.com/alan-turing-institute/sktime\n",
        "* TensorFlow Decision Forests (random forest, gradient boosting trees) \thttps://www.tensorflow.org/decision_forests\n",
        "* Facebook Kats (purpose-built forecasting and time series analysis library by Facebook) \thttps://github.com/facebookresearch/Kats\n",
        "* LinkedIn Greykite (flexible, intuitive and fast forecasts) \thttps://github.com/linkedin/greykite"
      ],
      "metadata": {
        "id": "eOHzhBqO4l_d"
      }
    },
    {
      "cell_type": "markdown",
      "source": [
        "## Format data part 2 : Windowing our dataset\n",
        "\n",
        "\n",
        "Why do we window?\n",
        "\n",
        "we window our time series to turn our datasets into a supervised learning problem.\n",
        "\n",
        "```\n",
        "Windowing for one week\n",
        "features -> labels\n",
        "[0, 1, 2, 3, 4, 5, 6] -> [7]\n",
        "[1, 2, 3, 4, 5, 6, 7] -> [8]\n",
        "```\n"
      ],
      "metadata": {
        "id": "xUOaDAUE5-1x"
      }
    },
    {
      "cell_type": "code",
      "source": [
        "# What we want to do with our bitcoin data\n",
        "print(f\"We want to use: {btc_price[:7]} to predict this: {btc_price[7]}\")"
      ],
      "metadata": {
        "colab": {
          "base_uri": "https://localhost:8080/"
        },
        "id": "sB6L-SaGLepg",
        "outputId": "411d479b-a7bc-482f-d2d1-62c28f7d94cf"
      },
      "execution_count": 27,
      "outputs": [
        {
          "output_type": "stream",
          "name": "stdout",
          "text": [
            "We want to use: [123.65499, 125.455, 108.58483, 118.67466, 121.33866, 120.65533, 121.795] to predict this: 123.033\n"
          ]
        }
      ]
    },
    {
      "cell_type": "code",
      "source": [
        "# Let's setup global variables for window and horizon size\n",
        "HORIZON = 1 # predict next 1 day\n",
        "WINDOW_SIZE = 7 # use the past week of Bitcoin data to make the prediction"
      ],
      "metadata": {
        "id": "9y3lp4soLzll"
      },
      "execution_count": 28,
      "outputs": []
    },
    {
      "cell_type": "code",
      "source": [
        "# Create function to label windowed data\n",
        "def get_labeled_windows(x, horizon):\n",
        "  \"\"\"\n",
        "  creates labels for windowed datasets\n",
        "  e.g. \n",
        "  \"\"\"\n",
        "  return x[:, :-horizon], x[:, -horizon:]"
      ],
      "metadata": {
        "id": "gKeygPa-MU-t"
      },
      "execution_count": 29,
      "outputs": []
    },
    {
      "cell_type": "code",
      "source": [
        "# Test out the window labelling function\n",
        "test_window, test_label = get_labeled_windows(tf.expand_dims(tf.range(8) + 1, axis=0), 1)\n",
        "test_window, test_label"
      ],
      "metadata": {
        "colab": {
          "base_uri": "https://localhost:8080/"
        },
        "id": "XjqQwvQ4M8OO",
        "outputId": "53e46fe0-f2c6-4c05-d9b8-7519e16f05ed"
      },
      "execution_count": 30,
      "outputs": [
        {
          "output_type": "execute_result",
          "data": {
            "text/plain": [
              "(<tf.Tensor: shape=(1, 7), dtype=int32, numpy=array([[1, 2, 3, 4, 5, 6, 7]], dtype=int32)>,\n",
              " <tf.Tensor: shape=(1, 1), dtype=int32, numpy=array([[8]], dtype=int32)>)"
            ]
          },
          "metadata": {},
          "execution_count": 30
        }
      ]
    },
    {
      "cell_type": "code",
      "source": [
        "print(f\"Window: {tf.squeeze(test_window).numpy()} -> Label: {tf.squeeze(test_label).numpy()}\")"
      ],
      "metadata": {
        "colab": {
          "base_uri": "https://localhost:8080/"
        },
        "id": "1XFcoexXNJPy",
        "outputId": "51868c88-ef8d-4383-b11a-c88a8b315249"
      },
      "execution_count": 31,
      "outputs": [
        {
          "output_type": "stream",
          "name": "stdout",
          "text": [
            "Window: [1 2 3 4 5 6 7] -> Label: 8\n"
          ]
        }
      ]
    },
    {
      "cell_type": "markdown",
      "source": [
        "We've got a way to label our windowed data.\n",
        "\n",
        "However, this only works on small sscale.\n",
        "\n",
        "We need a way to do the above across our entire time series.\n",
        "\n",
        "We could do this with Python for loops, however, for large time series, that'd be quite slow.\n",
        "To speed things up, we'll leverage Numpy's array indexing\n",
        "\n",
        "Our function will:\n",
        "1. Create a window step of specific window size\n",
        "2. Use NumPy indxing to create a 2D array of multiple window steps\n",
        "\n",
        "**Source**  The function we're bout to create has been adapted to the following article: https://towardsdatascience.com/fast-and-robust-sliding-window-vectorization-with-numpy-3ad950ed62f5"
      ],
      "metadata": {
        "id": "Z6VKAkFpNic1"
      }
    },
    {
      "cell_type": "code",
      "source": [
        "# Create a function to view NumPy arrays as windows\n",
        "import numpy as np\n",
        "\n",
        "def make_windows(x, window_size=WINDOW_SIZE, horizon=HORIZON):\n",
        "  \"\"\"\n",
        "  Turns a 1D array into a 2D array of sequential labelled windows of window_size with horizon size labels.\n",
        "  \"\"\"\n",
        "  # 1. Create a window step of specific window size\n",
        "  window_step = np.expand_dims(np.arange(window_size + horizon), axis=0)\n",
        "\n",
        "  # 2. Use NumPy indexing to create a 2D array of multiple window\n",
        "  window_indexes = window_step + np.expand_dims(np.arange(len(x) - (window_size + horizon-1)), axis=0).T # create 2D array of windows \n",
        "  # print(f\"Window indexes:\\n {window_indexes, window_indexes.shape}\")\n",
        " \n",
        "  # 3. Index on the target array (a time series) with 2D array of multiple window steps\n",
        "  windowed_array = x[window_indexes]\n",
        "  # print(windowed_array)\n",
        "\n",
        "  # 4. Get the labeled windows\n",
        "  windows, labels = get_labeled_windows(windowed_array, horizon=HORIZON)\n",
        "\n",
        "  return windows, labels\n"
      ],
      "metadata": {
        "id": "efoy3IDpPabc"
      },
      "execution_count": 32,
      "outputs": []
    },
    {
      "cell_type": "code",
      "source": [
        "# make_windows(prices, window_size=WINDOW_SIZE, horizon=HORIZON) # tweak at the window indexes"
      ],
      "metadata": {
        "id": "PL88ZzV6usuw"
      },
      "execution_count": 33,
      "outputs": []
    },
    {
      "cell_type": "code",
      "source": [
        "full_windows, full_labels = make_windows(prices, WINDOW_SIZE, HORIZON)\n",
        "len(full_windows), len(full_labels)"
      ],
      "metadata": {
        "colab": {
          "base_uri": "https://localhost:8080/"
        },
        "id": "Y4VgBJ5nuxVO",
        "outputId": "1a285107-989f-4d27-d623-682f55c9b2f5"
      },
      "execution_count": 34,
      "outputs": [
        {
          "output_type": "execute_result",
          "data": {
            "text/plain": [
              "(2780, 2780)"
            ]
          },
          "metadata": {},
          "execution_count": 34
        }
      ]
    },
    {
      "cell_type": "code",
      "source": [
        "# View the first 3 windows/labels\n",
        "for i in range(3):\n",
        "  print(f\"Window: {full_windows[i]} -> Horizon: {full_labels[i]}\")"
      ],
      "metadata": {
        "colab": {
          "base_uri": "https://localhost:8080/"
        },
        "id": "KXKD5YVXvrZE",
        "outputId": "b23875d2-52c0-4d4b-921d-e20510140742"
      },
      "execution_count": 35,
      "outputs": [
        {
          "output_type": "stream",
          "name": "stdout",
          "text": [
            "Window: [123.65499 125.455   108.58483 118.67466 121.33866 120.65533 121.795  ] -> Horizon: [123.033]\n",
            "Window: [125.455   108.58483 118.67466 121.33866 120.65533 121.795   123.033  ] -> Horizon: [124.049]\n",
            "Window: [108.58483 118.67466 121.33866 120.65533 121.795   123.033   124.049  ] -> Horizon: [125.96116]\n"
          ]
        }
      ]
    },
    {
      "cell_type": "code",
      "source": [
        "# View the last 3 windows/labels\n",
        "for i in range(3):\n",
        "  print(f\"Window: {full_windows[i-3]} -> Horizon: {full_labels[i-3]}\")"
      ],
      "metadata": {
        "colab": {
          "base_uri": "https://localhost:8080/"
        },
        "id": "dTqRduxrvsnh",
        "outputId": "c22aa225-36b5-46f6-fc3a-85c05d881eaf"
      },
      "execution_count": 36,
      "outputs": [
        {
          "output_type": "stream",
          "name": "stdout",
          "text": [
            "Window: [58788.20967893 58102.19142623 55715.54665129 56573.5554719\n",
            " 52147.82118698 49764.1320816  50032.69313676] -> Horizon: [47885.62525472]\n",
            "Window: [58102.19142623 55715.54665129 56573.5554719  52147.82118698\n",
            " 49764.1320816  50032.69313676 47885.62525472] -> Horizon: [45604.61575361]\n",
            "Window: [55715.54665129 56573.5554719  52147.82118698 49764.1320816\n",
            " 50032.69313676 47885.62525472 45604.61575361] -> Horizon: [43144.47129086]\n"
          ]
        }
      ]
    },
    {
      "cell_type": "markdown",
      "source": [
        "**Note** There's a functio nwhich does similar to the above in `tf.keras.preprocessing`\n",
        "\n",
        "**Source** https://www.tensorflow.org/api_docs/python/tf/keras/utils/timeseries_dataset_from_array"
      ],
      "metadata": {
        "id": "9wWsDRqBwPVl"
      }
    },
    {
      "cell_type": "markdown",
      "source": [
        "## Turning windows into training and test sets"
      ],
      "metadata": {
        "id": "7J4wANiowrJS"
      }
    },
    {
      "cell_type": "code",
      "source": [
        "# def Make the train/test splits\n",
        "def make_train_test_splits(windows, labels, test_split=0.2):\n",
        "  # test_size = int(test_split * (len(windows)))\n",
        "  # split_size = len(windows) - test_size\n",
        "  split_size = int((1 - test_split) * len(windows))\n",
        "  X_train, y_train = windows[:split_size], labels[:split_size]\n",
        "  X_test, y_test = windows[split_size:], labels[split_size:]\n",
        "\n",
        "  return X_train, X_test, y_train, y_test\n",
        "  "
      ],
      "metadata": {
        "id": "EqU6Hdqjw9e7"
      },
      "execution_count": 37,
      "outputs": []
    },
    {
      "cell_type": "code",
      "source": [
        "train_windows, test_windows, train_labels, test_labels = make_train_test_splits(full_windows, full_labels)"
      ],
      "metadata": {
        "id": "JTlyCEC8xrfV"
      },
      "execution_count": 38,
      "outputs": []
    },
    {
      "cell_type": "code",
      "source": [
        "len(train_labels), len(test_windows)"
      ],
      "metadata": {
        "colab": {
          "base_uri": "https://localhost:8080/"
        },
        "id": "hChN_ypsxwJ5",
        "outputId": "d3b57e6d-3ad5-4b73-fa6b-45fde81e6c86"
      },
      "execution_count": 39,
      "outputs": [
        {
          "output_type": "execute_result",
          "data": {
            "text/plain": [
              "(2224, 556)"
            ]
          },
          "metadata": {},
          "execution_count": 39
        }
      ]
    },
    {
      "cell_type": "code",
      "source": [
        "train_windows[:5], train_labels[:5]"
      ],
      "metadata": {
        "colab": {
          "base_uri": "https://localhost:8080/"
        },
        "id": "eDyalBL1xxwT",
        "outputId": "12b11fab-61c7-492f-842a-fd04213a15aa"
      },
      "execution_count": 40,
      "outputs": [
        {
          "output_type": "execute_result",
          "data": {
            "text/plain": [
              "(array([[123.65499, 125.455  , 108.58483, 118.67466, 121.33866, 120.65533,\n",
              "         121.795  ],\n",
              "        [125.455  , 108.58483, 118.67466, 121.33866, 120.65533, 121.795  ,\n",
              "         123.033  ],\n",
              "        [108.58483, 118.67466, 121.33866, 120.65533, 121.795  , 123.033  ,\n",
              "         124.049  ],\n",
              "        [118.67466, 121.33866, 120.65533, 121.795  , 123.033  , 124.049  ,\n",
              "         125.96116],\n",
              "        [121.33866, 120.65533, 121.795  , 123.033  , 124.049  , 125.96116,\n",
              "         125.27966]]), array([[123.033  ],\n",
              "        [124.049  ],\n",
              "        [125.96116],\n",
              "        [125.27966],\n",
              "        [125.9275 ]]))"
            ]
          },
          "metadata": {},
          "execution_count": 40
        }
      ]
    },
    {
      "cell_type": "code",
      "source": [],
      "metadata": {
        "id": "R32C04lhx0xs"
      },
      "execution_count": 40,
      "outputs": []
    },
    {
      "cell_type": "markdown",
      "source": [
        "## Make a Modelling checkpoint callback\n",
        "\n",
        "Because our model's performance will fluctuate from experiment to experiment, we're going to write a model checkpoint so we can compare apples to apples.\n",
        "\n",
        "More spesificially, we want to compare each of our model's best performances against the other model's best performances.\n",
        "\n",
        "For example if our model performs the best on epoch 55 (but we're training for 100 epochs), we want to load and evaluate the model saved on epoch 55."
      ],
      "metadata": {
        "id": "p_atmuuNx1go"
      }
    },
    {
      "cell_type": "code",
      "source": [
        "import os\n",
        "\n",
        "# Create a function to implement a ModelCheckpoint callback with a spesific filename\n",
        "def create_model_checkpoint(model_name, save_path='model_experiments'):\n",
        "  return tf.keras.callbacks.ModelCheckpoint(filepath=os.path.join(save_path , model_name),\n",
        "                                            verbose=0,\n",
        "                                            monitor='val_loss',\n",
        "                                            save_best_only=True)"
      ],
      "metadata": {
        "id": "ulpKKjz6tNtL"
      },
      "execution_count": 41,
      "outputs": []
    },
    {
      "cell_type": "markdown",
      "source": [
        "## Model 1 : Dense model (window = 7, horizon = 1)\n",
        "\n",
        "Our first deep model is going to be a simple dense model:\n",
        "* A single dense layer with 128 hidden units and ReLU\n",
        "* An output layer with linear activation (no activation)\n",
        "* Adam optimizer and MAE loss function\n",
        "* Batch size of 128 (previously we've used 32)\n",
        "* 100 epochs\n",
        "\n",
        "Why these value?\n",
        "I picked them out of experimentation.\n",
        "* Hyperparameters = values a machine learning practitioner can adjust themselves.\n",
        "* Parameter = Values a model learns on its own."
      ],
      "metadata": {
        "id": "-zMD4QukuhFJ"
      }
    },
    {
      "cell_type": "code",
      "source": [
        "import tensorflow as tf\n",
        "from tensorflow.keras import layers\n",
        "\n",
        "# Set random seed for a reproducible results as possible\n",
        "tf.random.set_seed(42)\n",
        "\n",
        "# 1. Construct model\n",
        "model_1 = tf.keras.Sequential([\n",
        "    layers.Dense(128, activation='relu'),\n",
        "    layers.Dense(HORIZON, activation='linear') # linear activation is the same as having no activation\n",
        "], name='model_1_dense')\n",
        "\n",
        "# 2. Compile\n",
        "model_1.compile(loss='mae',\n",
        "                optimizer='adam',\n",
        "                metrics=['mae', 'mse'])\n",
        "# 3. Fit the model\n",
        "model_1.fit(train_windows, train_labels, epochs=100, verbose=1,\n",
        "            batch_size=128,\n",
        "            validation_data=(test_windows, test_labels),\n",
        "            callbacks=[create_model_checkpoint(model_name=model_1.name)])\n"
      ],
      "metadata": {
        "colab": {
          "base_uri": "https://localhost:8080/"
        },
        "id": "jNbxmMitvfC0",
        "outputId": "78680910-920c-496a-952a-d5314f87a6a9"
      },
      "execution_count": 42,
      "outputs": [
        {
          "output_type": "stream",
          "name": "stdout",
          "text": [
            "Epoch 1/100\n",
            "18/18 [==============================] - 5s 50ms/step - loss: 780.3455 - mae: 780.3455 - mse: 2312725.7500 - val_loss: 2279.6528 - val_mae: 2279.6528 - val_mse: 12772731.0000\n",
            "Epoch 2/100\n",
            "18/18 [==============================] - 0s 26ms/step - loss: 247.6756 - mae: 247.6756 - mse: 285481.1875 - val_loss: 1005.9993 - val_mae: 1005.9993 - val_mse: 3441833.2500\n",
            "Epoch 3/100\n",
            "18/18 [==============================] - 0s 24ms/step - loss: 188.4116 - mae: 188.4116 - mse: 171891.6094 - val_loss: 923.2862 - val_mae: 923.2861 - val_mse: 2868220.7500\n",
            "Epoch 4/100\n",
            "18/18 [==============================] - 0s 26ms/step - loss: 169.4340 - mae: 169.4340 - mse: 151700.5781 - val_loss: 900.5872 - val_mae: 900.5872 - val_mse: 2683715.5000\n",
            "Epoch 5/100\n",
            "18/18 [==============================] - 0s 27ms/step - loss: 165.0894 - mae: 165.0894 - mse: 145490.7812 - val_loss: 895.2237 - val_mae: 895.2237 - val_mse: 2564574.5000\n",
            "Epoch 6/100\n",
            "18/18 [==============================] - 0s 27ms/step - loss: 158.5210 - mae: 158.5210 - mse: 133817.7344 - val_loss: 855.1984 - val_mae: 855.1984 - val_mse: 2481873.2500\n",
            "Epoch 7/100\n",
            "18/18 [==============================] - 0s 26ms/step - loss: 151.3566 - mae: 151.3566 - mse: 123446.9766 - val_loss: 840.9166 - val_mae: 840.9166 - val_mse: 2276451.5000\n",
            "Epoch 8/100\n",
            "18/18 [==============================] - 0s 26ms/step - loss: 145.2560 - mae: 145.2560 - mse: 117694.5000 - val_loss: 803.5956 - val_mae: 803.5956 - val_mse: 2140573.5000\n",
            "Epoch 9/100\n",
            "18/18 [==============================] - 0s 26ms/step - loss: 144.3546 - mae: 144.3546 - mse: 115269.3047 - val_loss: 799.5454 - val_mae: 799.5454 - val_mse: 2049207.7500\n",
            "Epoch 10/100\n",
            "18/18 [==============================] - 0s 26ms/step - loss: 141.2943 - mae: 141.2943 - mse: 112394.5938 - val_loss: 763.5010 - val_mae: 763.5010 - val_mse: 1933140.7500\n",
            "Epoch 11/100\n",
            "18/18 [==============================] - 0s 4ms/step - loss: 135.6595 - mae: 135.6595 - mse: 104118.2344 - val_loss: 771.3356 - val_mae: 771.3356 - val_mse: 1885849.7500\n",
            "Epoch 12/100\n",
            "18/18 [==============================] - 0s 4ms/step - loss: 134.1700 - mae: 134.1700 - mse: 101780.8672 - val_loss: 782.8079 - val_mae: 782.8079 - val_mse: 1881727.1250\n",
            "Epoch 13/100\n",
            "18/18 [==============================] - 0s 5ms/step - loss: 134.6015 - mae: 134.6015 - mse: 102345.2266 - val_loss: 784.4449 - val_mae: 784.4449 - val_mse: 1860996.1250\n",
            "Epoch 14/100\n",
            "18/18 [==============================] - 0s 26ms/step - loss: 130.6127 - mae: 130.6127 - mse: 96225.1328 - val_loss: 751.3234 - val_mae: 751.3233 - val_mse: 1749609.0000\n",
            "Epoch 15/100\n",
            "18/18 [==============================] - 0s 26ms/step - loss: 128.8347 - mae: 128.8347 - mse: 94306.9922 - val_loss: 696.5756 - val_mae: 696.5756 - val_mse: 1606352.3750\n",
            "Epoch 16/100\n",
            "18/18 [==============================] - 0s 5ms/step - loss: 124.7739 - mae: 124.7739 - mse: 90394.9375 - val_loss: 702.4698 - val_mae: 702.4698 - val_mse: 1592416.2500\n",
            "Epoch 17/100\n",
            "18/18 [==============================] - 0s 5ms/step - loss: 123.4474 - mae: 123.4474 - mse: 89247.7031 - val_loss: 704.9239 - val_mae: 704.9239 - val_mse: 1580782.7500\n",
            "Epoch 18/100\n",
            "18/18 [==============================] - 0s 26ms/step - loss: 122.2105 - mae: 122.2105 - mse: 87607.5938 - val_loss: 667.9724 - val_mae: 667.9724 - val_mse: 1498881.6250\n",
            "Epoch 19/100\n",
            "18/18 [==============================] - 0s 4ms/step - loss: 121.7263 - mae: 121.7263 - mse: 86632.2422 - val_loss: 718.8796 - val_mae: 718.8796 - val_mse: 1589299.2500\n",
            "Epoch 20/100\n",
            "18/18 [==============================] - 0s 27ms/step - loss: 119.2420 - mae: 119.2420 - mse: 84334.3203 - val_loss: 657.0666 - val_mae: 657.0666 - val_mse: 1447501.1250\n",
            "Epoch 21/100\n",
            "18/18 [==============================] - 1s 37ms/step - loss: 121.2275 - mae: 121.2275 - mse: 85743.3828 - val_loss: 637.0332 - val_mae: 637.0332 - val_mse: 1401774.1250\n",
            "Epoch 22/100\n",
            "18/18 [==============================] - 0s 5ms/step - loss: 119.9544 - mae: 119.9544 - mse: 84050.1094 - val_loss: 671.2487 - val_mae: 671.2487 - val_mse: 1447895.6250\n",
            "Epoch 23/100\n",
            "18/18 [==============================] - 0s 26ms/step - loss: 121.9248 - mae: 121.9248 - mse: 83746.1250 - val_loss: 633.3591 - val_mae: 633.3591 - val_mse: 1367377.8750\n",
            "Epoch 24/100\n",
            "18/18 [==============================] - 0s 25ms/step - loss: 116.3665 - mae: 116.3665 - mse: 81446.6562 - val_loss: 624.4852 - val_mae: 624.4852 - val_mse: 1348960.7500\n",
            "Epoch 25/100\n",
            "18/18 [==============================] - 0s 26ms/step - loss: 114.6816 - mae: 114.6816 - mse: 78912.8359 - val_loss: 619.7570 - val_mae: 619.7570 - val_mse: 1351089.7500\n",
            "Epoch 26/100\n",
            "18/18 [==============================] - 0s 26ms/step - loss: 116.4455 - mae: 116.4455 - mse: 79365.5938 - val_loss: 615.6364 - val_mae: 615.6364 - val_mse: 1321514.3750\n",
            "Epoch 27/100\n",
            "18/18 [==============================] - 0s 4ms/step - loss: 116.5868 - mae: 116.5868 - mse: 78672.9062 - val_loss: 615.9629 - val_mae: 615.9629 - val_mse: 1313077.6250\n",
            "Epoch 28/100\n",
            "18/18 [==============================] - 0s 26ms/step - loss: 113.4691 - mae: 113.4691 - mse: 77440.1016 - val_loss: 608.0921 - val_mae: 608.0921 - val_mse: 1309775.3750\n",
            "Epoch 29/100\n",
            "18/18 [==============================] - 0s 5ms/step - loss: 113.7598 - mae: 113.7598 - mse: 78506.9531 - val_loss: 621.9305 - val_mae: 621.9305 - val_mse: 1313324.6250\n",
            "Epoch 30/100\n",
            "18/18 [==============================] - 0s 26ms/step - loss: 116.8613 - mae: 116.8613 - mse: 79236.4609 - val_loss: 604.4056 - val_mae: 604.4056 - val_mse: 1283407.8750\n",
            "Epoch 31/100\n",
            "18/18 [==============================] - 0s 5ms/step - loss: 111.9375 - mae: 111.9375 - mse: 74849.0703 - val_loss: 609.3882 - val_mae: 609.3882 - val_mse: 1284506.2500\n",
            "Epoch 32/100\n",
            "18/18 [==============================] - 0s 26ms/step - loss: 112.4175 - mae: 112.4175 - mse: 77178.5859 - val_loss: 603.0588 - val_mae: 603.0588 - val_mse: 1273059.5000\n",
            "Epoch 33/100\n",
            "18/18 [==============================] - 0s 5ms/step - loss: 112.6697 - mae: 112.6697 - mse: 75787.9766 - val_loss: 645.6973 - val_mae: 645.6973 - val_mse: 1353255.7500\n",
            "Epoch 34/100\n",
            "18/18 [==============================] - 0s 4ms/step - loss: 111.9867 - mae: 111.9867 - mse: 77245.7266 - val_loss: 604.7634 - val_mae: 604.7634 - val_mse: 1289360.3750\n",
            "Epoch 35/100\n",
            "18/18 [==============================] - 0s 26ms/step - loss: 110.9451 - mae: 110.9451 - mse: 75301.7812 - val_loss: 593.4648 - val_mae: 593.4648 - val_mse: 1250491.3750\n",
            "Epoch 36/100\n",
            "18/18 [==============================] - 0s 4ms/step - loss: 114.4816 - mae: 114.4816 - mse: 76138.5391 - val_loss: 608.0074 - val_mae: 608.0074 - val_mse: 1269272.3750\n",
            "Epoch 37/100\n",
            "18/18 [==============================] - 0s 5ms/step - loss: 110.2016 - mae: 110.2016 - mse: 74635.3047 - val_loss: 597.2308 - val_mae: 597.2308 - val_mse: 1248474.0000\n",
            "Epoch 38/100\n",
            "18/18 [==============================] - 0s 5ms/step - loss: 112.2372 - mae: 112.2372 - mse: 75821.6953 - val_loss: 637.9798 - val_mae: 637.9798 - val_mse: 1366130.8750\n",
            "Epoch 39/100\n",
            "18/18 [==============================] - 0s 26ms/step - loss: 115.1289 - mae: 115.1289 - mse: 76339.6797 - val_loss: 587.4680 - val_mae: 587.4680 - val_mse: 1233512.3750\n",
            "Epoch 40/100\n",
            "18/18 [==============================] - 0s 4ms/step - loss: 110.0854 - mae: 110.0854 - mse: 73528.4766 - val_loss: 592.7117 - val_mae: 592.7117 - val_mse: 1251474.6250\n",
            "Epoch 41/100\n",
            "18/18 [==============================] - 0s 4ms/step - loss: 110.6344 - mae: 110.6344 - mse: 73528.7891 - val_loss: 593.8997 - val_mae: 593.8997 - val_mse: 1253678.5000\n",
            "Epoch 42/100\n",
            "18/18 [==============================] - 0s 4ms/step - loss: 113.5762 - mae: 113.5762 - mse: 77076.7031 - val_loss: 636.3674 - val_mae: 636.3674 - val_mse: 1317283.5000\n",
            "Epoch 43/100\n",
            "18/18 [==============================] - 0s 5ms/step - loss: 116.2285 - mae: 116.2285 - mse: 74712.2031 - val_loss: 662.9263 - val_mae: 662.9263 - val_mse: 1419201.7500\n",
            "Epoch 44/100\n",
            "18/18 [==============================] - 0s 4ms/step - loss: 120.0192 - mae: 120.0192 - mse: 80971.8750 - val_loss: 635.6360 - val_mae: 635.6360 - val_mse: 1345999.3750\n",
            "Epoch 45/100\n",
            "18/18 [==============================] - 0s 6ms/step - loss: 110.9675 - mae: 110.9675 - mse: 74941.2891 - val_loss: 601.9926 - val_mae: 601.9926 - val_mse: 1244816.7500\n",
            "Epoch 46/100\n",
            "18/18 [==============================] - 0s 4ms/step - loss: 111.6012 - mae: 111.6012 - mse: 74565.6016 - val_loss: 593.3531 - val_mae: 593.3531 - val_mse: 1248764.3750\n",
            "Epoch 47/100\n",
            "18/18 [==============================] - 0s 5ms/step - loss: 109.6161 - mae: 109.6161 - mse: 74190.7109 - val_loss: 637.0011 - val_mae: 637.0011 - val_mse: 1314970.2500\n",
            "Epoch 48/100\n",
            "18/18 [==============================] - 0s 4ms/step - loss: 109.1368 - mae: 109.1368 - mse: 72792.5547 - val_loss: 598.4197 - val_mae: 598.4197 - val_mse: 1234610.1250\n",
            "Epoch 49/100\n",
            "18/18 [==============================] - 0s 27ms/step - loss: 112.4355 - mae: 112.4355 - mse: 73980.3359 - val_loss: 579.7042 - val_mae: 579.7042 - val_mse: 1208301.8750\n",
            "Epoch 50/100\n",
            "18/18 [==============================] - 0s 5ms/step - loss: 110.2108 - mae: 110.2108 - mse: 72939.7109 - val_loss: 639.2327 - val_mae: 639.2327 - val_mse: 1347994.1250\n",
            "Epoch 51/100\n",
            "18/18 [==============================] - 0s 5ms/step - loss: 111.0958 - mae: 111.0958 - mse: 73281.9062 - val_loss: 597.3571 - val_mae: 597.3571 - val_mse: 1229791.1250\n",
            "Epoch 52/100\n",
            "18/18 [==============================] - 0s 5ms/step - loss: 110.7351 - mae: 110.7351 - mse: 74529.6328 - val_loss: 580.7227 - val_mae: 580.7227 - val_mse: 1215477.1250\n",
            "Epoch 53/100\n",
            "18/18 [==============================] - 0s 4ms/step - loss: 111.1785 - mae: 111.1785 - mse: 74149.4766 - val_loss: 648.3586 - val_mae: 648.3586 - val_mse: 1336951.1250\n",
            "Epoch 54/100\n",
            "18/18 [==============================] - 0s 4ms/step - loss: 114.0831 - mae: 114.0831 - mse: 74815.0781 - val_loss: 593.2006 - val_mae: 593.2006 - val_mse: 1220661.2500\n",
            "Epoch 55/100\n",
            "18/18 [==============================] - 0s 25ms/step - loss: 110.4910 - mae: 110.4910 - mse: 74711.2500 - val_loss: 579.5067 - val_mae: 579.5067 - val_mse: 1211580.3750\n",
            "Epoch 56/100\n",
            "18/18 [==============================] - 0s 4ms/step - loss: 108.0488 - mae: 108.0488 - mse: 71844.1562 - val_loss: 807.3853 - val_mae: 807.3853 - val_mse: 1859292.5000\n",
            "Epoch 57/100\n",
            "18/18 [==============================] - 0s 5ms/step - loss: 125.0614 - mae: 125.0614 - mse: 84025.2812 - val_loss: 674.1658 - val_mae: 674.1658 - val_mse: 1437686.8750\n",
            "Epoch 58/100\n",
            "18/18 [==============================] - 0s 4ms/step - loss: 115.4340 - mae: 115.4340 - mse: 73710.7422 - val_loss: 582.2698 - val_mae: 582.2698 - val_mse: 1202679.5000\n",
            "Epoch 59/100\n",
            "18/18 [==============================] - 0s 4ms/step - loss: 110.0881 - mae: 110.0881 - mse: 72845.1172 - val_loss: 606.7640 - val_mae: 606.7640 - val_mse: 1267544.0000\n",
            "Epoch 60/100\n",
            "18/18 [==============================] - 0s 5ms/step - loss: 108.7156 - mae: 108.7156 - mse: 72675.7734 - val_loss: 602.3099 - val_mae: 602.3099 - val_mse: 1234690.0000\n",
            "Epoch 61/100\n",
            "18/18 [==============================] - 0s 27ms/step - loss: 108.1525 - mae: 108.1525 - mse: 72252.1250 - val_loss: 573.9990 - val_mae: 573.9990 - val_mse: 1189583.5000\n",
            "Epoch 62/100\n",
            "18/18 [==============================] - 0s 4ms/step - loss: 107.3726 - mae: 107.3726 - mse: 70822.7891 - val_loss: 581.7015 - val_mae: 581.7015 - val_mse: 1214006.6250\n",
            "Epoch 63/100\n",
            "18/18 [==============================] - 0s 4ms/step - loss: 110.7667 - mae: 110.7667 - mse: 73178.4453 - val_loss: 637.5243 - val_mae: 637.5243 - val_mse: 1311201.6250\n",
            "Epoch 64/100\n",
            "18/18 [==============================] - 0s 4ms/step - loss: 110.1539 - mae: 110.1539 - mse: 72588.2188 - val_loss: 586.6598 - val_mae: 586.6598 - val_mse: 1207116.3750\n",
            "Epoch 65/100\n",
            "18/18 [==============================] - 0s 26ms/step - loss: 108.2325 - mae: 108.2325 - mse: 71962.0859 - val_loss: 573.5618 - val_mae: 573.5618 - val_mse: 1188986.2500\n",
            "Epoch 66/100\n",
            "18/18 [==============================] - 1s 38ms/step - loss: 108.6825 - mae: 108.6825 - mse: 71026.3516 - val_loss: 572.2206 - val_mae: 572.2206 - val_mse: 1187818.3750\n",
            "Epoch 67/100\n",
            "18/18 [==============================] - 0s 4ms/step - loss: 106.6371 - mae: 106.6371 - mse: 70166.2578 - val_loss: 646.6359 - val_mae: 646.6359 - val_mse: 1356393.0000\n",
            "Epoch 68/100\n",
            "18/18 [==============================] - 0s 5ms/step - loss: 114.1603 - mae: 114.1603 - mse: 71297.3203 - val_loss: 681.8572 - val_mae: 681.8572 - val_mse: 1455430.5000\n",
            "Epoch 69/100\n",
            "18/18 [==============================] - 0s 5ms/step - loss: 124.5514 - mae: 124.5514 - mse: 81238.9609 - val_loss: 655.9892 - val_mae: 655.9892 - val_mse: 1383324.6250\n",
            "Epoch 70/100\n",
            "18/18 [==============================] - 0s 4ms/step - loss: 125.0234 - mae: 125.0234 - mse: 83058.2109 - val_loss: 601.0039 - val_mae: 601.0039 - val_mse: 1256963.6250\n",
            "Epoch 71/100\n",
            "18/18 [==============================] - 0s 4ms/step - loss: 110.3652 - mae: 110.3652 - mse: 71691.4922 - val_loss: 595.3957 - val_mae: 595.3957 - val_mse: 1222771.6250\n",
            "Epoch 72/100\n",
            "18/18 [==============================] - 0s 4ms/step - loss: 107.9285 - mae: 107.9285 - mse: 71745.5312 - val_loss: 573.7084 - val_mae: 573.7084 - val_mse: 1192818.5000\n",
            "Epoch 73/100\n",
            "18/18 [==============================] - 0s 4ms/step - loss: 109.5085 - mae: 109.5085 - mse: 71691.1484 - val_loss: 580.4183 - val_mae: 580.4183 - val_mse: 1211317.6250\n",
            "Epoch 74/100\n",
            "18/18 [==============================] - 0s 4ms/step - loss: 108.7380 - mae: 108.7380 - mse: 72051.1094 - val_loss: 576.1216 - val_mae: 576.1216 - val_mse: 1199670.7500\n",
            "Epoch 75/100\n",
            "18/18 [==============================] - 0s 4ms/step - loss: 107.9404 - mae: 107.9404 - mse: 71043.1328 - val_loss: 591.1470 - val_mae: 591.1470 - val_mse: 1211107.6250\n",
            "Epoch 76/100\n",
            "18/18 [==============================] - 0s 4ms/step - loss: 109.4232 - mae: 109.4232 - mse: 72295.0312 - val_loss: 597.8611 - val_mae: 597.8611 - val_mse: 1243936.2500\n",
            "Epoch 77/100\n",
            "18/18 [==============================] - 0s 26ms/step - loss: 107.5879 - mae: 107.5879 - mse: 70333.8359 - val_loss: 571.9301 - val_mae: 571.9301 - val_mse: 1186830.0000\n",
            "Epoch 78/100\n",
            "18/18 [==============================] - 0s 4ms/step - loss: 108.1598 - mae: 108.1598 - mse: 70200.0781 - val_loss: 575.2387 - val_mae: 575.2387 - val_mse: 1195318.0000\n",
            "Epoch 79/100\n",
            "18/18 [==============================] - 0s 5ms/step - loss: 107.9175 - mae: 107.9175 - mse: 72451.5859 - val_loss: 617.3083 - val_mae: 617.3083 - val_mse: 1285512.3750\n",
            "Epoch 80/100\n",
            "18/18 [==============================] - 0s 5ms/step - loss: 108.9510 - mae: 108.9510 - mse: 72158.7812 - val_loss: 583.4841 - val_mae: 583.4841 - val_mse: 1194356.7500\n",
            "Epoch 81/100\n",
            "18/18 [==============================] - 0s 26ms/step - loss: 106.0505 - mae: 106.0505 - mse: 69690.9219 - val_loss: 570.0803 - val_mae: 570.0803 - val_mse: 1177237.8750\n",
            "Epoch 82/100\n",
            "18/18 [==============================] - 0s 4ms/step - loss: 115.6827 - mae: 115.6827 - mse: 76903.4922 - val_loss: 575.7388 - val_mae: 575.7388 - val_mse: 1194662.6250\n",
            "Epoch 83/100\n",
            "18/18 [==============================] - 0s 5ms/step - loss: 110.9379 - mae: 110.9379 - mse: 72968.3047 - val_loss: 659.6579 - val_mae: 659.6579 - val_mse: 1388829.8750\n",
            "Epoch 84/100\n",
            "18/18 [==============================] - 0s 4ms/step - loss: 111.4836 - mae: 111.4836 - mse: 73017.9453 - val_loss: 570.1957 - val_mae: 570.1957 - val_mse: 1177492.2500\n",
            "Epoch 85/100\n",
            "18/18 [==============================] - 0s 4ms/step - loss: 107.5949 - mae: 107.5949 - mse: 70728.2266 - val_loss: 601.5939 - val_mae: 601.5939 - val_mse: 1228450.7500\n",
            "Epoch 86/100\n",
            "18/18 [==============================] - 0s 5ms/step - loss: 108.9425 - mae: 108.9425 - mse: 70066.7344 - val_loss: 592.8101 - val_mae: 592.8101 - val_mse: 1209680.7500\n",
            "Epoch 87/100\n",
            "18/18 [==============================] - 0s 5ms/step - loss: 105.7717 - mae: 105.7717 - mse: 68382.3516 - val_loss: 603.6174 - val_mae: 603.6174 - val_mse: 1252409.5000\n",
            "Epoch 88/100\n",
            "18/18 [==============================] - 0s 26ms/step - loss: 107.9217 - mae: 107.9217 - mse: 71668.0469 - val_loss: 569.0500 - val_mae: 569.0500 - val_mse: 1174588.3750\n",
            "Epoch 89/100\n",
            "18/18 [==============================] - 0s 26ms/step - loss: 106.0344 - mae: 106.0344 - mse: 68979.1484 - val_loss: 568.9510 - val_mae: 568.9510 - val_mse: 1171743.5000\n",
            "Epoch 90/100\n",
            "18/18 [==============================] - 0s 4ms/step - loss: 105.4977 - mae: 105.4977 - mse: 67516.5000 - val_loss: 581.7678 - val_mae: 581.7678 - val_mse: 1190160.5000\n",
            "Epoch 91/100\n",
            "18/18 [==============================] - 0s 4ms/step - loss: 108.8468 - mae: 108.8468 - mse: 71112.3281 - val_loss: 573.6025 - val_mae: 573.6025 - val_mse: 1185216.0000\n",
            "Epoch 92/100\n",
            "18/18 [==============================] - 0s 4ms/step - loss: 110.8884 - mae: 110.8884 - mse: 73287.8125 - val_loss: 576.8243 - val_mae: 576.8243 - val_mse: 1181628.3750\n",
            "Epoch 93/100\n",
            "18/18 [==============================] - 0s 4ms/step - loss: 113.8781 - mae: 113.8781 - mse: 75236.4375 - val_loss: 608.3022 - val_mae: 608.3022 - val_mse: 1264206.1250\n",
            "Epoch 94/100\n",
            "18/18 [==============================] - 0s 4ms/step - loss: 110.5763 - mae: 110.5763 - mse: 72590.8672 - val_loss: 601.6042 - val_mae: 601.6042 - val_mse: 1229105.1250\n",
            "Epoch 95/100\n",
            "18/18 [==============================] - 0s 5ms/step - loss: 106.5906 - mae: 106.5906 - mse: 68612.3281 - val_loss: 570.3651 - val_mae: 570.3651 - val_mse: 1175759.6250\n",
            "Epoch 96/100\n",
            "18/18 [==============================] - 0s 5ms/step - loss: 116.9515 - mae: 116.9515 - mse: 75082.1172 - val_loss: 615.2584 - val_mae: 615.2584 - val_mse: 1277124.3750\n",
            "Epoch 97/100\n",
            "18/18 [==============================] - 0s 4ms/step - loss: 108.0739 - mae: 108.0739 - mse: 71321.4219 - val_loss: 580.3076 - val_mae: 580.3076 - val_mse: 1202622.3750\n",
            "Epoch 98/100\n",
            "18/18 [==============================] - 0s 5ms/step - loss: 108.7102 - mae: 108.7102 - mse: 70248.0625 - val_loss: 586.6510 - val_mae: 586.6510 - val_mse: 1200831.2500\n",
            "Epoch 99/100\n",
            "18/18 [==============================] - 0s 5ms/step - loss: 109.0488 - mae: 109.0488 - mse: 70913.1562 - val_loss: 570.0628 - val_mae: 570.0628 - val_mse: 1177064.5000\n",
            "Epoch 100/100\n",
            "18/18 [==============================] - 0s 4ms/step - loss: 106.1845 - mae: 106.1845 - mse: 68681.7344 - val_loss: 585.9758 - val_mae: 585.9758 - val_mse: 1197802.1250\n"
          ]
        },
        {
          "output_type": "execute_result",
          "data": {
            "text/plain": [
              "<keras.callbacks.History at 0x7f0bd0292390>"
            ]
          },
          "metadata": {},
          "execution_count": 42
        }
      ]
    },
    {
      "cell_type": "code",
      "source": [
        "# Evaluate model on test data. the saved model will not always be the last epochs performance\n",
        "# instead it is the model with best performing model\n",
        "model_1.evaluate(test_windows, test_labels)"
      ],
      "metadata": {
        "colab": {
          "base_uri": "https://localhost:8080/"
        },
        "id": "YelON2nLwhdO",
        "outputId": "80ef8d01-4eb5-4e3e-929c-e3437a70c73e"
      },
      "execution_count": 43,
      "outputs": [
        {
          "output_type": "stream",
          "name": "stdout",
          "text": [
            "18/18 [==============================] - 0s 2ms/step - loss: 585.9758 - mae: 585.9758 - mse: 1197802.1250\n"
          ]
        },
        {
          "output_type": "execute_result",
          "data": {
            "text/plain": [
              "[585.9757690429688, 585.9757690429688, 1197802.125]"
            ]
          },
          "metadata": {},
          "execution_count": 43
        }
      ]
    },
    {
      "cell_type": "code",
      "source": [
        "# Load best performing model_1 and evaluate it on test data\n",
        "model_1 = tf.keras.models.load_model('model_experiments/model_1_dense/')\n",
        "model_1.evaluate(test_windows, test_labels)"
      ],
      "metadata": {
        "colab": {
          "base_uri": "https://localhost:8080/"
        },
        "id": "-KQnDIpnwsMl",
        "outputId": "eed54797-0d8b-4ba8-9de7-a13cc295c8df"
      },
      "execution_count": 44,
      "outputs": [
        {
          "output_type": "stream",
          "name": "stdout",
          "text": [
            "18/18 [==============================] - 0s 2ms/step - loss: 568.9510 - mae: 568.9510 - mse: 1171743.6250\n"
          ]
        },
        {
          "output_type": "execute_result",
          "data": {
            "text/plain": [
              "[568.9510498046875, 568.9510498046875, 1171743.625]"
            ]
          },
          "metadata": {},
          "execution_count": 44
        }
      ]
    },
    {
      "cell_type": "markdown",
      "source": [
        "## Making forecats with a model (on test dataset)\n",
        "\n",
        "To make 'forecasts' on the test dataset (note: these won't be actual forecasts, they're only pseudo forecast because actual forecasts are into the future), let's write a function to:\n",
        "\n",
        "1. Take in a train model\n",
        "2. Takes in some input data(same kind of data the model was trained on)\n",
        "3. Passes the input data to the model's `predict()` method\n",
        "4. Returns the predictions"
      ],
      "metadata": {
        "id": "L3evm-YaxJ-I"
      }
    },
    {
      "cell_type": "code",
      "source": [
        "def make_preds(model, input_data):\n",
        "  \"\"\"\n",
        "  Uses model to make predictions input_data.\n",
        "  \"\"\"\n",
        "\n",
        "  forecast = model.predict(input_data)\n",
        "  return tf.squeeze(forecast)"
      ],
      "metadata": {
        "id": "Go1Hl0wTxMTs"
      },
      "execution_count": 45,
      "outputs": []
    },
    {
      "cell_type": "code",
      "source": [
        "# Make predictions using model_1 on the test dataset on view results\n",
        "model_1_preds = make_preds(model_1, test_windows)\n",
        "# len(model_1_preds), model_1_preds[:5]"
      ],
      "metadata": {
        "id": "iM8FAqs6xacc"
      },
      "execution_count": 46,
      "outputs": []
    },
    {
      "cell_type": "code",
      "source": [
        "# Evaluate preds\n",
        "model_1_results = evaluate_preds(test_labels, model_1_preds)\n",
        "model_1_results\n"
      ],
      "metadata": {
        "colab": {
          "base_uri": "https://localhost:8080/"
        },
        "id": "QH_aWl6LxbTy",
        "outputId": "5f0e1b6c-8f91-4c6e-e16a-8d0ab94442dd"
      },
      "execution_count": 47,
      "outputs": [
        {
          "output_type": "execute_result",
          "data": {
            "text/plain": [
              "{'MAE': array([11928.928 , 11795.89  , 11974.975 , 11948.294 , 11954.369 ,\n",
              "        12005.417 , 12095.947 , 12114.574 , 12074.43  , 12274.317 ,\n",
              "        12328.176 , 12355.669 , 12659.421 , 12910.016 , 12878.644 ,\n",
              "        13093.804 , 12949.453 , 13008.312 , 12720.619 , 12814.96  ,\n",
              "        12581.029 , 12707.598 , 12820.861 , 12856.263 , 12869.6875,\n",
              "        12947.9375, 12808.818 , 12728.705 , 12714.618 , 12702.0625,\n",
              "        12856.51  , 12927.327 , 12960.658 , 12967.021 , 12928.017 ,\n",
              "        13054.391 , 13032.356 , 13233.18  , 13509.827 , 12790.818 ,\n",
              "        13002.818 , 13009.271 , 12891.539 , 12929.483 , 12987.1045,\n",
              "        12930.544 , 12948.6875, 12972.472 , 12937.094 , 12872.536 ,\n",
              "        12818.355 , 12918.38  , 12975.586 , 12979.919 , 13169.246 ,\n",
              "        12887.849 , 12853.178 , 12845.989 , 12591.282 , 12378.129 ,\n",
              "        12360.25  , 12528.331 , 12347.686 , 12353.041 , 12309.105 ,\n",
              "        12329.121 , 11962.126 , 11905.699 , 11974.919 , 11866.165 ,\n",
              "        11859.347 , 12016.111 , 12007.854 , 11976.479 , 12017.889 ,\n",
              "        12165.627 , 12125.31  , 12187.73  , 12059.97  , 11886.935 ,\n",
              "        11774.903 , 11707.301 , 11648.807 , 11687.173 , 11694.613 ,\n",
              "        11688.201 , 11723.614 , 11756.229 , 11631.756 , 11621.5625,\n",
              "        11605.383 , 11591.113 , 11573.858 , 11600.332 , 11567.462 ,\n",
              "        11561.506 , 11568.463 , 11561.432 , 11591.242 , 11596.203 ,\n",
              "        11629.574 , 11570.    , 11618.34  , 11630.572 , 11623.354 ,\n",
              "        11620.28  , 11591.868 , 11628.842 , 11686.051 , 11934.131 ,\n",
              "        11935.677 , 11939.064 , 12015.306 , 12067.707 , 11867.228 ,\n",
              "        11932.508 , 11950.387 , 11797.006 , 11776.74  , 11866.205 ,\n",
              "        12298.609 , 12484.206 , 12429.949 , 12432.489 , 14264.2   ,\n",
              "        14388.983 , 14753.571 , 14702.717 , 15112.482 , 14593.127 ,\n",
              "        14694.111 , 13777.763 , 13889.22  , 13887.504 , 14181.885 ,\n",
              "        13630.969 , 13323.162 , 13394.68  , 13381.108 , 13417.316 ,\n",
              "        13846.482 , 14144.56  , 13604.21  , 13639.515 , 13553.671 ,\n",
              "        13262.764 , 13330.451 , 13257.911 , 13303.917 , 12897.672 ,\n",
              "        12979.151 , 12831.466 , 12864.87  , 13248.47  , 13241.797 ,\n",
              "        13092.318 , 13227.5   , 13229.56  , 13383.629 , 12986.758 ,\n",
              "        13073.478 , 12898.511 , 12970.674 , 13257.719 , 13214.464 ,\n",
              "        13027.554 , 12693.959 , 12738.523 , 12707.551 , 12651.186 ,\n",
              "        12549.592 , 12559.407 , 11941.863 , 11944.709 , 11900.675 ,\n",
              "        11848.501 , 11875.926 , 11884.241 , 11841.497 , 11692.131 ,\n",
              "        11593.712 , 11592.083 , 11633.383 , 11934.816 , 12033.436 ,\n",
              "        11920.086 , 11704.239 , 11610.246 , 11694.778 , 11678.96  ,\n",
              "        11621.006 , 11614.892 , 11615.496 , 11649.741 , 11770.788 ,\n",
              "        11750.611 , 11740.644 , 11809.98  , 11875.417 , 11909.675 ,\n",
              "        11782.432 , 11657.241 , 11677.267 , 11620.405 , 11676.631 ,\n",
              "        11565.738 , 11655.288 , 11624.021 , 11603.501 , 11625.353 ,\n",
              "        11622.293 , 11612.953 , 11605.801 , 11606.508 , 11596.335 ,\n",
              "        11726.551 , 11667.357 , 11668.702 , 11697.949 , 11672.964 ,\n",
              "        11656.529 , 11668.959 , 11684.44  , 11720.3   , 11697.613 ,\n",
              "        11717.262 , 11621.635 , 11635.02  , 11710.347 , 11729.318 ,\n",
              "        11758.581 , 11821.725 , 11787.111 , 11752.385 , 11767.799 ,\n",
              "        11734.924 , 11788.827 , 11790.301 , 11777.562 , 11807.018 ,\n",
              "        11720.611 , 11732.126 , 11665.568 , 11734.983 , 11732.551 ,\n",
              "        11737.192 , 11718.028 , 11733.993 , 11726.671 , 11743.91  ,\n",
              "        11773.812 , 11762.997 , 11756.688 , 11751.564 , 11758.252 ,\n",
              "        11685.435 , 11651.993 , 11633.414 , 11643.596 , 11617.073 ,\n",
              "        11590.108 , 11586.762 , 11568.29  , 11595.526 , 11581.011 ,\n",
              "        11604.867 , 11668.808 , 11582.68  , 11593.402 , 11590.263 ,\n",
              "        11646.509 , 11675.31  , 11644.156 , 11664.1455, 11650.111 ,\n",
              "        11683.22  , 11601.216 , 11629.446 , 11665.683 , 11672.376 ,\n",
              "        11697.928 , 11698.237 , 11821.784 , 11740.639 , 11665.186 ,\n",
              "        11683.6045, 11634.884 , 11650.387 , 11648.881 , 11663.959 ,\n",
              "        11605.489 , 11615.533 , 11597.242 , 11618.914 , 11623.8955,\n",
              "        11647.155 , 11651.081 , 11714.335 , 11611.324 , 11558.613 ,\n",
              "        11557.324 , 11581.141 , 11569.028 , 11561.0205, 11581.113 ,\n",
              "        11565.745 , 11562.295 , 11561.058 , 11559.64  , 11563.507 ,\n",
              "        11558.006 , 11562.498 , 11574.16  , 11568.142 , 11567.959 ,\n",
              "        11575.254 , 11563.593 , 11557.788 , 11557.718 , 11566.199 ,\n",
              "        11557.874 , 11558.961 , 11559.24  , 11559.5625, 11564.067 ,\n",
              "        11559.953 , 11559.243 , 11557.19  , 11557.291 , 11557.421 ,\n",
              "        11557.652 , 11559.695 , 11557.178 , 11557.385 , 11565.881 ,\n",
              "        11575.52  , 11603.455 , 11600.507 , 11648.845 , 11613.412 ,\n",
              "        11607.426 , 11622.268 , 11602.82  , 11603.216 , 11617.286 ,\n",
              "        11670.932 , 11707.559 , 11999.928 , 12010.108 , 11956.424 ,\n",
              "        11994.246 , 11975.364 , 11981.768 , 12171.908 , 12048.538 ,\n",
              "        12099.56  , 12129.383 , 12222.23  , 12174.505 , 12146.517 ,\n",
              "        12204.831 , 12304.658 , 12692.403 , 12729.979 , 12494.229 ,\n",
              "        12716.944 , 12648.137 , 12676.385 , 12821.778 , 12966.707 ,\n",
              "        12998.712 , 12878.617 , 12854.074 , 13138.828 , 13435.541 ,\n",
              "        13522.994 , 13566.954 , 13815.344 , 13807.155 , 13822.058 ,\n",
              "        13759.955 , 13991.218 , 13868.475 , 13291.591 , 13233.974 ,\n",
              "        13515.779 , 13625.882 , 14138.623 , 13964.208 , 14051.146 ,\n",
              "        14175.457 , 13895.38  , 13990.914 , 14020.284 , 14017.551 ,\n",
              "        13842.627 , 13788.216 , 13718.125 , 13634.369 , 13923.727 ,\n",
              "        13997.391 , 14080.254 , 14165.942 , 15012.872 , 15737.425 ,\n",
              "        15789.359 , 16205.108 , 16035.737 , 15866.94  , 15986.6455,\n",
              "        15888.673 , 16077.058 , 16540.803 , 17422.123 , 17426.06  ,\n",
              "        17588.709 , 17717.162 , 18620.223 , 18794.033 , 18907.18  ,\n",
              "        20367.871 , 20826.814 , 19988.953 , 21628.71  , 22697.697 ,\n",
              "        24827.156 , 25341.658 , 25174.848 , 24193.842 , 21615.09  ,\n",
              "        21504.244 , 23145.906 , 24022.877 , 22984.553 , 22545.184 ,\n",
              "        22757.082 , 22739.748 , 22878.734 , 21954.732 , 19561.31  ,\n",
              "        21029.133 , 20323.342 , 20437.908 , 20552.762 , 20458.58  ,\n",
              "        19524.695 , 21051.352 , 21861.695 , 21735.996 , 20873.504 ,\n",
              "        21165.709 , 22320.104 , 23378.555 , 23291.756 , 23659.533 ,\n",
              "        25202.941 , 24038.943 , 28061.309 , 29348.547 , 28400.387 ,\n",
              "        29905.547 , 30166.125 , 29570.756 , 31054.287 , 30330.602 ,\n",
              "        30829.816 , 33298.992 , 32967.07  , 36114.82  , 35363.12  ,\n",
              "        37308.504 , 34869.74  , 30362.645 , 30762.057 , 30443.906 ,\n",
              "        28736.88  , 29326.965 , 28306.193 , 31124.96  , 30177.406 ,\n",
              "        32276.068 , 30421.95  , 31053.248 , 30857.615 , 32113.086 ,\n",
              "        32796.574 , 35088.28  , 37122.523 , 37759.72  , 37464.793 ,\n",
              "        40718.367 , 40185.76  , 36597.598 , 36885.26  , 38614.152 ,\n",
              "        38072.    , 38505.484 , 38639.05  , 37903.254 , 34986.246 ,\n",
              "        35357.17  , 33778.504 , 33305.555 , 35108.16  , 36542.297 ,\n",
              "        35805.2   , 37751.59  , 38772.363 , 38763.043 , 39010.547 ,\n",
              "        38855.184 , 37653.49  , 38249.797 , 38876.09  , 38123.992 ,\n",
              "        36774.043 , 37979.434 , 38244.742 , 39310.684 , 39820.94  ,\n",
              "        39850.363 , 43167.81  , 42872.617 , 43290.28  , 41922.71  ,\n",
              "        40553.    , 37066.742 , 36533.703 , 36858.82  , 34840.203 ,\n",
              "        33146.613 , 32168.777 , 32217.363 , 30619.05  , 34379.703 ,\n",
              "        35624.812 , 35194.555 , 34146.29  , 37461.66  , 37796.7   ,\n",
              "        36704.52  , 37419.734 , 34458.23  , 37417.438 , 36837.633 ,\n",
              "        37289.617 , 38823.39  , 38180.723 , 36111.797 , 36828.89  ,\n",
              "        33285.598 , 31501.486 , 31698.557 , 30167.104 , 28640.316 ,\n",
              "        27040.16  ], dtype=float32),\n",
              " 'MSE': array([4.34000800e+08, 4.27705024e+08, 4.35956256e+08, 4.34838720e+08,\n",
              "        4.35095808e+08, 4.37197408e+08, 4.40786144e+08, 4.41512480e+08,\n",
              "        4.39939328e+08, 4.47687680e+08, 4.49764960e+08, 4.50808992e+08,\n",
              "        4.62096704e+08, 4.70946464e+08, 4.69891360e+08, 4.76634496e+08,\n",
              "        4.72234784e+08, 4.74058560e+08, 4.64326240e+08, 4.67684832e+08,\n",
              "        4.59210112e+08, 4.63856480e+08, 4.67893760e+08, 4.69126368e+08,\n",
              "        4.69586432e+08, 4.72186720e+08, 4.67467584e+08, 4.64617184e+08,\n",
              "        4.64109632e+08, 4.63656224e+08, 4.69134912e+08, 4.71518816e+08,\n",
              "        4.72589408e+08, 4.72789920e+08, 4.71541600e+08, 4.75457568e+08,\n",
              "        4.74791392e+08, 4.80778592e+08, 4.88758464e+08, 4.66829472e+08,\n",
              "        4.73890688e+08, 4.74087904e+08, 4.70327104e+08, 4.71589984e+08,\n",
              "        4.73410688e+08, 4.71624864e+08, 4.72210496e+08, 4.72958944e+08,\n",
              "        4.71838624e+08, 4.69683456e+08, 4.67804992e+08, 4.71223776e+08,\n",
              "        4.73055488e+08, 4.73189792e+08, 4.78886944e+08, 4.70202400e+08,\n",
              "        4.69019392e+08, 4.68770272e+08, 4.59590176e+08, 4.51654784e+08,\n",
              "        4.50982496e+08, 4.57257888e+08, 4.50506944e+08, 4.50709568e+08,\n",
              "        4.49029920e+08, 4.49801440e+08, 4.35421120e+08, 4.32975296e+08,\n",
              "        4.35953952e+08, 4.31151392e+08, 4.30827360e+08, 4.37626144e+08,\n",
              "        4.37295136e+08, 4.36018688e+08, 4.37697120e+08, 4.43493664e+08,\n",
              "        4.41930656e+08, 4.44347680e+08, 4.39364704e+08, 4.32118144e+08,\n",
              "        4.26611520e+08, 4.22498624e+08, 4.17736896e+08, 4.21045184e+08,\n",
              "        4.21593984e+08, 4.21122464e+08, 4.23602176e+08, 4.25591488e+08,\n",
              "        4.16053472e+08, 4.14889920e+08, 4.12537888e+08, 4.09837376e+08,\n",
              "        4.05727776e+08, 4.11645888e+08, 4.03675712e+08, 4.01172384e+08,\n",
              "        4.04040096e+08, 4.01121984e+08, 4.09866272e+08, 4.10884256e+08,\n",
              "        4.15820544e+08, 4.04593920e+08, 4.14482304e+08, 4.15927776e+08,\n",
              "        4.15108256e+08, 4.14729984e+08, 4.10004160e+08, 4.15740480e+08,\n",
              "        4.20960160e+08, 4.34227520e+08, 4.34294752e+08, 4.34441920e+08,\n",
              "        4.37593952e+08, 4.39672000e+08, 4.31201632e+08, 4.34156896e+08,\n",
              "        4.34927584e+08, 4.27762304e+08, 4.26709376e+08, 4.31153280e+08,\n",
              "        4.48625344e+08, 4.55619872e+08, 4.53593056e+08, 4.53688000e+08,\n",
              "        5.10493856e+08, 5.14146432e+08, 5.24884544e+08, 5.23381216e+08,\n",
              "        5.35619584e+08, 5.20147392e+08, 5.23127328e+08, 4.96463360e+08,\n",
              "        4.99662272e+08, 4.99612992e+08, 5.08102016e+08, 4.92239584e+08,\n",
              "        4.83401536e+08, 4.85460352e+08, 4.85073088e+08, 4.86107168e+08,\n",
              "        4.98437696e+08, 5.07022144e+08, 4.91470976e+08, 4.92485344e+08,\n",
              "        4.90018816e+08, 4.81647456e+08, 4.83612544e+08, 4.81505536e+08,\n",
              "        4.82843296e+08, 4.70533824e+08, 4.73166016e+08, 4.68265856e+08,\n",
              "        4.69422112e+08, 4.81229344e+08, 4.81032896e+08, 4.76590144e+08,\n",
              "        4.80610848e+08, 4.80671680e+08, 4.85144960e+08, 4.73400160e+08,\n",
              "        4.76027232e+08, 4.70562048e+08, 4.72903232e+08, 4.81499936e+08,\n",
              "        4.80226240e+08, 4.74644960e+08, 4.63361312e+08, 4.64969088e+08,\n",
              "        4.63854720e+08, 4.61795360e+08, 4.58047552e+08, 4.58410016e+08,\n",
              "        4.34562976e+08, 4.34685600e+08, 4.32748928e+08, 4.30312160e+08,\n",
              "        4.31610112e+08, 4.31994240e+08, 4.29974560e+08, 4.21412448e+08,\n",
              "        4.10387104e+08, 4.10050848e+08, 4.16219136e+08, 4.34257344e+08,\n",
              "        4.38313504e+08, 4.33614048e+08, 4.22283840e+08, 4.13320224e+08,\n",
              "        4.21605888e+08, 4.20405248e+08, 4.14820896e+08, 4.14013824e+08,\n",
              "        4.14100640e+08, 4.17825056e+08, 4.26392320e+08, 4.25266432e+08,\n",
              "        4.24675456e+08, 4.28418912e+08, 4.31586336e+08, 4.33153664e+08,\n",
              "        4.27008128e+08, 4.18527872e+08, 4.20269888e+08, 4.14745792e+08,\n",
              "        4.20219136e+08, 4.03049280e+08, 4.18346208e+08, 4.15187200e+08,\n",
              "        4.12209312e+08, 4.15341024e+08, 4.14979712e+08, 4.13729248e+08,\n",
              "        4.12608032e+08, 4.12726880e+08, 4.10910112e+08, 4.23793728e+08,\n",
              "        4.19443232e+08, 4.19561248e+08, 4.21834528e+08, 4.19919552e+08,\n",
              "        4.18461696e+08, 4.19583168e+08, 4.20836992e+08, 4.23385376e+08,\n",
              "        4.21810432e+08, 4.23184032e+08, 4.14898816e+08, 4.16382880e+08,\n",
              "        4.22710048e+08, 4.23970848e+08, 4.25725568e+08, 4.29004448e+08,\n",
              "        4.27251872e+08, 4.25370304e+08, 4.26233120e+08, 4.24323712e+08,\n",
              "        4.27340704e+08, 4.27416832e+08, 4.26752736e+08, 4.28270336e+08,\n",
              "        4.23405984e+08, 4.24148480e+08, 4.19283712e+08, 4.24327424e+08,\n",
              "        4.24175328e+08, 4.24463488e+08, 4.23235040e+08, 4.24265760e+08,\n",
              "        4.23801536e+08, 4.24871648e+08, 4.26553344e+08, 4.25972224e+08,\n",
              "        4.25617760e+08, 4.25322336e+08, 4.25706944e+08, 4.20913344e+08,\n",
              "        4.18037472e+08, 4.16222080e+08, 4.17235072e+08, 4.14318464e+08,\n",
              "        4.09611200e+08, 3.85898880e+08, 3.90361600e+08, 3.84193248e+08,\n",
              "        3.87125152e+08, 3.82642112e+08, 3.75963872e+08, 3.86764800e+08,\n",
              "        3.84591200e+08, 3.85186528e+08, 3.77856032e+08, 3.75466208e+08,\n",
              "        3.78082592e+08, 3.76326400e+08, 3.77525024e+08, 3.74882496e+08,\n",
              "        3.83211712e+08, 3.79612448e+08, 3.76205856e+08, 3.75689984e+08,\n",
              "        3.73843552e+08, 3.73821984e+08, 3.65878592e+08, 3.70999872e+08,\n",
              "        3.76244704e+08, 3.74854944e+08, 3.79041984e+08, 3.77499840e+08,\n",
              "        3.77637600e+08, 3.76341376e+08, 3.82548128e+08, 3.81164352e+08,\n",
              "        3.83883648e+08, 3.80762464e+08, 3.80200672e+08, 3.77795552e+08,\n",
              "        3.77437024e+08, 3.72728768e+08, 3.81700480e+08, 3.94547776e+08,\n",
              "        3.97355008e+08, 4.07519296e+08, 4.04246720e+08, 4.00845984e+08,\n",
              "        4.07512512e+08, 4.03051648e+08, 4.01636448e+08, 4.00870016e+08,\n",
              "        3.99792704e+08, 4.02180320e+08, 3.95158560e+08, 3.92382592e+08,\n",
              "        3.88661504e+08, 3.90408256e+08, 3.90466272e+08, 3.88382112e+08,\n",
              "        3.91951200e+08, 3.98072160e+08, 3.97977600e+08, 4.03216704e+08,\n",
              "        3.95296224e+08, 3.94246240e+08, 3.94014912e+08, 3.93812544e+08,\n",
              "        3.91764352e+08, 3.93590496e+08, 3.94013056e+08, 3.96168416e+08,\n",
              "        3.97289856e+08, 3.97523520e+08, 3.95528128e+08, 3.93737056e+08,\n",
              "        3.96867200e+08, 3.95807552e+08, 3.91130592e+08, 3.88318784e+08,\n",
              "        3.82858752e+08, 3.83326016e+08, 3.77640960e+08, 3.81424064e+08,\n",
              "        3.82256512e+08, 3.80380064e+08, 3.82957728e+08, 3.82896032e+08,\n",
              "        3.80955008e+08, 3.75800736e+08, 3.73180256e+08, 3.55594144e+08,\n",
              "        3.55070752e+08, 3.57974784e+08, 3.55890304e+08, 3.56917120e+08,\n",
              "        3.56564352e+08, 3.47376224e+08, 3.53132096e+08, 3.50653472e+08,\n",
              "        3.49267968e+08, 3.45251680e+08, 3.47263296e+08, 3.48493696e+08,\n",
              "        3.45973792e+08, 3.41962432e+08, 3.28694080e+08, 3.27632096e+08,\n",
              "        3.35039232e+08, 3.27997440e+08, 3.30017888e+08, 3.29164384e+08,\n",
              "        3.25182048e+08, 3.21702016e+08, 3.20997696e+08, 3.23759616e+08,\n",
              "        3.24364704e+08, 3.18156768e+08, 3.13302368e+08, 3.12172288e+08,\n",
              "        3.11652320e+08, 3.09318592e+08, 3.09379712e+08, 3.09269408e+08,\n",
              "        3.09754240e+08, 3.08255584e+08, 3.08949280e+08, 3.15468160e+08,\n",
              "        3.16432992e+08, 3.12260960e+08, 3.11006912e+08, 3.07687936e+08,\n",
              "        3.08390784e+08, 3.07993440e+08, 3.07583776e+08, 3.08780224e+08,\n",
              "        3.08257024e+08, 3.08122272e+08, 3.08134272e+08, 3.09122432e+08,\n",
              "        3.09525280e+08, 3.10114752e+08, 3.10918400e+08, 3.08612992e+08,\n",
              "        3.08226400e+08, 3.07882112e+08, 3.07609184e+08, 3.08803776e+08,\n",
              "        3.15291328e+08, 3.15944448e+08, 3.21929344e+08, 3.19344256e+08,\n",
              "        3.16967520e+08, 3.18635328e+08, 3.17264128e+08, 3.19953920e+08,\n",
              "        3.27697536e+08, 3.47227008e+08, 3.47328160e+08, 3.51599456e+08,\n",
              "        3.55098848e+08, 3.83125472e+08, 3.89213632e+08, 3.93284608e+08,\n",
              "        4.53569632e+08, 4.74814720e+08, 4.36610208e+08, 5.13914112e+08,\n",
              "        5.70274688e+08, 6.93603648e+08, 7.25936896e+08, 7.15342976e+08,\n",
              "        6.55151360e+08, 5.13225632e+08, 5.07665312e+08, 5.94868288e+08,\n",
              "        6.45008512e+08, 5.85935680e+08, 5.61941376e+08, 5.73530304e+08,\n",
              "        5.72577984e+08, 5.80154048e+08, 5.30655840e+08, 4.18513984e+08,\n",
              "        4.84420224e+08, 4.51542688e+08, 4.56769856e+08, 4.62062624e+08,\n",
              "        4.57720960e+08, 4.17017216e+08, 4.85482688e+08, 5.25839872e+08,\n",
              "        5.19377408e+08, 4.77018400e+08, 4.91001472e+08, 5.49835584e+08,\n",
              "        6.07916608e+08, 6.03040576e+08, 6.23873728e+08, 7.17117632e+08,\n",
              "        6.45958080e+08, 9.15323520e+08, 1.01573280e+09, 9.41279808e+08,\n",
              "        1.06038995e+09, 1.08157453e+09, 1.03342778e+09, 1.15369267e+09,\n",
              "        1.09509069e+09, 1.13570701e+09, 1.33816384e+09, 1.31030528e+09,\n",
              "        1.57901222e+09, 1.51441050e+09, 1.68152589e+09, 1.47172992e+09,\n",
              "        1.09772493e+09, 1.13024845e+09, 1.10440422e+09, 9.67462080e+08,\n",
              "        1.01401728e+09, 9.34014976e+08, 1.15938970e+09, 1.08249830e+09,\n",
              "        1.25308250e+09, 1.10260262e+09, 1.15360883e+09, 1.13793843e+09,\n",
              "        1.23977254e+09, 1.29608832e+09, 1.49065139e+09, 1.66574413e+09,\n",
              "        1.71945690e+09, 1.69471949e+09, 1.96257178e+09, 1.91850982e+09,\n",
              "        1.62079872e+09, 1.64551936e+09, 1.79026061e+09, 1.74560717e+09,\n",
              "        1.78137382e+09, 1.79228826e+09, 1.73148621e+09, 1.48181466e+09,\n",
              "        1.51389965e+09, 1.37852224e+09, 1.33871398e+09, 1.49237261e+09,\n",
              "        1.61602035e+09, 1.55238682e+09, 1.71877466e+09, 1.80316557e+09,\n",
              "        1.80240666e+09, 1.82257741e+09, 1.80991488e+09, 1.71053030e+09,\n",
              "        1.76038374e+09, 1.81161549e+09, 1.74994125e+09, 1.63596326e+09,\n",
              "        1.73786650e+09, 1.75996506e+09, 1.84691341e+09, 1.88854502e+09,\n",
              "        1.89095526e+09, 2.17059661e+09, 2.14501619e+09, 2.18122266e+09,\n",
              "        2.06356339e+09, 1.94888128e+09, 1.66100518e+09, 1.61527859e+09,\n",
              "        1.64325107e+09, 1.46917274e+09, 1.32534515e+09, 1.24432474e+09,\n",
              "        1.24828557e+09, 1.11867174e+09, 1.42958477e+09, 1.53690470e+09,\n",
              "        1.49985267e+09, 1.40967936e+09, 1.69445696e+09, 1.72255667e+09,\n",
              "        1.62999936e+09, 1.69093325e+09, 1.43630413e+09, 1.69073933e+09,\n",
              "        1.64143014e+09, 1.67993050e+09, 1.80732518e+09, 1.75465536e+09,\n",
              "        1.57875149e+09, 1.64067814e+09, 1.33704166e+09, 1.18973530e+09,\n",
              "        1.20576371e+09, 1.08165478e+09, 9.59903936e+08, 8.40255552e+08],\n",
              "       dtype=float32),\n",
              " 'RMSE': array([20832.686, 20681.031, 20879.566, 20852.787, 20858.951, 20909.266,\n",
              "        20994.908, 21012.197, 20974.73 , 21158.63 , 21207.662, 21232.264,\n",
              "        21496.434, 21701.3  , 21676.977, 21831.96 , 21730.963, 21772.885,\n",
              "        21548.23 , 21626.021, 21429.188, 21537.328, 21630.852, 21659.326,\n",
              "        21669.943, 21729.857, 21620.998, 21554.98 , 21543.203, 21532.678,\n",
              "        21659.523, 21714.484, 21739.121, 21743.732, 21715.008, 21804.988,\n",
              "        21789.707, 21926.664, 22107.88 , 21606.236, 21769.03 , 21773.559,\n",
              "        21687.025, 21716.123, 21758.002, 21716.926, 21730.404, 21747.62 ,\n",
              "        21721.846, 21672.182, 21628.8  , 21707.69 , 21749.838, 21752.926,\n",
              "        21883.484, 21684.15 , 21656.855, 21651.104, 21438.055, 21252.172,\n",
              "        21236.348, 21383.588, 21225.148, 21229.922, 21190.326, 21208.523,\n",
              "        20866.748, 20808.059, 20879.512, 20764.186, 20756.38 , 20919.516,\n",
              "        20911.602, 20881.06 , 20921.21 , 21059.29 , 21022.146, 21079.557,\n",
              "        20961.027, 20787.451, 20654.576, 20554.771, 20438.613, 20519.385,\n",
              "        20532.754, 20521.268, 20581.598, 20629.87 , 20397.389, 20368.848,\n",
              "        20311.027, 20244.441, 20142.686, 20289.059, 20091.682, 20029.287,\n",
              "        20100.748, 20028.03 , 20245.154, 20270.28 , 20391.678, 20114.52 ,\n",
              "        20358.838, 20394.307, 20374.205, 20364.92 , 20248.559, 20389.715,\n",
              "        20517.312, 20838.127, 20839.74 , 20843.27 , 20918.746, 20968.357,\n",
              "        20765.395, 20836.432, 20854.918, 20682.416, 20656.945, 20764.23 ,\n",
              "        21180.777, 21345.254, 21297.725, 21299.953, 22594.111, 22674.797,\n",
              "        22910.357, 22877.525, 23143.457, 22806.74 , 22871.977, 22281.457,\n",
              "        22353.127, 22352.023, 22541.117, 22186.473, 21986.395, 22033.164,\n",
              "        22024.375, 22047.838, 22325.719, 22517.152, 22169.145, 22192.01 ,\n",
              "        22136.37 , 21946.467, 21991.191, 21943.234, 21973.695, 21691.791,\n",
              "        21752.379, 21639.451, 21666.152, 21936.94 , 21932.463, 21830.945,\n",
              "        21922.838, 21924.227, 22026.006, 21757.76 , 21818.049, 21692.441,\n",
              "        21746.338, 21943.107, 21914.064, 21786.348, 21525.828, 21563.143,\n",
              "        21537.287, 21489.424, 21402.045, 21410.512, 20846.174, 20849.115,\n",
              "        20802.617, 20743.967, 20775.229, 20784.47 , 20735.828, 20528.332,\n",
              "        20258.014, 20249.713, 20401.45 , 20838.842, 20935.938, 20823.4  ,\n",
              "        20549.545, 20330.277, 20533.043, 20503.785, 20367.152, 20347.33 ,\n",
              "        20349.463, 20440.77 , 20649.27 , 20621.988, 20607.654, 20698.283,\n",
              "        20774.656, 20812.344, 20664.176, 20457.953, 20500.484, 20365.309,\n",
              "        20499.246, 20076.086, 20453.514, 20376.143, 20302.938, 20379.916,\n",
              "        20371.05 , 20340.336, 20312.756, 20315.68 , 20270.918, 20586.25 ,\n",
              "        20480.312, 20483.193, 20538.611, 20491.938, 20456.336, 20483.729,\n",
              "        20514.312, 20576.33 , 20538.023, 20571.438, 20369.064, 20405.46 ,\n",
              "        20559.914, 20590.553, 20633.117, 20712.422, 20670.072, 20624.508,\n",
              "        20645.414, 20599.12 , 20672.22 , 20674.062, 20657.994, 20694.693,\n",
              "        20576.832, 20594.865, 20476.418, 20599.209, 20595.518, 20602.512,\n",
              "        20572.678, 20597.713, 20586.44 , 20612.414, 20653.168, 20639.094,\n",
              "        20630.506, 20623.344, 20632.666, 20516.172, 20445.965, 20401.521,\n",
              "        20426.332, 20354.814, 20238.854, 19644.309, 19757.57 , 19600.848,\n",
              "        19675.496, 19561.24 , 19389.787, 19666.336, 19610.996, 19626.17 ,\n",
              "        19438.52 , 19376.951, 19444.346, 19399.135, 19430.004, 19361.883,\n",
              "        19575.793, 19483.645, 19396.027, 19382.725, 19335.033, 19334.477,\n",
              "        19127.953, 19261.357, 19397.027, 19361.17 , 19469.   , 19429.355,\n",
              "        19432.9  , 19399.52 , 19558.838, 19523.43 , 19592.95 , 19513.135,\n",
              "        19498.734, 19436.963, 19427.738, 19306.184, 19537.156, 19863.227,\n",
              "        19933.766, 20187.107, 20105.887, 20021.139, 20186.94 , 20076.146,\n",
              "        20040.87 , 20021.738, 19994.816, 20054.434, 19878.596, 19808.648,\n",
              "        19714.5  , 19758.75 , 19760.219, 19707.412, 19797.758, 19951.746,\n",
              "        19949.377, 20080.256, 19882.057, 19855.635, 19849.809, 19844.71 ,\n",
              "        19793.037, 19839.115, 19849.762, 19903.98 , 19932.13 , 19937.992,\n",
              "        19887.889, 19842.809, 19921.525, 19894.912, 19777.021, 19705.805,\n",
              "        19566.775, 19578.713, 19432.986, 19530.08 , 19551.38 , 19503.334,\n",
              "        19569.305, 19567.729, 19518.068, 19385.58 , 19317.873, 18857.203,\n",
              "        18843.32 , 18920.22 , 18865.055, 18892.25 , 18882.91 , 18638.031,\n",
              "        18791.809, 18725.744, 18688.713, 18580.95 , 18635.002, 18667.986,\n",
              "        18600.371, 18492.227, 18129.922, 18100.61 , 18304.078, 18110.7  ,\n",
              "        18166.395, 18142.887, 18032.805, 17936.053, 17916.408, 17993.32 ,\n",
              "        18010.127, 17836.95 , 17700.35 , 17668.398, 17653.678, 17587.455,\n",
              "        17589.193, 17586.057, 17599.836, 17557.209, 17576.953, 17761.422,\n",
              "        17788.562, 17670.906, 17635.387, 17541.035, 17561.059, 17549.742,\n",
              "        17538.066, 17572.143, 17557.25 , 17553.412, 17553.754, 17581.877,\n",
              "        17593.33 , 17610.074, 17632.877, 17567.385, 17556.377, 17546.57 ,\n",
              "        17538.791, 17572.812, 17756.443, 17774.826, 17942.389, 17870.205,\n",
              "        17803.582, 17850.36 , 17811.91 , 17887.256, 18102.418, 18634.027,\n",
              "        18636.742, 18750.986, 18844.066, 19573.59 , 19728.498, 19831.404,\n",
              "        21297.174, 21790.244, 20895.219, 22669.674, 23880.426, 26336.355,\n",
              "        26943.217, 26745.896, 25595.924, 22654.484, 22531.43 , 24389.922,\n",
              "        25397.018, 24206.107, 23705.303, 23948.492, 23928.602, 24086.387,\n",
              "        23035.969, 20457.613, 22009.549, 21249.533, 21372.174, 21495.64 ,\n",
              "        21394.414, 20421.   , 22033.672, 22931.2  , 22789.854, 21840.75 ,\n",
              "        22158.553, 23448.572, 24655.965, 24556.885, 24977.465, 26779.05 ,\n",
              "        25415.705, 30254.314, 31870.562, 30680.283, 32563.629, 32887.3  ,\n",
              "        32146.97 , 33966.05 , 33092.152, 33700.254, 36580.92 , 36198.137,\n",
              "        39736.785, 38915.426, 41006.41 , 38363.133, 33131.93 , 33619.168,\n",
              "        33232.58 , 31104.053, 31843.639, 30561.658, 34049.812, 32901.34 ,\n",
              "        35398.906, 33205.46 , 33964.816, 33733.344, 35210.402, 36001.227,\n",
              "        38608.953, 40813.527, 41466.332, 41166.97 , 44300.92 , 43800.797,\n",
              "        40259.145, 40565.   , 42311.473, 41780.465, 42206.324, 42335.426,\n",
              "        41611.13 , 38494.344, 38908.863, 37128.453, 36588.44 , 38631.24 ,\n",
              "        40199.754, 39400.34 , 41458.105, 42463.695, 42454.758, 42691.652,\n",
              "        42543.094, 41358.56 , 41956.926, 42563.074, 41832.297, 40447.043,\n",
              "        41687.727, 41951.938, 42975.73 , 43457.395, 43485.113, 46589.66 ,\n",
              "        46314.32 , 46703.562, 45426.46 , 44146.133, 40755.43 , 40190.527,\n",
              "        40537.03 , 38329.79 , 36405.29 , 35274.984, 35331.086, 33446.55 ,\n",
              "        37809.848, 39203.375, 38727.93 , 37545.695, 41163.78 , 41503.695,\n",
              "        40373.25 , 41120.957, 37898.6  , 41118.6  , 40514.566, 40986.953,\n",
              "        42512.65 , 41888.605, 39733.504, 40505.285, 36565.582, 34492.54 ,\n",
              "        34724.11 , 32888.52 , 30982.316, 28987.162], dtype=float32),\n",
              " 'MAPE': array([135.58617 , 129.89369 , 137.46115 , 136.38216 , 136.62885 ,\n",
              "        138.6792  , 142.2945  , 143.04169 , 141.43082 , 149.58087 ,\n",
              "        151.8531  , 153.01434 , 166.29256 , 177.77222 , 176.33751 ,\n",
              "        185.94576 , 179.55771 , 182.16196 , 169.07889 , 173.40462 ,\n",
              "        162.77135 , 168.48582 , 173.67822 , 175.31029 , 175.92673 ,\n",
              "        179.4901  , 173.12051 , 169.44765 , 168.80522 , 168.2339  ,\n",
              "        175.32172 , 178.56009 , 180.0575  , 180.34117 , 178.59152 ,\n",
              "        184.20125 , 183.22577 , 192.24503 , 205.1909  , 172.28975 ,\n",
              "        181.91945 , 182.20438 , 176.92761 , 178.6584  , 181.2279  ,\n",
              "        178.70663 , 179.52347 , 180.58186 , 179.00328 , 176.0573  ,\n",
              "        173.56192 , 178.15318 , 180.71954 , 180.91124 , 189.33606 ,\n",
              "        176.75847 , 175.16782 , 174.83643 , 163.2293  , 153.96442 ,\n",
              "        153.2084  , 160.44064 , 152.67705 , 152.90323 , 151.0447  ,\n",
              "        151.89331 , 136.94254 , 134.62389 , 137.45888 , 132.94977 ,\n",
              "        132.6569  , 139.10464 , 138.77608 , 137.52177 , 139.1753  ,\n",
              "        145.10376 , 143.47385 , 146.00337 , 140.84952 , 133.8323  ,\n",
              "        128.95363 , 125.60164 , 122.039925, 124.478874, 124.89984 ,\n",
              "        124.53785 , 126.47233 , 128.09288 , 120.84368 , 120.04039 ,\n",
              "        118.47856 , 116.75436 , 114.22278 , 117.90271 , 113.00064 ,\n",
              "        111.5445  , 113.21541 , 111.51579 , 116.77239 , 117.415215,\n",
              "        120.681   , 113.54273 , 119.7639  , 120.75575 , 120.189476,\n",
              "        119.93164 , 116.858795, 120.62526 , 124.41406 , 135.80066 ,\n",
              "        135.86433 , 136.00392 , 139.0726  , 141.16013 , 132.99527 ,\n",
              "        135.73378 , 136.46729 , 129.9433  , 129.03702 , 132.95149 ,\n",
              "        150.60172 , 158.51448 , 156.17027 , 156.27919 , 245.92564 ,\n",
              "        253.654   , 278.1515  , 274.5509  , 305.62973 , 267.0004  ,\n",
              "        273.9485  , 218.65773 , 224.55283 , 224.4607  , 241.01062 ,\n",
              "        211.1543  , 196.38173 , 199.71239 , 199.07933 , 200.77446 ,\n",
              "        222.27318 , 238.82793 , 209.82042 , 211.5827  , 207.32713 ,\n",
              "        193.6012  , 196.71965 , 193.37865 , 195.4917  , 177.20857 ,\n",
              "        180.87727 , 174.16797 , 175.706   , 192.94644 , 192.64021 ,\n",
              "        185.87962 , 191.98494 , 192.07922 , 199.1967  , 181.21269 ,\n",
              "        185.04353 , 177.24698 , 180.50249 , 193.36983 , 191.38985 ,\n",
              "        183.0127  , 167.86436 , 169.89542 , 168.48369 , 165.92036 ,\n",
              "        161.37825 , 161.81136 , 136.11899 , 136.23578 , 134.41357 ,\n",
              "        132.19263 , 133.36674 , 133.71852 , 131.89044 , 124.760185,\n",
              "        117.10018 , 116.88809 , 120.96036 , 135.82889 , 139.79158 ,\n",
              "        135.22148 , 125.43411 , 118.990395, 124.909035, 123.9947  ,\n",
              "        119.993416, 119.449554, 119.507385, 122.10335 , 128.76703 ,\n",
              "        127.82345 , 127.33782 , 130.51553 , 133.34505 , 134.78996 ,\n",
              "        129.29286 , 122.61068 , 123.89302 , 119.94237 , 123.85491 ,\n",
              "        112.632286, 122.47921 , 120.24361 , 118.26589 , 120.34949 ,\n",
              "        120.10161 , 119.26061 , 118.52417 , 118.60148 , 117.43164 ,\n",
              "        126.62523 , 123.27847 , 123.36527 , 125.0856  , 123.63112 ,\n",
              "        122.56279 , 123.38146 , 124.32051 , 126.299576, 125.066986,\n",
              "        126.13985 , 120.04647 , 121.076035, 125.76709 , 126.767334,\n",
              "        128.20459 , 131.02997 , 129.50238 , 127.90932 , 128.63167 ,\n",
              "        127.05199 , 129.57892 , 129.6446  , 129.07407 , 130.38554 ,\n",
              "        126.31596 , 126.9104  , 123.161575, 127.055016, 126.93202 ,\n",
              "        127.16546 , 126.180244, 127.00507 , 126.631485, 127.4984  ,\n",
              "        128.90408 , 128.41124 , 128.11475 , 127.869606, 128.18903 ,\n",
              "        124.37844 , 122.25632 , 120.96242 , 121.6807  , 119.65325 ,\n",
              "        116.61299 , 103.56623 , 105.74625 , 102.75659 , 104.15591 ,\n",
              "        102.035904,  99.16764 , 103.9822  , 102.94442 , 103.22618 ,\n",
              "         99.9408  ,  98.96999 , 100.03626 ,  99.31233 ,  99.802864,\n",
              "         98.740654, 102.29823 , 100.69181 ,  99.264084,  99.05878 ,\n",
              "         98.33806 ,  98.329735,  95.343796,  97.257225,  99.27962 ,\n",
              "         98.729965, 100.44674 ,  99.792404,  99.84974 ,  99.31834 ,\n",
              "        101.99287 , 101.36761 , 102.6112  , 101.19042 , 100.9453  ,\n",
              "         99.91552 ,  99.7663  ,  97.9115  , 101.60682 , 107.894135,\n",
              "        109.40399 , 115.31722 , 113.33734 , 111.358795, 115.31302 ,\n",
              "        112.63367 , 111.81007 , 111.37241 , 110.76308 , 112.1248  ,\n",
              "        108.21802 , 106.768486, 104.901276, 105.76962 , 105.798706,\n",
              "        104.76405 , 106.54831 , 109.80016 , 109.74776 , 112.73064 ,\n",
              "        108.29121 , 107.73498 , 107.61314 , 107.50737 , 106.45309 ,\n",
              "        107.391754, 107.61214 , 108.75719 , 109.36813 , 109.49682 ,\n",
              "        108.41453 , 107.46802 , 109.13679 , 108.56332 , 106.13242 ,\n",
              "        104.73312 , 102.13543 , 102.351166,  99.85113 , 101.482735,\n",
              "        101.85931 , 101.02325 , 102.18104 , 102.15262 , 101.27524 ,\n",
              "         99.10278 ,  98.08312 ,  91.581985,  91.39647 ,  92.44308 ,\n",
              "         91.68741 ,  92.05833 ,  91.930374,  88.708244,  90.711494,\n",
              "         89.8411  ,  89.359375,  87.985306,  88.669556,  89.091866,\n",
              "         88.23022 ,  86.8729  ,  82.28715 ,  81.914345,  84.51193 ,\n",
              "         82.04304 ,  82.755295,  82.45316 ,  81.045364,  79.77887 ,\n",
              "         79.517204,  80.53246 ,  80.7514  ,  78.43139 ,  76.36657 ,\n",
              "         75.824326,  75.56147 ,  74.22468 ,  74.26454 ,  74.1925  ,\n",
              "         74.50217 ,  73.46116 ,  73.977295,  77.33331 ,  77.737335,\n",
              "         75.86835 ,  75.221214,  72.94582 ,  73.569496,  73.24066 ,\n",
              "         72.82711 ,  73.86003 ,  73.462326,  73.35112 ,  73.36113 ,\n",
              "         74.09426 ,  74.358025,  74.71958 ,  75.17301 ,  73.73972 ,\n",
              "         73.4375  ,  73.13952 ,  72.85704 ,  70.447716,  68.73444 ,\n",
              "         68.6232  ,  67.82984 ,  68.128845,  68.45905 ,  68.21993 ,\n",
              "         68.413536,  68.05426 ,  67.290985,  66.03967 ,  66.0346  ,\n",
              "         65.830864,  65.678154,  64.72359 ,  64.55874 ,  64.455696,\n",
              "         63.344414,  63.10671 ,  63.595062,  62.812794,  62.56988 ,\n",
              "         62.51565 ,  62.541954,  62.53234 ,  62.500614,  62.81696 ,\n",
              "         62.85106 ,  62.527763,  62.501205,  62.5403  ,  62.59633 ,\n",
              "         62.561024,  62.563602,  62.54862 ,  62.719692,  63.91294 ,\n",
              "         63.021164,  63.371628,  63.303238,  63.238777,  63.291138,\n",
              "         63.942017,  63.012497,  62.74423 ,  62.7802  ,  63.08602 ,\n",
              "         62.968212,  62.639027,  62.51381 ,  62.517708,  62.506027,\n",
              "         62.533962,  62.50102 ,  62.75355 ,  62.878716,  62.78066 ,\n",
              "         62.95785 ,  62.998096,  62.90955 ,  63.18118 ,  63.023323,\n",
              "         63.123577,  63.8336  ,  63.73095 ,  64.81576 ,  64.52931 ,\n",
              "         65.30613 ,  64.35679 ,  63.028503,  63.107567,  63.04207 ,\n",
              "         62.80995 ,  62.875916,  62.773197,  63.19928 ,  62.99983 ,\n",
              "         63.52075 ,  63.038273,  63.180916,  63.13042 ,  63.471245,\n",
              "         63.678646,  64.43178 ,  65.2243  ,  65.51326 ,  65.37654 ,\n",
              "         67.03379 ,  66.75608 ,  65.00423 ,  65.122536,  65.93126 ,\n",
              "         65.66052 ,  65.875694,  65.94414 ,  65.580574,  64.39657 ,\n",
              "         64.5271  ,  63.98928 ,  63.835705,  64.43869 ,  64.98216 ,\n",
              "         64.69581 ,  65.509476,  66.012955,  66.00812 ,  66.13682 ,\n",
              "         66.05595 ,  65.464066,  65.746826,  66.06686 ,  65.68551 ,\n",
              "         65.07649 ,  65.616516,  65.74434 ,  66.29573 ,  66.56471 ,\n",
              "         66.58017 ,  68.2777  ,  68.131195,  68.33855 ,  67.65462 ,\n",
              "         66.94738 ,  65.2     ,  64.97872 ,  65.1115  ,  64.346794,\n",
              "         63.78635 ,  63.487904,  63.5028  ,  63.0762  ,  64.1907  ,\n",
              "         64.62685 ,  64.46891 ,  64.11209 ,  65.3751  ,  65.53055 ,\n",
              "         65.047745,  65.35592 ,  64.217255,  65.35488 ,  65.10273 ,\n",
              "         65.29766 ,  66.03941 ,  65.71305 ,  64.81458 ,  65.09913 ,\n",
              "         63.82932 ,  63.301582,  63.35569 ,  62.998245,  62.801353,\n",
              "         62.673523], dtype=float32),\n",
              " 'MASE': 30.108229}"
            ]
          },
          "metadata": {},
          "execution_count": 47
        }
      ]
    },
    {
      "cell_type": "code",
      "source": [
        "test_labels.shape, model_1_preds.shape"
      ],
      "metadata": {
        "colab": {
          "base_uri": "https://localhost:8080/"
        },
        "id": "nyOvEpHQ1jDI",
        "outputId": "7e5433ec-b1d6-4c51-b2d8-3f41579b7bb9"
      },
      "execution_count": 48,
      "outputs": [
        {
          "output_type": "execute_result",
          "data": {
            "text/plain": [
              "((556, 1), TensorShape([556]))"
            ]
          },
          "metadata": {},
          "execution_count": 48
        }
      ]
    },
    {
      "cell_type": "code",
      "source": [
        "model_1_results = evaluate_preds(tf.squeeze(test_labels), model_1_preds)\n",
        "model_1_results, naive_results"
      ],
      "metadata": {
        "colab": {
          "base_uri": "https://localhost:8080/"
        },
        "id": "Oioj049l1t1h",
        "outputId": "d143cc5f-3a78-42f2-f252-4c7a2c7f479a"
      },
      "execution_count": 49,
      "outputs": [
        {
          "output_type": "execute_result",
          "data": {
            "text/plain": [
              "({'MAE': 568.9511,\n",
              "  'MSE': 1171743.8,\n",
              "  'RMSE': 1082.4711,\n",
              "  'MAPE': 2.5448983,\n",
              "  'MASE': 0.99948955},\n",
              " {'MAE': 567.9802,\n",
              "  'MSE': 1147547.0,\n",
              "  'RMSE': 1071.2362,\n",
              "  'MAPE': 2.516525,\n",
              "  'MASE': 0.99957})"
            ]
          },
          "metadata": {},
          "execution_count": 49
        }
      ]
    },
    {
      "cell_type": "code",
      "source": [
        "# Let's plot our model 1 prediction\n",
        "offset = 300\n",
        "plt.figure(figsize=(10, 7))\n",
        "# Account for the test window offset and index into test_labels to ensure corrent plotting\n",
        "plot_time_series(timesteps=X_test[-len(test_windows):], values=test_labels[:, 0], start=offset, label='Test Data')\n",
        "\n",
        "# Plot prediction\n",
        "plot_time_series(timesteps=X_test[-len(test_windows):], values=model_1_preds,format='-',  label='model_1_preds')\n"
      ],
      "metadata": {
        "colab": {
          "base_uri": "https://localhost:8080/",
          "height": 54
        },
        "id": "DenPdMGf1vXO",
        "outputId": "68df0820-c902-42f8-fc2e-43f445cf0ca3"
      },
      "execution_count": 50,
      "outputs": [
        {
          "output_type": "display_data",
          "data": {
            "text/plain": [
              "<Figure size 720x504 with 1 Axes>"
            ],
            "image/png": "[encoded data removed]"
          },
          "metadata": {
            "needs_background": "light"
          }
        }
      ]
    },
    {
      "cell_type": "markdown",
      "source": [
        "**Note** this is because of autocorrelation data"
      ],
      "metadata": {
        "id": "aG0Gubx52o0I"
      }
    },
    {
      "cell_type": "markdown",
      "source": [
        "## Model 2 : Dense (window=30, horizon=1)"
      ],
      "metadata": {
        "id": "auExCGCS3HIc"
      }
    },
    {
      "cell_type": "code",
      "source": [
        "HORIZON = 1\n",
        "WINDOW_SIZE = 30"
      ],
      "metadata": {
        "id": "QOfDV7RG3yoZ"
      },
      "execution_count": 51,
      "outputs": []
    },
    {
      "cell_type": "code",
      "source": [
        "# Make windowed data with appropritate horizon and window size\n",
        "full_windows, full_labels = make_windows(prices, window_size=WINDOW_SIZE, horizon=HORIZON)"
      ],
      "metadata": {
        "id": "etpqbA3W4TTh"
      },
      "execution_count": 52,
      "outputs": []
    },
    {
      "cell_type": "code",
      "source": [
        "len(full_windows), len(full_labels)"
      ],
      "metadata": {
        "colab": {
          "base_uri": "https://localhost:8080/"
        },
        "id": "JWQ3Tjcd4dxd",
        "outputId": "8b1a7144-adce-4cae-ca53-247d94c9735b"
      },
      "execution_count": 53,
      "outputs": [
        {
          "output_type": "execute_result",
          "data": {
            "text/plain": [
              "(2757, 2757)"
            ]
          },
          "metadata": {},
          "execution_count": 53
        }
      ]
    },
    {
      "cell_type": "code",
      "source": [
        "# Make train and testing windows\n",
        "train_windows, test_windows, train_labels, test_labels = make_train_test_splits(windows=full_windows,\n",
        "                                                                               labels=full_labels,\n",
        "                                                                               test_split=0.2)"
      ],
      "metadata": {
        "id": "6kC4bOah4edx"
      },
      "execution_count": 54,
      "outputs": []
    },
    {
      "cell_type": "code",
      "source": [
        "len(train_windows), len(test_windows), len(train_labels), len(test_labels)"
      ],
      "metadata": {
        "colab": {
          "base_uri": "https://localhost:8080/"
        },
        "id": "lLitroRq5LQI",
        "outputId": "907ab20a-c01c-4d73-b4b8-d047ba9cc7c4"
      },
      "execution_count": 55,
      "outputs": [
        {
          "output_type": "execute_result",
          "data": {
            "text/plain": [
              "(2205, 552, 2205, 552)"
            ]
          },
          "metadata": {},
          "execution_count": 55
        }
      ]
    },
    {
      "cell_type": "code",
      "source": [
        "tf.random.set_seed(42)\n",
        "\n",
        "# Create model \n",
        "model_2 = tf.keras.Sequential([\n",
        "    layers.Dense(128, activation='relu'),\n",
        "    layers.Dense(HORIZON)\n",
        "], name='model_2_dense')\n",
        "\n",
        "# Compile\n",
        "model_2.compile(loss='mae',\n",
        "                optimizer='adam',\n",
        "                metrics=['mae', 'mse'])\n",
        "\n",
        "# Fit\n",
        "model_2.fit(train_windows,\n",
        "            train_labels,\n",
        "            epochs=100,\n",
        "            batch_size=128,\n",
        "            verbose=0,\n",
        "            validation_data=(test_windows, test_labels),\n",
        "            callbacks=[create_model_checkpoint(model_name=model_2.name)])\n"
      ],
      "metadata": {
        "colab": {
          "base_uri": "https://localhost:8080/"
        },
        "id": "Q2tnKmHb5ScH",
        "outputId": "179bf889-8753-4cae-bcd1-ee410ae609b7"
      },
      "execution_count": 56,
      "outputs": [
        {
          "output_type": "execute_result",
          "data": {
            "text/plain": [
              "<keras.callbacks.History at 0x7f0be5a3c350>"
            ]
          },
          "metadata": {},
          "execution_count": 56
        }
      ]
    },
    {
      "cell_type": "code",
      "source": [
        "model_2.evaluate(test_windows, test_labels)"
      ],
      "metadata": {
        "colab": {
          "base_uri": "https://localhost:8080/"
        },
        "id": "ouyr8_yN6Rl4",
        "outputId": "64b13b34-4ee6-432d-a2ae-465a2c601bb6"
      },
      "execution_count": 57,
      "outputs": [
        {
          "output_type": "stream",
          "name": "stdout",
          "text": [
            "18/18 [==============================] - 0s 2ms/step - loss: 659.3332 - mae: 659.3332 - mse: 1397247.7500\n"
          ]
        },
        {
          "output_type": "execute_result",
          "data": {
            "text/plain": [
              "[659.3331909179688, 659.3331909179688, 1397247.75]"
            ]
          },
          "metadata": {},
          "execution_count": 57
        }
      ]
    },
    {
      "cell_type": "code",
      "source": [
        "# Load the best model (ALWAYS DO THIS!!)\n",
        "model_2 = tf.keras.models.load_model('model_experiments/model_2_dense/')\n",
        "model_2.evaluate(test_windows, test_labels)"
      ],
      "metadata": {
        "colab": {
          "base_uri": "https://localhost:8080/"
        },
        "id": "bqkWozTR5znZ",
        "outputId": "0c59aeb6-5f37-4191-985e-01dbd8ea913e"
      },
      "execution_count": 58,
      "outputs": [
        {
          "output_type": "stream",
          "name": "stdout",
          "text": [
            "18/18 [==============================] - 0s 2ms/step - loss: 605.8741 - mae: 605.8741 - mse: 1273360.7500\n"
          ]
        },
        {
          "output_type": "execute_result",
          "data": {
            "text/plain": [
              "[605.8740844726562, 605.8740844726562, 1273360.75]"
            ]
          },
          "metadata": {},
          "execution_count": 58
        }
      ]
    },
    {
      "cell_type": "code",
      "source": [
        "# Get forecast prediction\n",
        "model_2_preds = make_preds(model_2, test_windows)\n",
        "model_2_preds[:3], test_windows[:3]"
      ],
      "metadata": {
        "colab": {
          "base_uri": "https://localhost:8080/"
        },
        "id": "OUUfSb_j6e_G",
        "outputId": "fab48907-6863-4e81-acd4-016d7e86acc1"
      },
      "execution_count": 59,
      "outputs": [
        {
          "output_type": "execute_result",
          "data": {
            "text/plain": [
              "(<tf.Tensor: shape=(3,), dtype=float32, numpy=array([8882.84 , 8904.423, 8762.442], dtype=float32)>,\n",
              " array([[8337.81899854, 8162.44      , 8003.82039479, 8058.05808111,\n",
              "         7970.2394756 , 7943.34710706, 8200.3187634 , 8200.24609949,\n",
              "         8073.40954388, 7420.41583649, 7460.61741593, 8591.22389742,\n",
              "         9171.30653186, 9578.36755607, 9458.22335963, 9455.72469261,\n",
              "         9225.99547934, 9131.41063031, 9197.63234462, 9290.89660239,\n",
              "         9202.41545055, 9369.62808116, 9326.59962378, 9335.75240233,\n",
              "         9226.48582088, 8794.35864452, 8798.04205463, 9081.18687849,\n",
              "         8711.53433917, 8760.89271814],\n",
              "        [8162.44      , 8003.82039479, 8058.05808111, 7970.2394756 ,\n",
              "         7943.34710706, 8200.3187634 , 8200.24609949, 8073.40954388,\n",
              "         7420.41583649, 7460.61741593, 8591.22389742, 9171.30653186,\n",
              "         9578.36755607, 9458.22335963, 9455.72469261, 9225.99547934,\n",
              "         9131.41063031, 9197.63234462, 9290.89660239, 9202.41545055,\n",
              "         9369.62808116, 9326.59962378, 9335.75240233, 9226.48582088,\n",
              "         8794.35864452, 8798.04205463, 9081.18687849, 8711.53433917,\n",
              "         8760.89271814, 8749.52059102],\n",
              "        [8003.82039479, 8058.05808111, 7970.2394756 , 7943.34710706,\n",
              "         8200.3187634 , 8200.24609949, 8073.40954388, 7420.41583649,\n",
              "         7460.61741593, 8591.22389742, 9171.30653186, 9578.36755607,\n",
              "         9458.22335963, 9455.72469261, 9225.99547934, 9131.41063031,\n",
              "         9197.63234462, 9290.89660239, 9202.41545055, 9369.62808116,\n",
              "         9326.59962378, 9335.75240233, 9226.48582088, 8794.35864452,\n",
              "         8798.04205463, 9081.18687849, 8711.53433917, 8760.89271814,\n",
              "         8749.52059102, 8656.97092235]]))"
            ]
          },
          "metadata": {},
          "execution_count": 59
        }
      ]
    },
    {
      "cell_type": "code",
      "source": [
        "model_1_preds[:3], test_windows[:3]"
      ],
      "metadata": {
        "colab": {
          "base_uri": "https://localhost:8080/"
        },
        "id": "PD-jsgSd8ezt",
        "outputId": "ed21dd6a-0af9-42e3-aa05-e0a3cbfeac80"
      },
      "execution_count": 60,
      "outputs": [
        {
          "output_type": "execute_result",
          "data": {
            "text/plain": [
              "(<tf.Tensor: shape=(3,), dtype=float32, numpy=array([8861.71 , 8769.887, 9015.711], dtype=float32)>,\n",
              " array([[8337.81899854, 8162.44      , 8003.82039479, 8058.05808111,\n",
              "         7970.2394756 , 7943.34710706, 8200.3187634 , 8200.24609949,\n",
              "         8073.40954388, 7420.41583649, 7460.61741593, 8591.22389742,\n",
              "         9171.30653186, 9578.36755607, 9458.22335963, 9455.72469261,\n",
              "         9225.99547934, 9131.41063031, 9197.63234462, 9290.89660239,\n",
              "         9202.41545055, 9369.62808116, 9326.59962378, 9335.75240233,\n",
              "         9226.48582088, 8794.35864452, 8798.04205463, 9081.18687849,\n",
              "         8711.53433917, 8760.89271814],\n",
              "        [8162.44      , 8003.82039479, 8058.05808111, 7970.2394756 ,\n",
              "         7943.34710706, 8200.3187634 , 8200.24609949, 8073.40954388,\n",
              "         7420.41583649, 7460.61741593, 8591.22389742, 9171.30653186,\n",
              "         9578.36755607, 9458.22335963, 9455.72469261, 9225.99547934,\n",
              "         9131.41063031, 9197.63234462, 9290.89660239, 9202.41545055,\n",
              "         9369.62808116, 9326.59962378, 9335.75240233, 9226.48582088,\n",
              "         8794.35864452, 8798.04205463, 9081.18687849, 8711.53433917,\n",
              "         8760.89271814, 8749.52059102],\n",
              "        [8003.82039479, 8058.05808111, 7970.2394756 , 7943.34710706,\n",
              "         8200.3187634 , 8200.24609949, 8073.40954388, 7420.41583649,\n",
              "         7460.61741593, 8591.22389742, 9171.30653186, 9578.36755607,\n",
              "         9458.22335963, 9455.72469261, 9225.99547934, 9131.41063031,\n",
              "         9197.63234462, 9290.89660239, 9202.41545055, 9369.62808116,\n",
              "         9326.59962378, 9335.75240233, 9226.48582088, 8794.35864452,\n",
              "         8798.04205463, 9081.18687849, 8711.53433917, 8760.89271814,\n",
              "         8749.52059102, 8656.97092235]]))"
            ]
          },
          "metadata": {},
          "execution_count": 60
        }
      ]
    },
    {
      "cell_type": "code",
      "source": [
        "# Evaluate results\n",
        "model_2_results = evaluate_preds(tf.squeeze(test_labels), model_2_preds)\n",
        "model_2_results"
      ],
      "metadata": {
        "colab": {
          "base_uri": "https://localhost:8080/"
        },
        "id": "ghZPnL5l6Tvq",
        "outputId": "64bd2d66-08cd-4201-9834-4dbdef4d79da"
      },
      "execution_count": 61,
      "outputs": [
        {
          "output_type": "execute_result",
          "data": {
            "text/plain": [
              "{'MAE': 605.8741,\n",
              " 'MSE': 1273360.8,\n",
              " 'RMSE': 1128.4329,\n",
              " 'MAPE': 2.726445,\n",
              " 'MASE': 1.0590738}"
            ]
          },
          "metadata": {},
          "execution_count": 61
        }
      ]
    },
    {
      "cell_type": "code",
      "source": [
        "model_1_results"
      ],
      "metadata": {
        "colab": {
          "base_uri": "https://localhost:8080/"
        },
        "id": "ipPBXHYS6aUv",
        "outputId": "a15163ab-9eb6-4161-c662-28cdd4fab391"
      },
      "execution_count": 62,
      "outputs": [
        {
          "output_type": "execute_result",
          "data": {
            "text/plain": [
              "{'MAE': 568.9511,\n",
              " 'MSE': 1171743.8,\n",
              " 'RMSE': 1082.4711,\n",
              " 'MAPE': 2.5448983,\n",
              " 'MASE': 0.99948955}"
            ]
          },
          "metadata": {},
          "execution_count": 62
        }
      ]
    },
    {
      "cell_type": "code",
      "source": [
        "# Let's plot our model 1 prediction\n",
        "offset = 40\n",
        "plt.figure(figsize=(10, 7))\n",
        "# Account for the test window offset and index into test_labels to ensure corrent plotting\n",
        "plot_time_series(timesteps=X_test[-len(test_windows):], values=test_labels[:, 0], start=offset, label='Test Data')\n",
        "\n",
        "# Plot prediction\n",
        "plot_time_series(timesteps=X_test[-len(test_windows):], values=model_2_preds,format='-',  label='model_2_preds')\n"
      ],
      "metadata": {
        "colab": {
          "base_uri": "https://localhost:8080/",
          "height": 54
        },
        "id": "dFLzoBF76n2b",
        "outputId": "ff483ac4-0c56-4f2a-8324-4ff9816c1816"
      },
      "execution_count": 63,
      "outputs": [
        {
          "output_type": "display_data",
          "data": {
            "text/plain": [
              "<Figure size 720x504 with 1 Axes>"
            ],
            "image/png": "[encoded data removed]"
          },
          "metadata": {
            "needs_background": "light"
          }
        }
      ]
    },
    {
      "cell_type": "markdown",
      "source": [
        "# Model 3: Dense (window=30, horizon=7)"
      ],
      "metadata": {
        "id": "8qdXm8Rc8v3J"
      }
    },
    {
      "cell_type": "code",
      "source": [
        "HORIZON = 7\n",
        "WINDOW_SIZE = 30"
      ],
      "metadata": {
        "id": "FS_LGHgtVF6H"
      },
      "execution_count": 64,
      "outputs": []
    },
    {
      "cell_type": "code",
      "source": [
        "# Make windowed data with appropritate horizon and window size\n",
        "full_windows, full_labels = make_windows(prices, window_size=WINDOW_SIZE, horizon=HORIZON)"
      ],
      "metadata": {
        "id": "VtAXZIKXVOyV"
      },
      "execution_count": 65,
      "outputs": []
    },
    {
      "cell_type": "code",
      "source": [
        "len(full_windows) , len(full_labels)"
      ],
      "metadata": {
        "colab": {
          "base_uri": "https://localhost:8080/"
        },
        "id": "oQvYmRmJVUI0",
        "outputId": "70c37ce5-8a62-4360-b966-e68931bc4d9b"
      },
      "execution_count": 66,
      "outputs": [
        {
          "output_type": "execute_result",
          "data": {
            "text/plain": [
              "(2751, 2751)"
            ]
          },
          "metadata": {},
          "execution_count": 66
        }
      ]
    },
    {
      "cell_type": "code",
      "source": [
        "# Make train and testing windows\n",
        "train_windows, test_windows, train_labels, test_labels = make_train_test_splits(windows=full_windows,\n",
        "                                                                               labels=full_labels,\n",
        "                                                                               test_split=0.2)"
      ],
      "metadata": {
        "id": "nKgnOY16VZqK"
      },
      "execution_count": 67,
      "outputs": []
    },
    {
      "cell_type": "code",
      "source": [
        "len(train_windows), len(train_labels), len(test_windows), len(test_labels)"
      ],
      "metadata": {
        "colab": {
          "base_uri": "https://localhost:8080/"
        },
        "id": "sHYK-3l8VaIJ",
        "outputId": "8cf561c0-5b17-4520-bb90-6f27bc4c0460"
      },
      "execution_count": 68,
      "outputs": [
        {
          "output_type": "execute_result",
          "data": {
            "text/plain": [
              "(2200, 2200, 551, 551)"
            ]
          },
          "metadata": {},
          "execution_count": 68
        }
      ]
    },
    {
      "cell_type": "code",
      "source": [
        "tf.random.set_seed(42)\n",
        "\n",
        "# Create model \n",
        "model_3 = tf.keras.Sequential([\n",
        "    layers.Dense(128, activation='relu'),\n",
        "    layers.Dense(HORIZON)\n",
        "], name='model_3_dense')\n",
        "\n",
        "# Compile\n",
        "model_3.compile(loss='mae',\n",
        "                optimizer='adam',\n",
        "                metrics=['mae', 'mse'])\n",
        "\n",
        "# Fit\n",
        "model_3.fit(train_windows,\n",
        "            train_labels,\n",
        "            epochs=100,\n",
        "            batch_size=128,\n",
        "            verbose=0,\n",
        "            validation_data=(test_windows, test_labels),\n",
        "            callbacks=[create_model_checkpoint(model_name=model_3.name)])\n"
      ],
      "metadata": {
        "colab": {
          "base_uri": "https://localhost:8080/"
        },
        "id": "rAtYlxqLVeZ-",
        "outputId": "54966904-acdc-4ccd-a070-86277b97a61e"
      },
      "execution_count": 69,
      "outputs": [
        {
          "output_type": "execute_result",
          "data": {
            "text/plain": [
              "<keras.callbacks.History at 0x7f0b50386a10>"
            ]
          },
          "metadata": {},
          "execution_count": 69
        }
      ]
    },
    {
      "cell_type": "code",
      "source": [
        "# Evaluate our model\n",
        "model_3.evaluate(test_windows, test_labels)"
      ],
      "metadata": {
        "colab": {
          "base_uri": "https://localhost:8080/"
        },
        "id": "kANMhvU6VnAY",
        "outputId": "30815c96-d251-4c7e-e315-26c6cb48ad3a"
      },
      "execution_count": 70,
      "outputs": [
        {
          "output_type": "stream",
          "name": "stdout",
          "text": [
            "18/18 [==============================] - 0s 2ms/step - loss: 1300.1522 - mae: 1300.1522 - mse: 5599956.0000\n"
          ]
        },
        {
          "output_type": "execute_result",
          "data": {
            "text/plain": [
              "[1300.1522216796875, 1300.1522216796875, 5599956.0]"
            ]
          },
          "metadata": {},
          "execution_count": 70
        }
      ]
    },
    {
      "cell_type": "code",
      "source": [
        "# Load the best model (ALWAYS DO THIS!!)\n",
        "model_3 = tf.keras.models.load_model('model_experiments/model_3_dense/')\n",
        "model_3.evaluate(test_windows, test_labels)"
      ],
      "metadata": {
        "colab": {
          "base_uri": "https://localhost:8080/"
        },
        "id": "oz9PKAp8Vxyj",
        "outputId": "60ec5b45-1986-4708-80f3-02baf52ac37e"
      },
      "execution_count": 71,
      "outputs": [
        {
          "output_type": "stream",
          "name": "stdout",
          "text": [
            "18/18 [==============================] - 0s 2ms/step - loss: 1237.5063 - mae: 1237.5063 - mse: 5405199.0000\n"
          ]
        },
        {
          "output_type": "execute_result",
          "data": {
            "text/plain": [
              "[1237.50634765625, 1237.50634765625, 5405199.0]"
            ]
          },
          "metadata": {},
          "execution_count": 71
        }
      ]
    },
    {
      "cell_type": "code",
      "source": [
        "model_3_preds = make_preds(model_3, test_windows)"
      ],
      "metadata": {
        "id": "lekMuO95V5ko"
      },
      "execution_count": 72,
      "outputs": []
    },
    {
      "cell_type": "code",
      "source": [
        "model_3_preds[:3].numpy(), test_labels[:3]"
      ],
      "metadata": {
        "colab": {
          "base_uri": "https://localhost:8080/"
        },
        "id": "sLibu_kzWCIL",
        "outputId": "fadf1cf6-8bbf-4be4-b55a-0d0c44405d60"
      },
      "execution_count": 73,
      "outputs": [
        {
          "output_type": "execute_result",
          "data": {
            "text/plain": [
              "(array([[9004.694 , 9048.1   , 9425.09  , 9258.256 , 9495.797 , 9558.453 ,\n",
              "         9357.3545],\n",
              "        [8735.506 , 8840.303 , 9247.793 , 8885.601 , 9097.186 , 9174.327 ,\n",
              "         9156.818 ],\n",
              "        [8672.508 , 8782.387 , 9123.857 , 8770.371 , 9007.13  , 9003.869 ,\n",
              "         9042.725 ]], dtype=float32),\n",
              " array([[8794.35864452, 8798.04205463, 9081.18687849, 8711.53433917,\n",
              "         8760.89271814, 8749.52059102, 8656.97092235],\n",
              "        [8798.04205463, 9081.18687849, 8711.53433917, 8760.89271814,\n",
              "         8749.52059102, 8656.97092235, 8500.64355816],\n",
              "        [9081.18687849, 8711.53433917, 8760.89271814, 8749.52059102,\n",
              "         8656.97092235, 8500.64355816, 8469.2608989 ]]))"
            ]
          },
          "metadata": {},
          "execution_count": 73
        }
      ]
    },
    {
      "cell_type": "code",
      "source": [
        "# Evaluate results\n",
        "model_3_results = evaluate_preds(tf.squeeze(test_labels), model_3_preds)\n",
        "model_3_results"
      ],
      "metadata": {
        "colab": {
          "base_uri": "https://localhost:8080/"
        },
        "id": "_9k4BYXFWEeY",
        "outputId": "14b3af2e-3886-4126-848d-20f1bdd42744"
      },
      "execution_count": 74,
      "outputs": [
        {
          "output_type": "execute_result",
          "data": {
            "text/plain": [
              "{'MAE': array([ 513.6056  ,  355.08328 ,  327.17075 ,  358.5106  ,  420.53293 ,\n",
              "         537.854   ,  545.6617  ,  485.9228  ,  584.49713 ,  687.38214 ,\n",
              "         836.2264  ,  755.1576  ,  731.4957  ,  775.3399  ,  567.95544 ,\n",
              "         266.80865 ,  188.80217 ,  188.10805 ,  253.095   ,  301.43256 ,\n",
              "         151.10721 ,  196.8148  ,  191.46178 ,  231.65031 ,  143.61125 ,\n",
              "         122.59089 ,  132.78871 ,  190.81174 ,  179.15994 ,  228.26004 ,\n",
              "         314.44022 ,  379.09235 ,  278.32526 ,  295.34702 ,  299.3852  ,\n",
              "         248.64983 ,  299.75668 ,  259.69434 ,  180.30531 ,  206.72922 ,\n",
              "         374.62863 ,  144.85086 ,  142.33635 ,  131.11613 ,   93.9412  ,\n",
              "          54.825542,   73.79555 ,  103.60121 ,  121.333916,  168.67278 ,\n",
              "         183.90945 ,  152.25307 ,  186.57199 ,  146.91273 ,  240.42912 ,\n",
              "         351.00656 ,  540.952   ,  549.1573  ,  521.2411  ,  526.8554  ,\n",
              "         453.36237 ,  257.9811  ,  277.2947  ,  301.8247  ,  455.718   ,\n",
              "         458.9603  ,  503.4438  ,  522.3119  ,  223.07631 ,  250.09529 ,\n",
              "         297.1437  ,  400.571   ,  495.7984  ,  364.33707 ,  283.3662  ,\n",
              "         325.59543 ,  238.21178 ,  318.97754 ,  460.77106 ,  651.0762  ,\n",
              "         835.88    ,  669.96454 ,  319.54507 ,  261.99442 ,  142.3923  ,\n",
              "         136.62863 ,  154.75223 ,  221.32617 ,  290.50406 ,  503.88406 ,\n",
              "         414.2602  ,  434.35742 ,  377.98785 ,  251.78947 ,  204.2832  ,\n",
              "         388.227   ,  360.65793 ,  493.80914 ,  614.8613  ,  754.70245 ,\n",
              "         533.77136 ,  378.98898 ,  280.49496 ,  339.48074 ,  413.1289  ,\n",
              "         452.87875 ,  550.5381  ,  634.5726  ,  935.5726  ,  931.60016 ,\n",
              "         881.2803  ,  426.39984 ,  179.45871 ,  121.66197 ,  160.43889 ,\n",
              "         372.07108 ,  341.85764 ,  476.52408 ,  618.3245  , 1038.8986  ,\n",
              "        1569.5028  , 2157.1199  , 1987.6077  , 2158.6108  , 2303.5608  ,\n",
              "        2662.9429  , 1405.5013  ,  728.30096 ,  351.70062 ,  322.03195 ,\n",
              "         493.94748 ,  435.4843  ,  565.5558  ,  350.11676 ,  289.0198  ,\n",
              "         251.21603 ,  409.05615 ,  342.20996 ,  320.8362  ,  330.88608 ,\n",
              "         357.84613 ,  335.94818 ,  206.10303 ,  544.3839  ,  700.00934 ,\n",
              "         468.91992 ,  404.49615 ,  172.80127 ,  308.33685 ,  210.47621 ,\n",
              "         318.9543  ,  486.1326  ,  428.8803  ,  533.91113 ,  433.78152 ,\n",
              "         396.89432 ,  138.40381 ,  189.96658 ,  170.39209 ,  181.54346 ,\n",
              "         282.88992 ,  264.3886  ,  250.6218  ,  240.33762 ,  276.95425 ,\n",
              "         326.0295  ,  489.6155  ,  686.2448  ,  526.9793  ,  603.01135 ,\n",
              "         825.3831  ,  871.0463  ,  990.0688  , 1090.0597  ,  560.2842  ,\n",
              "         310.52246 ,  371.39035 ,  348.45953 ,  355.73438 ,  429.56543 ,\n",
              "         581.2835  ,  550.52203 ,  635.4312  ,  913.404   ,  840.7183  ,\n",
              "         305.0357  ,  493.93332 ,  751.31824 ,  410.63434 ,  220.62459 ,\n",
              "         282.25446 ,  291.8527  ,  422.50375 ,  458.6543  ,  637.2352  ,\n",
              "         647.82324 ,  417.24496 ,  220.23703 ,  246.72209 ,  200.22922 ,\n",
              "         455.1494  ,  719.6059  ,  696.3024  ,  485.0996  ,  294.95285 ,\n",
              "         170.52371 ,  211.82478 ,  270.565   ,  189.89299 ,  171.21736 ,\n",
              "         366.44727 ,  231.96373 ,  318.78738 ,  273.79395 ,  358.5565  ,\n",
              "         412.2281  ,  512.3167  ,  185.43959 ,  196.38225 ,  200.006   ,\n",
              "         224.58664 ,  213.41978 ,  186.23926 ,  113.371376,  172.23228 ,\n",
              "         168.89857 ,  236.0957  ,  307.5971  ,  328.9389  ,  566.59625 ,\n",
              "         285.04395 ,  300.44965 ,  125.45299 ,  168.94322 ,  137.25851 ,\n",
              "         143.5039  ,  145.27791 ,  107.339424,   77.16225 ,  131.8711  ,\n",
              "         134.02023 ,  167.45773 ,  137.9216  ,  148.9135  ,  204.95508 ,\n",
              "         157.89746 ,  196.95242 ,  167.93918 ,  156.45605 ,  188.68094 ,\n",
              "         161.44127 ,   90.99763 ,  136.8411  ,  198.51701 ,  230.1381  ,\n",
              "         294.78336 ,  594.2425  ,  699.6479  ,  815.13574 ,  905.339   ,\n",
              "        1127.2997  , 1342.6945  , 1317.0691  ,  590.1681  ,  296.34515 ,\n",
              "         243.43625 ,  256.3983  ,  222.28459 ,  323.83832 ,   82.513115,\n",
              "         120.14384 ,  249.14914 ,  205.73592 ,  243.4548  ,  250.64803 ,\n",
              "         287.2762  ,  224.38142 ,  266.56    ,  221.51033 ,  218.49637 ,\n",
              "         272.42285 ,  279.5964  ,  252.58846 ,  381.565   ,  417.97086 ,\n",
              "         624.5573  ,  368.03738 ,  327.25488 ,  263.43973 ,  349.95285 ,\n",
              "         398.62515 ,  297.07407 ,  147.04924 ,  164.5431  ,  313.36343 ,\n",
              "         477.7482  ,  675.0409  ,  897.2679  , 1094.7103  , 1460.1776  ,\n",
              "        1398.586   ,  952.72516 ,  645.95886 ,  166.17899 ,  144.66895 ,\n",
              "         189.18289 ,  304.81332 ,  435.10602 ,  449.64398 ,  425.2437  ,\n",
              "         441.93597 ,  407.29465 ,  252.40388 ,  248.3697  ,  336.17105 ,\n",
              "         482.81055 ,  437.53082 ,  533.0868  ,  346.9795  ,  127.686806,\n",
              "         110.208145,  301.75113 ,  195.50545 ,  174.65164 ,  238.47098 ,\n",
              "         302.37164 ,  313.51743 ,  310.1296  ,  200.29855 ,  172.47307 ,\n",
              "         140.2302  ,  252.48549 ,  289.32437 ,  343.62094 ,  504.1179  ,\n",
              "         635.1342  ,  602.1302  ,  519.06055 ,  214.90262 ,  195.9117  ,\n",
              "         265.0371  ,  198.90123 ,  345.51285 ,  517.2228  ,  631.0296  ,\n",
              "         988.4247  , 1174.214   , 1196.2845  , 1253.9298  ,  526.0653  ,\n",
              "         210.31516 ,  215.27107 ,  169.86008 ,  283.78668 ,  269.76157 ,\n",
              "         228.6349  ,  186.64648 ,  410.54254 ,  601.2651  ,  618.1225  ,\n",
              "         768.7529  , 1158.5458  , 1232.8795  , 1254.4297  ,  423.0244  ,\n",
              "         390.0357  ,  367.23898 ,  209.55775 ,  530.22235 ,  821.3824  ,\n",
              "         812.3729  ,  741.1964  ,  953.4838  , 1258.9902  , 1844.932   ,\n",
              "        1605.2845  , 1112.7659  ,  594.18835 ,  549.7667  ,  632.5435  ,\n",
              "         829.2642  , 1103.2218  , 1130.1029  , 1033.3518  ,  878.5865  ,\n",
              "         595.40875 , 1115.6506  , 1371.1725  , 1385.2509  ,  387.5226  ,\n",
              "         303.74887 ,  495.12473 ,  719.5804  ,  648.90265 ,  766.1632  ,\n",
              "         683.23157 ,  596.4121  ,  523.09265 ,  577.3407  , 1337.6208  ,\n",
              "        2454.5964  , 2759.2344  , 3135.8762  , 3407.3806  , 3602.6335  ,\n",
              "        2527.157   , 1158.0999  ,  679.8432  ,  748.5586  , 1073.4869  ,\n",
              "        1217.7327  , 1459.5656  , 2502.731   , 3075.8247  , 3090.2878  ,\n",
              "        2564.758   , 2660.5317  , 2928.934   , 3690.556   , 3525.141   ,\n",
              "        4183.6694  , 5144.0674  , 4384.655   , 4164.9614  , 4431.0938  ,\n",
              "        3335.1216  , 3017.6858  , 2589.5396  , 4103.63    , 5582.0933  ,\n",
              "        5108.46    , 1382.9637  ,  953.5419  , 1081.6825  , 2483.1975  ,\n",
              "        2992.0547  , 3127.0942  , 2972.2747  , 3054.65    , 3283.713   ,\n",
              "        3617.3674  , 1170.2589  , 1074.1827  , 1059.317   , 1044.5404  ,\n",
              "        1060.622   , 2115.719   , 3569.8867  , 3474.3625  , 2448.0156  ,\n",
              "        2641.418   , 3188.602   , 4899.9146  , 5516.288   , 4635.486   ,\n",
              "        4677.034   , 5732.883   , 5866.738   , 8083.3403  , 5049.8286  ,\n",
              "        1476.2288  , 1873.3275  , 1219.0988  , 2324.073   , 2467.0083  ,\n",
              "        3005.0898  , 2805.0503  , 3688.254   , 2962.7136  , 3664.2388  ,\n",
              "        5618.684   , 6925.0967  , 9751.094   , 8790.821   , 5057.626   ,\n",
              "        2971.6848  , 1715.495   , 1125.7706  , 2201.4246  , 3969.4978  ,\n",
              "        2988.5083  , 2911.9285  , 2796.8672  , 3937.8806  , 5449.5894  ,\n",
              "        6395.021   , 6148.242   , 5437.6987  , 4291.8257  , 2362.3967  ,\n",
              "        1657.3405  , 1426.6367  , 1647.716   , 2730.3967  , 1813.7115  ,\n",
              "        2061.1519  , 3095.7227  , 4312.8096  , 5500.7266  , 5258.027   ,\n",
              "        5152.028   , 1331.4062  , 1634.4023  , 2493.4324  , 3957.951   ,\n",
              "        4499.2144  , 2215.846   , 2587.4119  , 1622.4397  ,  591.875   ,\n",
              "        1297.4727  , 1284.5983  ,  915.22766 ,  940.44977 , 1084.6584  ,\n",
              "         875.8979  , 1041.3549  , 2299.2478  , 3152.6003  , 3518.394   ,\n",
              "        2531.523   , 2682.573   , 3094.2917  , 3829.3364  , 5550.616   ,\n",
              "        7159.347   , 8820.524   , 8587.342   , 6777.815   , 5193.292   ,\n",
              "        4793.3384  , 2605.2544  , 1668.3605  , 2510.7192  , 4105.6826  ,\n",
              "        6278.392   , 4109.7534  , 1711.1166  , 2261.9832  , 2384.7534  ,\n",
              "        1246.6641  , 1672.8483  , 1103.1345  , 1743.3678  , 1608.4564  ,\n",
              "        1933.904   , 2742.3433  , 3945.3645  , 5765.941   , 6955.8433  ,\n",
              "        8107.708   ], dtype=float32),\n",
              " 'MSE': array([3.15562562e+05, 1.69165047e+05, 1.44132125e+05, 1.76003203e+05,\n",
              "        2.63520344e+05, 3.91517562e+05, 3.99526312e+05, 3.44422156e+05,\n",
              "        4.93892469e+05, 6.88786438e+05, 9.18702875e+05, 8.00988562e+05,\n",
              "        6.35508625e+05, 6.45535812e+05, 3.57740594e+05, 1.03007414e+05,\n",
              "        5.33133125e+04, 4.65832500e+04, 1.10349016e+05, 1.11646961e+05,\n",
              "        4.35359453e+04, 5.45391523e+04, 4.55849648e+04, 7.64883672e+04,\n",
              "        4.03074453e+04, 2.71076816e+04, 1.90269824e+04, 4.55625742e+04,\n",
              "        4.25344805e+04, 6.63250156e+04, 1.16741703e+05, 1.69440422e+05,\n",
              "        1.10487078e+05, 1.59708266e+05, 1.61630891e+05, 1.23861797e+05,\n",
              "        1.50757406e+05, 1.31196844e+05, 5.50280977e+04, 6.28156445e+04,\n",
              "        1.77474219e+05, 2.68842363e+04, 2.53034434e+04, 2.58045059e+04,\n",
              "        1.34594688e+04, 3.88201562e+03, 9.22790527e+03, 1.22403125e+04,\n",
              "        2.20870137e+04, 3.60827500e+04, 4.87961602e+04, 3.74652578e+04,\n",
              "        4.10563711e+04, 4.17419023e+04, 1.10490461e+05, 2.00761453e+05,\n",
              "        3.48149906e+05, 3.58061312e+05, 3.28374031e+05, 2.96505938e+05,\n",
              "        2.33353781e+05, 1.54046734e+05, 1.43171641e+05, 1.62586703e+05,\n",
              "        2.96452750e+05, 2.66880969e+05, 2.94188594e+05, 3.10067562e+05,\n",
              "        6.27178242e+04, 8.63872109e+04, 9.69540391e+04, 2.01815250e+05,\n",
              "        2.97054594e+05, 2.00675078e+05, 1.27305445e+05, 1.32510266e+05,\n",
              "        8.46021406e+04, 1.74816797e+05, 2.95114281e+05, 4.75889719e+05,\n",
              "        7.21893438e+05, 4.62710188e+05, 1.33154703e+05, 8.13637656e+04,\n",
              "        3.43107852e+04, 3.45205547e+04, 5.36855352e+04, 7.42412188e+04,\n",
              "        1.09339258e+05, 2.79682500e+05, 2.19119391e+05, 1.99934375e+05,\n",
              "        1.65902453e+05, 8.16736484e+04, 4.82389180e+04, 1.65301344e+05,\n",
              "        1.81698328e+05, 3.30645000e+05, 4.63627250e+05, 6.75045625e+05,\n",
              "        3.34911969e+05, 1.69344000e+05, 1.03219461e+05, 1.48348172e+05,\n",
              "        2.98685688e+05, 3.71952438e+05, 4.43305844e+05, 5.27905000e+05,\n",
              "        1.12945238e+06, 1.00652912e+06, 8.03246812e+05, 2.21277672e+05,\n",
              "        6.64889375e+04, 2.66179375e+04, 3.29691523e+04, 1.68663719e+05,\n",
              "        1.76257344e+05, 2.99364906e+05, 4.31794719e+05, 1.91346938e+06,\n",
              "        3.90354125e+06, 6.29502450e+06, 5.49042500e+06, 6.25677100e+06,\n",
              "        6.28618500e+06, 7.23876700e+06, 2.08143475e+06, 6.66785812e+05,\n",
              "        1.44640328e+05, 1.83413734e+05, 3.41025938e+05, 3.02068688e+05,\n",
              "        3.71339250e+05, 2.02418469e+05, 1.36150797e+05, 8.24756250e+04,\n",
              "        1.96007016e+05, 1.61595531e+05, 1.71401109e+05, 2.00606781e+05,\n",
              "        2.37199359e+05, 1.58720219e+05, 6.36029766e+04, 3.38904750e+05,\n",
              "        5.23524188e+05, 2.86211969e+05, 1.92325922e+05, 3.73764375e+04,\n",
              "        1.31962375e+05, 9.33164844e+04, 1.18443625e+05, 3.00599344e+05,\n",
              "        2.28997641e+05, 3.57954812e+05, 2.36219250e+05, 1.71530031e+05,\n",
              "        2.68483613e+04, 4.79165352e+04, 4.00421953e+04, 5.41032422e+04,\n",
              "        1.07641438e+05, 9.80018359e+04, 7.08349922e+04, 6.55987812e+04,\n",
              "        8.53739609e+04, 1.33836594e+05, 2.72516031e+05, 6.54133000e+05,\n",
              "        4.97211812e+05, 6.11189312e+05, 9.92908312e+05, 9.56691000e+05,\n",
              "        1.09541325e+06, 1.19283175e+06, 3.75002188e+05, 2.22053828e+05,\n",
              "        2.60620156e+05, 1.88108875e+05, 1.87927750e+05, 2.49059219e+05,\n",
              "        3.79191938e+05, 4.07706812e+05, 6.24782625e+05, 9.62080500e+05,\n",
              "        7.95344312e+05, 1.40557766e+05, 2.65226344e+05, 6.26270438e+05,\n",
              "        2.05804469e+05, 6.53086562e+04, 1.33562875e+05, 1.14691547e+05,\n",
              "        2.26913719e+05, 2.61227344e+05, 5.08516812e+05, 4.90744031e+05,\n",
              "        2.38722219e+05, 6.85554844e+04, 7.30579844e+04, 5.36114375e+04,\n",
              "        3.28222750e+05, 6.26447562e+05, 5.17733938e+05, 3.32536906e+05,\n",
              "        1.72656594e+05, 8.28139297e+04, 1.43392859e+05, 8.83170859e+04,\n",
              "        5.15845234e+04, 4.20796602e+04, 1.78049500e+05, 1.17351922e+05,\n",
              "        1.16870359e+05, 1.02416914e+05, 1.67489344e+05, 2.05509422e+05,\n",
              "        2.73222562e+05, 4.73887266e+04, 4.60582461e+04, 5.33724297e+04,\n",
              "        7.87067422e+04, 7.06484219e+04, 5.23134414e+04, 2.50282949e+04,\n",
              "        4.52028984e+04, 4.14731211e+04, 7.00108125e+04, 1.24132516e+05,\n",
              "        1.34167594e+05, 3.38401844e+05, 9.75608906e+04, 1.10023234e+05,\n",
              "        1.99198105e+04, 3.32736992e+04, 2.43713613e+04, 2.76616055e+04,\n",
              "        2.70386289e+04, 1.58114443e+04, 1.16168496e+04, 2.74853652e+04,\n",
              "        2.95268613e+04, 3.95873516e+04, 2.81845449e+04, 3.19157871e+04,\n",
              "        5.60373164e+04, 3.98339648e+04, 5.02200703e+04, 3.19762402e+04,\n",
              "        2.96142949e+04, 4.48334258e+04, 4.32264375e+04, 1.52424775e+04,\n",
              "        2.86075918e+04, 4.23484023e+04, 7.25031172e+04, 1.21924180e+05,\n",
              "        6.41490500e+05, 8.50461375e+05, 1.11135250e+06, 1.22003288e+06,\n",
              "        1.54110100e+06, 2.03451888e+06, 1.76440675e+06, 4.22098719e+05,\n",
              "        1.30513617e+05, 7.30579375e+04, 8.56106875e+04, 7.42399219e+04,\n",
              "        1.49466484e+05, 1.25624111e+04, 2.13100684e+04, 9.81801094e+04,\n",
              "        7.28017891e+04, 1.26064570e+05, 1.01337180e+05, 1.24553578e+05,\n",
              "        7.13406719e+04, 8.41950703e+04, 6.25290547e+04, 8.18796016e+04,\n",
              "        1.27303258e+05, 8.94661328e+04, 1.04101039e+05, 1.66147531e+05,\n",
              "        2.32076047e+05, 4.41966531e+05, 1.75839109e+05, 1.76445078e+05,\n",
              "        9.12171094e+04, 1.67975469e+05, 1.87876422e+05, 1.07636641e+05,\n",
              "        3.26579023e+04, 5.35408945e+04, 1.38144203e+05, 3.28639000e+05,\n",
              "        6.38893000e+05, 1.08279062e+06, 1.55802688e+06, 2.42137025e+06,\n",
              "        2.08980188e+06, 9.83022125e+05, 4.27434938e+05, 5.84014375e+04,\n",
              "        4.02858125e+04, 5.27582695e+04, 1.33694047e+05, 2.41685969e+05,\n",
              "        2.54570125e+05, 2.18475656e+05, 2.39844203e+05, 1.72919391e+05,\n",
              "        9.46134297e+04, 8.14814844e+04, 1.83792781e+05, 3.41631406e+05,\n",
              "        2.67091531e+05, 3.54821562e+05, 1.69607219e+05, 2.63052539e+04,\n",
              "        2.11335898e+04, 1.11685516e+05, 6.08848320e+04, 4.64013945e+04,\n",
              "        6.97663828e+04, 1.16935688e+05, 1.44631391e+05, 1.14627359e+05,\n",
              "        7.92805703e+04, 5.69165547e+04, 3.03999824e+04, 9.47754453e+04,\n",
              "        1.19674555e+05, 2.15399078e+05, 3.15528062e+05, 4.17612281e+05,\n",
              "        3.91753062e+05, 2.83128781e+05, 8.15815391e+04, 5.00838711e+04,\n",
              "        1.01595758e+05, 6.17700664e+04, 3.16725938e+05, 5.76747812e+05,\n",
              "        7.41102938e+05, 1.33218062e+06, 1.56516288e+06, 1.55553288e+06,\n",
              "        1.68517775e+06, 3.21848812e+05, 6.30701875e+04, 7.78368047e+04,\n",
              "        5.12543789e+04, 1.14444773e+05, 1.13520664e+05, 7.03018281e+04,\n",
              "        4.71100312e+04, 4.52435031e+05, 7.79104812e+05, 7.32537000e+05,\n",
              "        1.03909069e+06, 1.56208838e+06, 1.63956625e+06, 1.72790112e+06,\n",
              "        4.00524938e+05, 2.34607969e+05, 1.76724875e+05, 6.78014375e+04,\n",
              "        3.90380906e+05, 9.80138688e+05, 1.03536912e+06, 8.44671688e+05,\n",
              "        1.38894325e+06, 1.98340425e+06, 3.62835000e+06, 2.66920550e+06,\n",
              "        1.42116625e+06, 4.54600656e+05, 3.65966188e+05, 9.46591875e+05,\n",
              "        1.45184338e+06, 1.85899962e+06, 1.89930900e+06, 1.82373088e+06,\n",
              "        1.21286275e+06, 4.94639688e+05, 1.49650112e+06, 2.03091888e+06,\n",
              "        2.25657475e+06, 2.11181250e+05, 1.21395430e+05, 3.04310812e+05,\n",
              "        7.11903125e+05, 6.20310625e+05, 8.05388000e+05, 6.26904125e+05,\n",
              "        5.66389625e+05, 4.27519062e+05, 7.83490438e+05, 3.63024550e+06,\n",
              "        8.18037250e+06, 1.07676110e+07, 1.26563590e+07, 1.33500370e+07,\n",
              "        1.33957210e+07, 6.52510050e+06, 1.60696225e+06, 8.56755125e+05,\n",
              "        1.15616888e+06, 1.69268338e+06, 2.17123725e+06, 3.34217825e+06,\n",
              "        7.84993050e+06, 1.08378820e+07, 1.05727040e+07, 1.01602580e+07,\n",
              "        1.14205950e+07, 1.16179760e+07, 1.73510000e+07, 1.79301580e+07,\n",
              "        2.70626400e+07, 3.72665360e+07, 2.97687480e+07, 2.14580200e+07,\n",
              "        2.44065800e+07, 1.56006630e+07, 1.03771430e+07, 9.93532300e+06,\n",
              "        2.18889420e+07, 3.45002520e+07, 2.72495560e+07, 2.51544575e+06,\n",
              "        2.11410050e+06, 1.65101438e+06, 8.78065100e+06, 1.42263850e+07,\n",
              "        1.50277490e+07, 1.42628870e+07, 1.11521150e+07, 1.31385830e+07,\n",
              "        1.44270310e+07, 2.10808025e+06, 2.37276650e+06, 2.06520375e+06,\n",
              "        1.51271862e+06, 1.63592562e+06, 6.01036300e+06, 1.48181510e+07,\n",
              "        1.51462640e+07, 8.88826800e+06, 1.03656160e+07, 1.24236460e+07,\n",
              "        3.12300340e+07, 4.44121680e+07, 3.35616920e+07, 3.37025520e+07,\n",
              "        4.33024880e+07, 4.04648120e+07, 6.68120760e+07, 2.68143000e+07,\n",
              "        3.37227625e+06, 6.18198100e+06, 3.33603000e+06, 9.76003500e+06,\n",
              "        9.50540700e+06, 1.48300480e+07, 1.08089090e+07, 1.52812330e+07,\n",
              "        1.21298720e+07, 1.47111110e+07, 4.46197040e+07, 6.19226520e+07,\n",
              "        1.05739144e+08, 8.06071200e+07, 3.00356780e+07, 1.30779050e+07,\n",
              "        4.55989850e+06, 1.67929975e+06, 6.99428700e+06, 1.63486880e+07,\n",
              "        1.21498720e+07, 1.21798100e+07, 1.68979380e+07, 2.39387620e+07,\n",
              "        3.73065320e+07, 5.09610680e+07, 4.59522000e+07, 3.20003060e+07,\n",
              "        2.06371620e+07, 8.14506450e+06, 4.14795200e+06, 4.23500700e+06,\n",
              "        3.09785600e+06, 8.37916250e+06, 7.36109850e+06, 7.06096250e+06,\n",
              "        1.57310800e+07, 2.78767000e+07, 4.07340120e+07, 3.28521320e+07,\n",
              "        2.89016540e+07, 3.40229975e+06, 3.84223750e+06, 8.10805100e+06,\n",
              "        1.74778500e+07, 2.13824540e+07, 5.77503650e+06, 7.30699550e+06,\n",
              "        3.70580475e+06, 6.14523812e+05, 1.92766775e+06, 2.29575125e+06,\n",
              "        1.09031838e+06, 1.19422538e+06, 2.01535212e+06, 1.38584200e+06,\n",
              "        2.60915475e+06, 7.48125550e+06, 1.25728590e+07, 1.49188430e+07,\n",
              "        7.64712450e+06, 9.50859000e+06, 1.16537280e+07, 2.15389020e+07,\n",
              "        4.32745680e+07, 6.52255280e+07, 9.30124960e+07, 8.49971200e+07,\n",
              "        5.87007160e+07, 3.43533080e+07, 2.82686400e+07, 9.30442900e+06,\n",
              "        4.66935400e+06, 8.00186650e+06, 2.05975080e+07, 4.07234280e+07,\n",
              "        1.93118500e+07, 4.04351750e+06, 5.92505450e+06, 7.37347950e+06,\n",
              "        2.68488600e+06, 5.27761950e+06, 1.84824825e+06, 4.87236000e+06,\n",
              "        4.87888300e+06, 5.77537050e+06, 1.21702160e+07, 2.70199620e+07,\n",
              "        4.94704520e+07, 6.90301360e+07, 8.50554720e+07], dtype=float32),\n",
              " 'RMSE': array([  561.7495  ,   411.29678 ,   379.64737 ,   419.52734 ,\n",
              "          513.3423  ,   625.7136  ,   632.08093 ,   586.8749  ,\n",
              "          702.77484 ,   829.9316  ,   958.48987 ,   894.9796  ,\n",
              "          797.1879  ,   803.45245 ,   598.1142  ,   320.9477  ,\n",
              "          230.89676 ,   215.83153 ,   332.18823 ,   334.13614 ,\n",
              "          208.65268 ,   233.5362  ,   213.50635 ,   276.5653  ,\n",
              "          200.76714 ,   164.6441  ,   137.93832 ,   213.45392 ,\n",
              "          206.23889 ,   257.53644 ,   341.67484 ,   411.6314  ,\n",
              "          332.39597 ,   399.63516 ,   402.03345 ,   351.94003 ,\n",
              "          388.2749  ,   362.21103 ,   234.58067 ,   250.6305  ,\n",
              "          421.2769  ,   163.96413 ,   159.07056 ,   160.6378  ,\n",
              "          116.014946,    62.30582 ,    96.06198 ,   110.63595 ,\n",
              "          148.617   ,   189.9546  ,   220.89853 ,   193.55943 ,\n",
              "          202.62372 ,   204.30835 ,   332.40106 ,   448.06412 ,\n",
              "          590.0423  ,   598.3822  ,   573.03925 ,   544.52356 ,\n",
              "          483.06705 ,   392.48788 ,   378.38028 ,   403.22043 ,\n",
              "          544.47473 ,   516.6052  ,   542.39154 ,   556.8371  ,\n",
              "          250.43527 ,   293.917   ,   311.37442 ,   449.23853 ,\n",
              "          545.02716 ,   447.9677  ,   356.7989  ,   364.0196  ,\n",
              "          290.86447 ,   418.111   ,   543.2442  ,   689.8476  ,\n",
              "          849.6431  ,   680.228   ,   364.9037  ,   285.24335 ,\n",
              "          185.2317  ,   185.79707 ,   231.70139 ,   272.4724  ,\n",
              "          330.66486 ,   528.85016 ,   468.1019  ,   447.1402  ,\n",
              "          407.31125 ,   285.786   ,   219.63359 ,   406.5727  ,\n",
              "          426.26086 ,   575.0174  ,   680.9018  ,   821.6116  ,\n",
              "          578.71576 ,   411.51428 ,   321.27786 ,   385.1599  ,\n",
              "          546.5214  ,   609.879   ,   665.81213 ,   726.5707  ,\n",
              "         1062.757   ,  1003.2593  ,   896.24036 ,   470.4016  ,\n",
              "          257.8545  ,   163.15005 ,   181.5741  ,   410.6869  ,\n",
              "          419.83014 ,   547.14246 ,   657.1109  ,  1383.2821  ,\n",
              "         1975.7382  ,  2508.9888  ,  2343.1655  ,  2501.3538  ,\n",
              "         2507.2266  ,  2690.4956  ,  1442.7178  ,   816.5695  ,\n",
              "          380.3161  ,   428.26828 ,   583.97424 ,   549.6077  ,\n",
              "          609.3761  ,   449.9094  ,   368.98618 ,   287.1857  ,\n",
              "          442.7268  ,   401.98947 ,   414.00616 ,   447.89148 ,\n",
              "          487.03116 ,   398.39706 ,   252.1963  ,   582.1553  ,\n",
              "          723.54974 ,   534.98785 ,   438.5498  ,   193.32986 ,\n",
              "          363.26624 ,   305.47745 ,   344.1564  ,   548.2694  ,\n",
              "          478.537   ,   598.2932  ,   486.0239  ,   414.16183 ,\n",
              "          163.85469 ,   218.89845 ,   200.10545 ,   232.60104 ,\n",
              "          328.08755 ,   313.05243 ,   266.14844 ,   256.1226  ,\n",
              "          292.18823 ,   365.83682 ,   522.03064 ,   808.7849  ,\n",
              "          705.13245 ,   781.78595 ,   996.4478  ,   978.10583 ,\n",
              "         1046.6199  ,  1092.1683  ,   612.3742  ,   471.22586 ,\n",
              "          510.5097  ,   433.7152  ,   433.50635 ,   499.05832 ,\n",
              "          615.7856  ,   638.5192  ,   790.4319  ,   980.857   ,\n",
              "          891.82074 ,   374.91034 ,   515.0013  ,   791.3725  ,\n",
              "          453.65677 ,   255.55559 ,   365.46252 ,   338.6614  ,\n",
              "          476.3546  ,   511.10403 ,   713.10364 ,   700.53125 ,\n",
              "          488.59207 ,   261.83102 ,   270.2924  ,   231.54144 ,\n",
              "          572.9073  ,   791.4844  ,   719.5373  ,   576.6601  ,\n",
              "          415.51965 ,   287.7741  ,   378.6725  ,   297.1819  ,\n",
              "          227.12227 ,   205.13327 ,   421.95914 ,   342.56665 ,\n",
              "          341.86307 ,   320.02643 ,   409.2546  ,   453.33148 ,\n",
              "          522.707   ,   217.68951 ,   214.61185 ,   231.02473 ,\n",
              "          280.5472  ,   265.7977  ,   228.72131 ,   158.20334 ,\n",
              "          212.60973 ,   203.6495  ,   264.59555 ,   352.32443 ,\n",
              "          366.28894 ,   581.72314 ,   312.34738 ,   331.6975  ,\n",
              "          141.13756 ,   182.4108  ,   156.1133  ,   166.31778 ,\n",
              "          164.43427 ,   125.74356 ,   107.78149 ,   165.78711 ,\n",
              "          171.83382 ,   198.9657  ,   167.88252 ,   178.6499  ,\n",
              "          236.72202 ,   199.58447 ,   224.09834 ,   178.81902 ,\n",
              "          172.08804 ,   211.73904 ,   207.90968 ,   123.46043 ,\n",
              "          169.13779 ,   205.78728 ,   269.26404 ,   349.17642 ,\n",
              "          800.93097 ,   922.20465 ,  1054.207   ,  1104.551   ,\n",
              "         1241.4109  ,  1426.3656  ,  1328.3097  ,   649.6912  ,\n",
              "          361.2667  ,   270.29233 ,   292.59305 ,   272.47003 ,\n",
              "          386.60898 ,   112.08216 ,   145.97968 ,   313.33704 ,\n",
              "          269.81805 ,   355.05573 ,   318.33502 ,   352.92148 ,\n",
              "          267.09674 ,   290.16385 ,   250.0581  ,   286.14612 ,\n",
              "          356.7958  ,   299.1089  ,   322.6469  ,   407.61197 ,\n",
              "          481.7427  ,   664.8056  ,   419.33173 ,   420.05365 ,\n",
              "          302.0217  ,   409.84808 ,   433.44714 ,   328.08023 ,\n",
              "          180.71498 ,   231.38905 ,   371.67755 ,   573.27045 ,\n",
              "          799.3078  ,  1040.5723  ,  1248.2095  ,  1556.0753  ,\n",
              "         1445.6147  ,   991.47473 ,   653.7851  ,   241.6639  ,\n",
              "          200.71326 ,   229.69168 ,   365.64197 ,   491.61566 ,\n",
              "          504.5494  ,   467.4138  ,   489.73892 ,   415.83575 ,\n",
              "          307.59296 ,   285.44962 ,   428.7106  ,   584.49243 ,\n",
              "          516.80896 ,   595.669   ,   411.83395 ,   162.18895 ,\n",
              "          145.37396 ,   334.19382 ,   246.74852 ,   215.40982 ,\n",
              "          264.13327 ,   341.9586  ,   380.30435 ,   338.56662 ,\n",
              "          281.56805 ,   238.5719  ,   174.35591 ,   307.8562  ,\n",
              "          345.9401  ,   464.11105 ,   561.7188  ,   646.2293  ,\n",
              "          625.9018  ,   532.09845 ,   285.62482 ,   223.79427 ,\n",
              "          318.74088 ,   248.53584 ,   562.78406 ,   759.43915 ,\n",
              "          860.87335 ,  1154.2013  ,  1251.0647  ,  1247.2101  ,\n",
              "         1298.1439  ,   567.3172  ,   251.13779 ,   278.99246 ,\n",
              "          226.3943  ,   338.29688 ,   336.92828 ,   265.14493 ,\n",
              "          217.04845 ,   672.6329  ,   882.6691  ,   855.8837  ,\n",
              "         1019.358   ,  1249.8353  ,  1280.4554  ,  1314.4965  ,\n",
              "          632.87036 ,   484.36346 ,   420.38657 ,   260.3871  ,\n",
              "          624.8047  ,   990.01953 ,  1017.5309  ,   919.0602  ,\n",
              "         1178.5343  ,  1408.3339  ,  1904.8229  ,  1633.7703  ,\n",
              "         1192.1268  ,   674.2408  ,   604.95135 ,   972.9295  ,\n",
              "         1204.9246  ,  1363.4513  ,  1378.1542  ,  1350.4558  ,\n",
              "         1101.3004  ,   703.3063  ,  1223.3156  ,  1425.1031  ,\n",
              "         1502.19    ,   459.54462 ,   348.41846 ,   551.64374 ,\n",
              "          843.7435  ,   787.598   ,   897.4341  ,   791.77277 ,\n",
              "          752.5886  ,   653.8494  ,   885.14996 ,  1905.3203  ,\n",
              "         2860.135   ,  3281.4038  ,  3557.5776  ,  3653.7703  ,\n",
              "         3660.0164  ,  2554.4275  ,  1267.6602  ,   925.61066 ,\n",
              "         1075.2529  ,  1301.0316  ,  1473.5118  ,  1828.1625  ,\n",
              "         2801.7727  ,  3292.0938  ,  3251.5696  ,  3187.5159  ,\n",
              "         3379.437   ,  3408.5151  ,  4165.453   ,  4234.4014  ,\n",
              "         5202.1763  ,  6104.6323  ,  5456.074   ,  4632.2803  ,\n",
              "         4940.3013  ,  3949.7673  ,  3221.3572  ,  3152.0347  ,\n",
              "         4678.562   ,  5873.6914  ,  5220.111   ,  1586.0157  ,\n",
              "         1453.9946  ,  1284.9181  ,  2963.2163  ,  3771.788   ,\n",
              "         3876.564   ,  3776.6238  ,  3339.4783  ,  3624.7183  ,\n",
              "         3798.2932  ,  1451.9229  ,  1540.3787  ,  1437.0817  ,\n",
              "         1229.9263  ,  1279.0331  ,  2451.6042  ,  3849.435   ,\n",
              "         3891.82    ,  2981.3198  ,  3219.5676  ,  3524.7192  ,\n",
              "         5588.384   ,  6664.2456  ,  5793.245   ,  5805.3896  ,\n",
              "         6580.4624  ,  6361.196   ,  8173.865   ,  5178.2524  ,\n",
              "         1836.3759  ,  2486.359   ,  1826.4802  ,  3124.1055  ,\n",
              "         3083.084   ,  3850.98    ,  3287.6904  ,  3909.1218  ,\n",
              "         3482.7966  ,  3835.5066  ,  6679.798   ,  7869.0947  ,\n",
              "        10282.954   ,  8978.146   ,  5480.4814  ,  3616.3386  ,\n",
              "         2135.3918  ,  1295.8779  ,  2644.6714  ,  4043.351   ,\n",
              "         3485.6667  ,  3489.9585  ,  4110.71    ,  4892.725   ,\n",
              "         6107.907   ,  7138.702   ,  6778.805   ,  5656.8813  ,\n",
              "         4542.8145  ,  2853.9558  ,  2036.6521  ,  2057.9133  ,\n",
              "         1760.0728  ,  2894.6782  ,  2713.1345  ,  2657.247   ,\n",
              "         3966.2424  ,  5279.839   ,  6382.3203  ,  5731.6777  ,\n",
              "         5376.026   ,  1844.5323  ,  1960.1626  ,  2847.4639  ,\n",
              "         4180.652   ,  4624.1167  ,  2403.1304  ,  2703.1455  ,\n",
              "         1925.0466  ,   783.91565 ,  1388.4048  ,  1515.1736  ,\n",
              "         1044.1831  ,  1092.8062  ,  1419.631   ,  1177.2179  ,\n",
              "         1615.2878  ,  2735.1882  ,  3545.8228  ,  3862.492   ,\n",
              "         2765.3435  ,  3083.6     ,  3413.7559  ,  4641.002   ,\n",
              "         6578.341   ,  8076.2324  ,  9644.299   ,  9219.388   ,\n",
              "         7661.639   ,  5861.1694  ,  5316.826   ,  3050.3162  ,\n",
              "         2160.8687  ,  2828.757   ,  4538.4478  ,  6381.491   ,\n",
              "         4394.525   ,  2010.8499  ,  2434.1433  ,  2715.415   ,\n",
              "         1638.5621  ,  2297.307   ,  1359.5029  ,  2207.3423  ,\n",
              "         2208.8193  ,  2403.2     ,  3488.5837  ,  5198.0728  ,\n",
              "         7033.5234  ,  8308.4375  ,  9222.552   ], dtype=float32),\n",
              " 'MAPE': array([ 5.860151  ,  4.087341  ,  3.775816  ,  4.187658  ,  4.978141  ,\n",
              "         6.448365  ,  6.614463  ,  6.061672  ,  7.5475917 ,  9.095924  ,\n",
              "        11.300206  , 10.396472  , 10.109089  , 10.697326  ,  7.8628473 ,\n",
              "         3.6872826 ,  2.5856361 ,  2.505005  ,  3.350452  ,  4.013581  ,\n",
              "         2.0036225 ,  2.639741  ,  2.6087885 ,  3.1609263 ,  1.9612128 ,\n",
              "         1.6679873 ,  1.7952282 ,  2.5901215 ,  2.4362576 ,  3.1327386 ,\n",
              "         4.3595424 ,  5.2856355 ,  3.940355  ,  4.3142247 ,  4.3733144 ,\n",
              "         3.6376853 ,  4.362979  ,  3.7757437 ,  2.6192946 ,  2.900764  ,\n",
              "         5.1501083 ,  2.0147362 ,  1.9706653 ,  1.8104146 ,  1.3007253 ,\n",
              "         0.7535146 ,  1.0192343 ,  1.4282731 ,  1.6741855 ,  2.3589702 ,\n",
              "         2.563099  ,  2.1327195 ,  2.597486  ,  2.0173275 ,  3.1387615 ,\n",
              "         4.5021305 ,  6.95963   ,  6.9602227 ,  6.5331383 ,  6.5757856 ,\n",
              "         5.610285  ,  3.0642028 ,  3.2473986 ,  3.484728  ,  5.2227206 ,\n",
              "         5.229478  ,  5.727937  ,  5.927383  ,  2.5284474 ,  2.8664036 ,\n",
              "         3.4308906 ,  4.68742   ,  5.841512  ,  4.309815  ,  3.3552845 ,\n",
              "         3.8162112 ,  2.7363582 ,  3.462369  ,  4.9716797 ,  7.0261016 ,\n",
              "         8.974979  ,  7.1678147 ,  3.4013336 ,  2.7761197 ,  1.5223246 ,\n",
              "         1.4535493 ,  1.6354663 ,  2.2527792 ,  2.9475605 ,  5.0738955 ,\n",
              "         4.103283  ,  4.2952995 ,  3.7052817 ,  2.4620771 ,  2.0132227 ,\n",
              "         3.84283   ,  3.6306522 ,  5.016277  ,  6.2794776 ,  7.757472  ,\n",
              "         5.4956765 ,  3.8907118 ,  2.854692  ,  3.5311143 ,  4.464893  ,\n",
              "         5.0162416 ,  6.125715  ,  7.129436  , 10.711449  , 10.664078  ,\n",
              "        10.087246  ,  4.893629  ,  2.0717275 ,  1.3628381 ,  1.8011156 ,\n",
              "         4.219881  ,  4.0556946 ,  5.744895  ,  7.49288   , 15.03298   ,\n",
              "        24.38847   , 35.428123  , 34.702423  , 39.8611    , 42.836586  ,\n",
              "        49.60461   , 26.081121  , 13.669951  ,  6.3608704 ,  5.4986424 ,\n",
              "         7.9925127 ,  6.8575373 ,  8.820604  ,  5.3112006 ,  4.5279126 ,\n",
              "         3.8704064 ,  6.2283874 ,  5.2470303 ,  5.1045527 ,  5.329427  ,\n",
              "         5.778973  ,  5.358489  ,  3.2211251 ,  8.1184435 , 10.231979  ,\n",
              "         6.726865  ,  5.757307  ,  2.404117  ,  4.2864566 ,  2.9776995 ,\n",
              "         4.4548492 ,  6.9262066 ,  6.1590796 ,  7.763828  ,  6.308203  ,\n",
              "         5.7371473 ,  1.9719498 ,  2.7191217 ,  2.399884  ,  2.5685852 ,\n",
              "         3.9529998 ,  3.6584735 ,  3.4535587 ,  3.301876  ,  3.794225  ,\n",
              "         4.310309  ,  6.4319797 ,  8.567103  ,  6.293656  ,  7.023875  ,\n",
              "         9.469172  ,  9.915057  , 11.217033  , 12.2806635 ,  6.209284  ,\n",
              "         3.2802799 ,  3.8508568 ,  3.6124706 ,  3.7172365 ,  4.6127863 ,\n",
              "         6.233847  ,  6.0376983 ,  7.135962  , 10.132261  ,  9.337389  ,\n",
              "         3.379456  ,  5.190334  ,  7.8229246 ,  4.2644997 ,  2.3285031 ,\n",
              "         3.0320892 ,  3.1225471 ,  4.5721936 ,  5.01346   ,  7.059326  ,\n",
              "         7.180871  ,  4.628824  ,  2.4294448 ,  2.6893463 ,  2.1346915 ,\n",
              "         4.670391  ,  7.4296794 ,  7.17774   ,  4.927452  ,  2.9697573 ,\n",
              "         1.7036037 ,  2.102083  ,  2.790086  ,  1.9540966 ,  1.7562671 ,\n",
              "         3.8170424 ,  2.4557264 ,  3.3356586 ,  2.8912692 ,  3.8006873 ,\n",
              "         4.3685207 ,  5.4371586 ,  1.969062  ,  2.0868657 ,  2.132989  ,\n",
              "         2.4014468 ,  2.2829754 ,  1.9878384 ,  1.212721  ,  1.8306261 ,\n",
              "         1.815668  ,  2.5207548 ,  3.292389  ,  3.5837169 ,  6.187771  ,\n",
              "         3.1184072 ,  3.2884552 ,  1.3740312 ,  1.8472781 ,  1.5017242 ,\n",
              "         1.56714   ,  1.5889238 ,  1.1630667 ,  0.83712757,  1.4223033 ,\n",
              "         1.4407552 ,  1.8029895 ,  1.4796977 ,  1.5990864 ,  2.2175858 ,\n",
              "         1.7130921 ,  2.1422648 ,  1.8232723 ,  1.7015604 ,  2.0563033 ,\n",
              "         1.7596658 ,  0.98229676,  1.4560665 ,  2.1070144 ,  2.4114134 ,\n",
              "         3.049994  ,  5.77384   ,  6.6185617 ,  7.4951463 ,  8.227665  ,\n",
              "        10.186892  , 11.928123  , 11.676128  ,  5.199712  ,  2.592971  ,\n",
              "         2.1249874 ,  2.23352   ,  1.9233074 ,  2.8466196 ,  0.7076641 ,\n",
              "         1.0350558 ,  2.1322331 ,  1.7789838 ,  2.1161134 ,  2.1635559 ,\n",
              "         2.4792883 ,  1.9270623 ,  2.2551286 ,  1.845722  ,  1.8112669 ,\n",
              "         2.2626755 ,  2.3515148 ,  2.1173391 ,  3.2111607 ,  3.5736072 ,\n",
              "         5.371579  ,  3.1869485 ,  2.8585389 ,  2.2958062 ,  3.0580983 ,\n",
              "         3.480608  ,  2.5900195 ,  1.2625039 ,  1.405033  ,  2.7622344 ,\n",
              "         4.3049507 ,  6.2830634 ,  8.513557  , 10.517092  , 14.161083  ,\n",
              "        13.64061   ,  9.3202505 ,  6.308069  ,  1.6300529 ,  1.3983192 ,\n",
              "         1.819187  ,  2.8875947 ,  4.0688186 ,  4.1736455 ,  3.9228578 ,\n",
              "         4.0472693 ,  3.7387352 ,  2.3069754 ,  2.3063276 ,  3.194118  ,\n",
              "         4.58959   ,  4.1579456 ,  5.0558167 ,  3.300565  ,  1.2102807 ,\n",
              "         1.0371053 ,  2.8088493 ,  1.8151473 ,  1.6353133 ,  2.235357  ,\n",
              "         2.8412092 ,  2.9520068 ,  2.918753  ,  1.8913219 ,  1.6178724 ,\n",
              "         1.2982846 ,  2.3039372 ,  2.6034815 ,  3.0176406 ,  4.4442587 ,\n",
              "         5.598941  ,  5.266943  ,  4.535595  ,  1.8671691 ,  1.7055051 ,\n",
              "         2.3196983 ,  1.7318262 ,  2.7897274 ,  4.062607  ,  4.8944464 ,\n",
              "         7.6816387 ,  9.1078005 ,  9.207179  ,  9.502261  ,  3.9754753 ,\n",
              "         1.5744743 ,  1.5996995 ,  1.242373  ,  2.077034  ,  1.9747171 ,\n",
              "         1.6764205 ,  1.3502657 ,  2.785835  ,  3.9915614 ,  4.0835915 ,\n",
              "         5.016293  ,  7.6388435 ,  8.078354  ,  8.109142  ,  2.6612601 ,\n",
              "         2.4994817 ,  2.2963908 ,  1.3040293 ,  3.2585542 ,  4.9145136 ,\n",
              "         4.7377963 ,  4.2538853 ,  5.3531504 ,  6.9800653 , 10.170471  ,\n",
              "         8.772198  ,  6.0037904 ,  3.184009  ,  3.0089974 ,  3.6370165 ,\n",
              "         4.774086  ,  6.289237  ,  6.4191914 ,  5.9040833 ,  4.996318  ,\n",
              "         3.190599  ,  5.85623   ,  7.181029  ,  7.211656  ,  2.021984  ,\n",
              "         1.591239  ,  2.6243281 ,  3.8534112 ,  3.5140622 ,  4.1405344 ,\n",
              "         3.6843975 ,  3.215591  ,  2.8228238 ,  2.88985   ,  6.2848916 ,\n",
              "        11.458008  , 12.342679  , 13.76467   , 14.824157  , 15.566195  ,\n",
              "        10.829551  ,  4.9278164 ,  2.8345594 ,  3.0226746 ,  4.31179   ,\n",
              "         4.720057  ,  5.5167937 ,  9.303037  , 11.212705  , 11.037068  ,\n",
              "         8.631594  ,  8.57773   ,  9.389047  , 11.49777   , 10.463529  ,\n",
              "        11.683611  , 13.823773  , 11.273861  , 10.80596   , 11.400708  ,\n",
              "         8.496614  ,  7.8893795 ,  7.1694746 , 11.423845  , 15.540586  ,\n",
              "        14.24639   ,  3.8430889 ,  2.5450244 ,  2.926231  ,  7.2883105 ,\n",
              "         8.999361  ,  9.586315  ,  9.271845  ,  9.42326   , 10.242951  ,\n",
              "        11.39661   ,  3.655802  ,  3.345456  ,  3.2290843 ,  3.1591043 ,\n",
              "         3.1852624 ,  6.141231  , 10.163144  ,  9.67394   ,  6.657334  ,\n",
              "         6.975822  ,  8.377455  , 12.24459   , 13.002367  , 10.547288  ,\n",
              "        10.269909  , 12.405405  , 12.598534  , 17.187767  , 10.616799  ,\n",
              "         3.0717638 ,  3.766271  ,  2.3915288 ,  4.426362  ,  4.6217604 ,\n",
              "         5.4785867 ,  5.115232  ,  6.8264303 ,  5.6151514 ,  7.090962  ,\n",
              "        11.599259  , 14.510158  , 20.67855   , 18.67078   , 10.813845  ,\n",
              "         6.3959217 ,  3.68131   ,  2.3239684 ,  4.4593644 ,  8.030946  ,\n",
              "         5.953289  ,  5.6428604 ,  5.137942  ,  7.162542  ,  9.831411  ,\n",
              "        11.2098    , 10.556693  ,  9.350714  ,  7.3507614 ,  3.9944015 ,\n",
              "         2.82334   ,  2.3929412 ,  2.8540525 ,  4.729087  ,  3.2363744 ,\n",
              "         3.681079  ,  5.66858   ,  8.005048  , 10.247122  ,  9.747851  ,\n",
              "         9.54604   ,  2.477174  ,  2.9854128 ,  4.34938   ,  6.88064   ,\n",
              "         7.7586837 ,  3.8011284 ,  4.4251747 ,  2.761091  ,  1.0093703 ,\n",
              "         2.242207  ,  2.2289233 ,  1.5868819 ,  1.6239101 ,  1.8814805 ,\n",
              "         1.5162615 ,  1.7166462 ,  3.759433  ,  5.0977936 ,  5.66472   ,\n",
              "         4.075431  ,  4.348674  ,  5.1419644 ,  6.6189804 ,  9.824003  ,\n",
              "        12.981379  , 16.388014  , 16.260683  , 13.2497835 , 10.180601  ,\n",
              "         9.383696  ,  5.121851  ,  3.2893925 ,  4.634884  ,  7.40683   ,\n",
              "        11.284326  ,  7.2873406 ,  3.019625  ,  4.0061307 ,  4.1726418 ,\n",
              "         2.2337658 ,  3.0054157 ,  1.9702908 ,  3.1211088 ,  2.7774823 ,\n",
              "         3.492497  ,  5.1419334 ,  7.6572046 , 11.470653  , 14.311554  ,\n",
              "        17.280172  ], dtype=float32),\n",
              " 'MASE': 2.2020733}"
            ]
          },
          "metadata": {},
          "execution_count": 74
        }
      ]
    },
    {
      "cell_type": "markdown",
      "source": [
        "## Make our evaluation function work for larger horizons"
      ],
      "metadata": {
        "id": "wpHFf1n2WdDn"
      }
    },
    {
      "cell_type": "code",
      "source": [
        "def evaluate_preds(y_true, y_pred):\n",
        "  \"\"\"\n",
        "  Return evaluation metrics in dictionary form of (MAE, MSE, sMAPE, and MASE)\n",
        "  \n",
        "  Make sure float32 datatype (for metric calculation)\n",
        "  \"\"\"\n",
        "  # Turning datatype to float32\n",
        "  y_true = tf.cast(y_true, dtype=tf.float32)\n",
        "  y_pred = tf.cast(y_pred, dtype=tf.float32)\n",
        "\n",
        "\n",
        "  # MAE\n",
        "  mae = tf.keras.metrics.mean_absolute_error(y_true, y_pred)\n",
        "\n",
        "  # MSE\n",
        "  mse = tf.keras.metrics.mean_squared_error(y_true, y_pred)\n",
        "\n",
        "  # RMSE\n",
        "  rmse = tf.sqrt(mse)\n",
        "\n",
        "  # sMAPE (MAPE and sMAPE is different)\n",
        "  mape = tf.keras.metrics.mean_absolute_percentage_error(y_true, y_pred) \n",
        "\n",
        "  # MASE\n",
        "  mase = mean_absolute_scaled_error(y_true, y_pred)\n",
        "\n",
        "  # Account for different sized metrics (for longer horizons, we want to reduce metrics to a single value)\n",
        "  if mae.ndim > 0:\n",
        "    mae = tf.reduce_mean(mae)\n",
        "    mse = tf.reduce_mean(mse)\n",
        "    rmse = tf.reduce_mean(rmse)\n",
        "    mape = tf.reduce_mean(mape)\n",
        "    mase = tf.reduce_mean(mase)\n",
        "\n",
        "  return {'MAE': mae.numpy(),\n",
        "          'MSE': mse.numpy(),\n",
        "          'RMSE': rmse.numpy(),\n",
        "          'MAPE': mape.numpy(),\n",
        "          'MASE': mase.numpy()} # convert to numpy so that it does not return as a tensor -> will create an error"
      ],
      "metadata": {
        "id": "z0yVYgJ5WixR"
      },
      "execution_count": 75,
      "outputs": []
    },
    {
      "cell_type": "code",
      "source": [
        "# Get model_3 results aggregated to single values\n",
        "model_3_results = evaluate_preds(tf.squeeze(test_labels), model_3_preds)\n",
        "model_3_results"
      ],
      "metadata": {
        "colab": {
          "base_uri": "https://localhost:8080/"
        },
        "id": "AOx3ptfvYDXy",
        "outputId": "fc2f9ee5-db17-465a-c9d9-da013d880cca"
      },
      "execution_count": 76,
      "outputs": [
        {
          "output_type": "execute_result",
          "data": {
            "text/plain": [
              "{'MAE': 1237.5063,\n",
              " 'MSE': 5405198.5,\n",
              " 'RMSE': 1425.7477,\n",
              " 'MAPE': 5.5588784,\n",
              " 'MASE': 2.2020733}"
            ]
          },
          "metadata": {},
          "execution_count": 76
        }
      ]
    },
    {
      "cell_type": "code",
      "source": [
        "model_1_results, model_2_results, model_3_results"
      ],
      "metadata": {
        "colab": {
          "base_uri": "https://localhost:8080/"
        },
        "id": "cfWyjGVlY1wd",
        "outputId": "a93d04f3-0e7e-475f-f141-385edcd1b147"
      },
      "execution_count": 77,
      "outputs": [
        {
          "output_type": "execute_result",
          "data": {
            "text/plain": [
              "({'MAE': 568.9511,\n",
              "  'MSE': 1171743.8,\n",
              "  'RMSE': 1082.4711,\n",
              "  'MAPE': 2.5448983,\n",
              "  'MASE': 0.99948955},\n",
              " {'MAE': 605.8741,\n",
              "  'MSE': 1273360.8,\n",
              "  'RMSE': 1128.4329,\n",
              "  'MAPE': 2.726445,\n",
              "  'MASE': 1.0590738},\n",
              " {'MAE': 1237.5063,\n",
              "  'MSE': 5405198.5,\n",
              "  'RMSE': 1425.7477,\n",
              "  'MAPE': 5.5588784,\n",
              "  'MASE': 2.2020733})"
            ]
          },
          "metadata": {},
          "execution_count": 77
        }
      ]
    },
    {
      "cell_type": "markdown",
      "source": [
        "# Model 3 visualize"
      ],
      "metadata": {
        "id": "z5YOY7LlY9ye"
      }
    },
    {
      "cell_type": "code",
      "source": [
        "# Let's plot our model 1 prediction\n",
        "offset = 300\n",
        "plt.figure(figsize=(10, 7))\n",
        "# Account for the test window offset and index into test_labels to ensure corrent plotting\n",
        "plot_time_series(timesteps=X_test[-len(test_windows):], values=test_labels[:, 0],format='-', start=offset, label='Test Data')\n",
        "\n",
        "# Plot prediction\n",
        "plot_time_series(timesteps=X_test[-len(test_windows):], values=model_3_preds,  label='model_3_preds')\n"
      ],
      "metadata": {
        "colab": {
          "base_uri": "https://localhost:8080/",
          "height": 54
        },
        "id": "mL7lhyPgZRYt",
        "outputId": "1dd30f06-1ac0-44a4-c027-56d448306e0a"
      },
      "execution_count": 78,
      "outputs": [
        {
          "output_type": "display_data",
          "data": {
            "text/plain": [
              "<Figure size 720x504 with 1 Axes>"
            ],
            "image/png": "[encoded data removed]"
          },
          "metadata": {
            "needs_background": "light"
          }
        }
      ]
    },
    {
      "cell_type": "markdown",
      "source": [
        "**Note** We need to reduce dimensionality using `tf.reduce_mean` to get only one mean value from 7 horizons"
      ],
      "metadata": {
        "id": "OQqLyBF9asXZ"
      }
    },
    {
      "cell_type": "code",
      "source": [
        "# Let's plot our model 1 prediction\n",
        "offset = 300\n",
        "plt.figure(figsize=(10, 7))\n",
        "# Account for the test window offset and index into test_labels to ensure corrent plotting\n",
        "plot_time_series(timesteps=X_test[-len(test_windows):], values=test_labels[:, 0],start=offset,format='-', label='Test Data')\n",
        "\n",
        "# Plot prediction\n",
        "plot_time_series(timesteps=X_test[-len(test_windows):],  values=tf.reduce_mean(model_3_preds, axis=1), start=offset, format='-',  label='model_3_preds')\n"
      ],
      "metadata": {
        "colab": {
          "base_uri": "https://localhost:8080/",
          "height": 54
        },
        "id": "ASszuU76ZYZZ",
        "outputId": "82b953d8-6ce3-43a7-bbd6-39067d648265"
      },
      "execution_count": 79,
      "outputs": [
        {
          "output_type": "display_data",
          "data": {
            "text/plain": [
              "<Figure size 720x504 with 1 Axes>"
            ],
            "image/png": "[encoded data removed]"
          },
          "metadata": {
            "needs_background": "light"
          }
        }
      ]
    },
    {
      "cell_type": "markdown",
      "source": [
        "# Which of our models is performing the best so far?"
      ],
      "metadata": {
        "id": "l_-yRvaqaKen"
      }
    },
    {
      "cell_type": "code",
      "source": [
        "df_results = pd.DataFrame({'naive': naive_results['MAE'],\n",
        "                           'horizon_1_window_7': model_1_results['MAE'],\n",
        "                           'horizon_1_window_30': model_2_results['MAE'],\n",
        "                           'horizon_7_window_30': model_3_results['MAE']}, index=['MAE']).plot(figsize=(10,7), kind='bar')"
      ],
      "metadata": {
        "colab": {
          "base_uri": "https://localhost:8080/",
          "height": 54
        },
        "id": "qS5kOG5RbEnM",
        "outputId": "d1e6b385-2ac1-4870-d5f1-7b3b1b8aed5f"
      },
      "execution_count": 80,
      "outputs": [
        {
          "output_type": "display_data",
          "data": {
            "text/plain": [
              "<Figure size 720x504 with 1 Axes>"
            ],
            "image/png": "[encoded data removed]"
          },
          "metadata": {
            "needs_background": "light"
          }
        }
      ]
    },
    {
      "cell_type": "markdown",
      "source": [
        "# Model 4 : Conv1D\n",
        "\n"
      ],
      "metadata": {
        "id": "GIOMxglHbWMM"
      }
    },
    {
      "cell_type": "code",
      "source": [
        "HORIZON = 1 \n",
        "WINDOW_SIZE = 7 "
      ],
      "metadata": {
        "id": "fN7HHsioonJN"
      },
      "execution_count": 81,
      "outputs": []
    },
    {
      "cell_type": "code",
      "source": [
        "# Create windowed dataset\n",
        "full_windows, full_labels = make_windows(prices, window_size=WINDOW_SIZE, horizon=HORIZON)\n",
        "len(full_windows), len(full_labels)"
      ],
      "metadata": {
        "colab": {
          "base_uri": "https://localhost:8080/"
        },
        "id": "H_5F78uGpMg3",
        "outputId": "877d0075-eaa7-4d7b-f8e6-a48803193e95"
      },
      "execution_count": 82,
      "outputs": [
        {
          "output_type": "execute_result",
          "data": {
            "text/plain": [
              "(2780, 2780)"
            ]
          },
          "metadata": {},
          "execution_count": 82
        }
      ]
    },
    {
      "cell_type": "code",
      "source": [
        "# Create train/test sets\n",
        "train_windows, test_windows, train_labels, test_labels = make_train_test_splits(windows=full_windows,\n",
        "                                                                               labels=full_labels,\n",
        "                                                                               test_split=0.2)"
      ],
      "metadata": {
        "id": "3WuI8AV_pWZV"
      },
      "execution_count": 83,
      "outputs": []
    },
    {
      "cell_type": "code",
      "source": [
        "len(train_windows), len(train_labels), len(test_windows), len(test_labels)"
      ],
      "metadata": {
        "colab": {
          "base_uri": "https://localhost:8080/"
        },
        "id": "FjrXUDXspe-e",
        "outputId": "ed99af92-b0b8-482a-8881-26d27b2517e6"
      },
      "execution_count": 84,
      "outputs": [
        {
          "output_type": "execute_result",
          "data": {
            "text/plain": [
              "(2224, 2224, 556, 556)"
            ]
          },
          "metadata": {},
          "execution_count": 84
        }
      ]
    },
    {
      "cell_type": "markdown",
      "source": [
        "We need an input shape of : `(batch_size, timesteps, input_dim)`\n",
        "\n",
        "However our data isn't in that shape yet..."
      ],
      "metadata": {
        "id": "RyP1V92NpmN6"
      }
    },
    {
      "cell_type": "code",
      "source": [
        "# Check data input shape\n",
        "train_windows[0].shape # returns (WINDOW_SIZE, ) "
      ],
      "metadata": {
        "colab": {
          "base_uri": "https://localhost:8080/"
        },
        "id": "3L2PvKbbp-KO",
        "outputId": "b953fad2-8578-4048-91e5-4f53525cb42b"
      },
      "execution_count": 85,
      "outputs": [
        {
          "output_type": "execute_result",
          "data": {
            "text/plain": [
              "(7,)"
            ]
          },
          "metadata": {},
          "execution_count": 85
        }
      ]
    },
    {
      "cell_type": "code",
      "source": [
        "# Before we pass our data to the Conv1D layer, we have to reshape it in order to make sure it works\n",
        "x = tf.constant(train_windows[0])\n",
        "x"
      ],
      "metadata": {
        "colab": {
          "base_uri": "https://localhost:8080/"
        },
        "id": "nOczLeghqKtG",
        "outputId": "ce6c6cdc-fe74-4dd8-fcee-2c346d6bb818"
      },
      "execution_count": 86,
      "outputs": [
        {
          "output_type": "execute_result",
          "data": {
            "text/plain": [
              "<tf.Tensor: shape=(7,), dtype=float64, numpy=\n",
              "array([123.65499, 125.455  , 108.58483, 118.67466, 121.33866, 120.65533,\n",
              "       121.795  ])>"
            ]
          },
          "metadata": {},
          "execution_count": 86
        }
      ]
    },
    {
      "cell_type": "code",
      "source": [
        "expand_dims_layer = layers.Lambda(lambda x: tf.expand_dims(x, axis=1)) # add an extra dimension for `input_dim`"
      ],
      "metadata": {
        "id": "jy2s3DiCq3Wl"
      },
      "execution_count": 87,
      "outputs": []
    },
    {
      "cell_type": "code",
      "source": [
        "#  Test out our lambda layer\n",
        "print(f\"Original shape: {x.shape}\") # (WINDOW_SIZE)\n",
        "print(f\"Expanded shape: {expand_dims_layer(x).shape}\")"
      ],
      "metadata": {
        "colab": {
          "base_uri": "https://localhost:8080/"
        },
        "id": "9aoEBhjJrA72",
        "outputId": "d5dea3e2-9020-469e-ec66-7000146ca911"
      },
      "execution_count": 88,
      "outputs": [
        {
          "output_type": "stream",
          "name": "stdout",
          "text": [
            "Original shape: (7,)\n",
            "Expanded shape: (7, 1)\n"
          ]
        }
      ]
    },
    {
      "cell_type": "code",
      "source": [
        "train_windows[0]"
      ],
      "metadata": {
        "colab": {
          "base_uri": "https://localhost:8080/"
        },
        "id": "HhFGxfb0rCp-",
        "outputId": "7f80ec4c-591e-4f38-9362-7e6b74751fa1"
      },
      "execution_count": 89,
      "outputs": [
        {
          "output_type": "execute_result",
          "data": {
            "text/plain": [
              "array([123.65499, 125.455  , 108.58483, 118.67466, 121.33866, 120.65533,\n",
              "       121.795  ])"
            ]
          },
          "metadata": {},
          "execution_count": 89
        }
      ]
    },
    {
      "cell_type": "code",
      "source": [
        "expand_dims_layer(x)"
      ],
      "metadata": {
        "colab": {
          "base_uri": "https://localhost:8080/"
        },
        "id": "77n_c9Trrdqf",
        "outputId": "06c3ae14-fb50-473c-dccb-b06ca92647d0"
      },
      "execution_count": 90,
      "outputs": [
        {
          "output_type": "execute_result",
          "data": {
            "text/plain": [
              "<tf.Tensor: shape=(7, 1), dtype=float32, numpy=\n",
              "array([[123.65499],\n",
              "       [125.455  ],\n",
              "       [108.58483],\n",
              "       [118.67466],\n",
              "       [121.33866],\n",
              "       [120.65533],\n",
              "       [121.795  ]], dtype=float32)>"
            ]
          },
          "metadata": {},
          "execution_count": 90
        }
      ]
    },
    {
      "cell_type": "code",
      "source": [
        "tf.random.set_seed(42)\n",
        "\n",
        "# Create Conv1D model\n",
        "model_4 = tf.keras.Sequential([\n",
        "  layers.Lambda(lambda x : tf.expand_dims(x, axis=1)),\n",
        "  layers.Conv1D(filters=128, kernel_size=7, strides=1, padding='causal', activation='relu'), # kernel size = window sliding \n",
        "  layers.Dense(1)\n",
        "], name='model_4_conv1d')\n",
        "\n"
      ],
      "metadata": {
        "id": "IFWWUMDWrfqC"
      },
      "execution_count": 91,
      "outputs": []
    },
    {
      "cell_type": "code",
      "source": [
        "# Compile the model\n",
        "model_4.compile(loss='mae',\n",
        "                optimizer=tf.keras.optimizers.Adam())\n",
        "\n",
        "# Fit\n",
        "model_4.fit(train_windows, train_labels, batch_size=128, epochs=100, verbose=0, validation_data=(test_windows, test_labels),\n",
        "            callbacks=[create_model_checkpoint(model_name=model_4.name)])"
      ],
      "metadata": {
        "colab": {
          "base_uri": "https://localhost:8080/"
        },
        "id": "QcbFTf_5Bxf7",
        "outputId": "c5554871-3c6c-4950-af4c-503c0ede29d5"
      },
      "execution_count": 92,
      "outputs": [
        {
          "output_type": "execute_result",
          "data": {
            "text/plain": [
              "<keras.callbacks.History at 0x7f0b686090d0>"
            ]
          },
          "metadata": {},
          "execution_count": 92
        }
      ]
    },
    {
      "cell_type": "code",
      "source": [
        "# Summary\n",
        "model_4.summary()"
      ],
      "metadata": {
        "colab": {
          "base_uri": "https://localhost:8080/"
        },
        "id": "a6wYdEe8Ct7g",
        "outputId": "06301b64-a54d-490d-cbaa-1136778c8687"
      },
      "execution_count": 93,
      "outputs": [
        {
          "output_type": "stream",
          "name": "stdout",
          "text": [
            "Model: \"model_4_conv1d\"\n",
            "_________________________________________________________________\n",
            " Layer (type)                Output Shape              Param #   \n",
            "=================================================================\n",
            " lambda_1 (Lambda)           (None, 1, 7)              0         \n",
            "                                                                 \n",
            " conv1d (Conv1D)             (None, 1, 128)            6400      \n",
            "                                                                 \n",
            " dense_6 (Dense)             (None, 1, 1)              129       \n",
            "                                                                 \n",
            "=================================================================\n",
            "Total params: 6,529\n",
            "Trainable params: 6,529\n",
            "Non-trainable params: 0\n",
            "_________________________________________________________________\n"
          ]
        }
      ]
    },
    {
      "cell_type": "code",
      "source": [
        "# Evaluate model\n",
        "model_4.evaluate(test_windows, test_labels)"
      ],
      "metadata": {
        "colab": {
          "base_uri": "https://localhost:8080/"
        },
        "id": "xAwQQPdXDCT5",
        "outputId": "14db0069-c50d-44f8-c752-d009b7916828"
      },
      "execution_count": 94,
      "outputs": [
        {
          "output_type": "stream",
          "name": "stdout",
          "text": [
            "18/18 [==============================] - 0s 4ms/step - loss: 615.6102\n"
          ]
        },
        {
          "output_type": "execute_result",
          "data": {
            "text/plain": [
              "615.6101684570312"
            ]
          },
          "metadata": {},
          "execution_count": 94
        }
      ]
    },
    {
      "cell_type": "code",
      "source": [
        "model_4 = tf.keras.models.load_model('/content/model_experiments/model_4_conv1d')"
      ],
      "metadata": {
        "id": "g7E3GlkDDIec"
      },
      "execution_count": 95,
      "outputs": []
    },
    {
      "cell_type": "code",
      "source": [
        "model_4.evaluate(test_windows, test_labels)"
      ],
      "metadata": {
        "colab": {
          "base_uri": "https://localhost:8080/"
        },
        "id": "AYDBiq0mDQ90",
        "outputId": "640a7ef1-81b6-450f-f8c0-dd97d89a7a94"
      },
      "execution_count": 96,
      "outputs": [
        {
          "output_type": "stream",
          "name": "stdout",
          "text": [
            "18/18 [==============================] - 0s 2ms/step - loss: 570.7388\n"
          ]
        },
        {
          "output_type": "execute_result",
          "data": {
            "text/plain": [
              "570.73876953125"
            ]
          },
          "metadata": {},
          "execution_count": 96
        }
      ]
    },
    {
      "cell_type": "code",
      "source": [
        "# Make predictions\n",
        "model_4_preds = make_preds(model_4, test_windows)\n",
        "model_4_preds[:5]"
      ],
      "metadata": {
        "colab": {
          "base_uri": "https://localhost:8080/"
        },
        "id": "odtz2z4tDS0y",
        "outputId": "77278f05-4f81-48cf-f500-5f8a6ebe9491"
      },
      "execution_count": 97,
      "outputs": [
        {
          "output_type": "execute_result",
          "data": {
            "text/plain": [
              "<tf.Tensor: shape=(5,), dtype=float32, numpy=array([8893.429, 8788.89 , 9020.29 , 8796.402, 8743.089], dtype=float32)>"
            ]
          },
          "metadata": {},
          "execution_count": 97
        }
      ]
    },
    {
      "cell_type": "code",
      "source": [
        "# Evaluate predictions\n",
        "model_4_results = evaluate_preds(tf.squeeze(test_labels),\n",
        "                                 model_4_preds)\n",
        "model_4_results"
      ],
      "metadata": {
        "colab": {
          "base_uri": "https://localhost:8080/"
        },
        "id": "9IJnOzwrDeBC",
        "outputId": "22f326bf-78d9-4d33-bf55-21f1755498b5"
      },
      "execution_count": 98,
      "outputs": [
        {
          "output_type": "execute_result",
          "data": {
            "text/plain": [
              "{'MAE': 570.7388,\n",
              " 'MSE': 1183499.9,\n",
              " 'RMSE': 1087.8878,\n",
              " 'MAPE': 2.5461204,\n",
              " 'MASE': 1.00263}"
            ]
          },
          "metadata": {},
          "execution_count": 98
        }
      ]
    },
    {
      "cell_type": "markdown",
      "source": [
        "# Model 5 : LSTM\n",
        "\n",
        "`inputs = layers.Input(shape=(WINDOW_SIZE))`\n",
        "`x = layers.Lambda(lambda x: tf.expand_dims(x, axis=1))(inputs)`\n",
        "`x = layers.LSTM(128)(x)`\n",
        "`output = layers.Dense(HORIZON)(x)`\n",
        "\n",
        "`model_5 = tf.keras.Model(inputs=inputs, outputs=output, name='model_5_LSTM')`"
      ],
      "metadata": {
        "id": "x9q76aYKDfKd"
      }
    },
    {
      "cell_type": "code",
      "source": [
        "tf.random.set_seed(42)\n",
        "\n",
        "# Create LSTM model\n",
        "model_5 = tf.keras.Sequential([\n",
        "  layers.Lambda(lambda x : tf.expand_dims(x, axis=1)),\n",
        "  # layers.LSTM(128, activation='tanh'),\n",
        "  layers.LSTM(128, activation='relu'), # relu turns out better than the default 'tanh'\n",
        "  layers.Dense(1)\n",
        "], name='model_5_lstm')\n",
        "\n",
        "# Using keras Functional API\n",
        "\n",
        "\n",
        "# Compile the model\n",
        "model_5.compile(loss='mae',\n",
        "                optimizer=tf.keras.optimizers.Adam(),\n",
        "                )\n",
        "# Fit the model\n",
        "model_5.fit(train_windows, train_labels, epochs=100, verbose=1, validation_data=(test_windows, test_labels),\n",
        "            callbacks=[create_model_checkpoint(model_name=model_5.name)])"
      ],
      "metadata": {
        "colab": {
          "base_uri": "https://localhost:8080/"
        },
        "id": "KT8cnkYhEReV",
        "outputId": "b5de4468-eca4-4e46-e32b-3c41e37adc40"
      },
      "execution_count": 99,
      "outputs": [
        {
          "output_type": "stream",
          "name": "stderr",
          "text": [
            "WARNING:tensorflow:Layer lstm will not use cuDNN kernels since it doesn't meet the criteria. It will use a generic GPU kernel as fallback when running on GPU.\n"
          ]
        },
        {
          "output_type": "stream",
          "name": "stdout",
          "text": [
            "Epoch 1/100\n",
            "63/70 [==========================>...] - ETA: 0s - loss: 1000.7482"
          ]
        },
        {
          "output_type": "stream",
          "name": "stderr",
          "text": [
            "WARNING:absl:<keras.layers.recurrent.LSTMCell object at 0x7f0b50beb4d0> has the same name 'LSTMCell' as a built-in Keras object. Consider renaming <class 'keras.layers.recurrent.LSTMCell'> to avoid naming conflicts when loading with `tf.keras.models.load_model`. If renaming is not possible, pass the object in the `custom_objects` parameter of the load function.\n"
          ]
        },
        {
          "output_type": "stream",
          "name": "stdout",
          "text": [
            "\b\b\b\b\b\b\b\b\b\b\b\b\b\b\b\b\b\b\b\b\b\b\b\b\b\b\b\b\b\b\b\b\b\b\b\b\b\b\b\b\b\b\b\b\b\b\b\b\b\b\b\b\b\b\b\b\b\b\b\b\b\b\b\b\b\b\r70/70 [==============================] - 4s 35ms/step - loss: 923.8335 - val_loss: 999.7739\n",
            "Epoch 2/100\n",
            "70/70 [==============================] - 0s 6ms/step - loss: 174.3591 - val_loss: 1059.5967\n",
            "Epoch 3/100\n",
            "60/70 [========================>.....] - ETA: 0s - loss: 170.7853"
          ]
        },
        {
          "output_type": "stream",
          "name": "stderr",
          "text": [
            "WARNING:absl:<keras.layers.recurrent.LSTMCell object at 0x7f0b50beb4d0> has the same name 'LSTMCell' as a built-in Keras object. Consider renaming <class 'keras.layers.recurrent.LSTMCell'> to avoid naming conflicts when loading with `tf.keras.models.load_model`. If renaming is not possible, pass the object in the `custom_objects` parameter of the load function.\n"
          ]
        },
        {
          "output_type": "stream",
          "name": "stdout",
          "text": [
            "\b\b\b\b\b\b\b\b\b\b\b\b\b\b\b\b\b\b\b\b\b\b\b\b\b\b\b\b\b\b\b\b\b\b\b\b\b\b\b\b\b\b\b\b\b\b\b\b\b\b\b\b\b\b\b\b\b\b\b\b\b\b\b\b\b\r70/70 [==============================] - 2s 29ms/step - loss: 169.0976 - val_loss: 915.7005\n",
            "Epoch 4/100\n",
            "70/70 [==============================] - 0s 6ms/step - loss: 164.8597 - val_loss: 961.9780\n",
            "Epoch 5/100\n",
            "66/70 [===========================>..] - ETA: 0s - loss: 164.7822"
          ]
        },
        {
          "output_type": "stream",
          "name": "stderr",
          "text": [
            "WARNING:absl:<keras.layers.recurrent.LSTMCell object at 0x7f0b50beb4d0> has the same name 'LSTMCell' as a built-in Keras object. Consider renaming <class 'keras.layers.recurrent.LSTMCell'> to avoid naming conflicts when loading with `tf.keras.models.load_model`. If renaming is not possible, pass the object in the `custom_objects` parameter of the load function.\n"
          ]
        },
        {
          "output_type": "stream",
          "name": "stdout",
          "text": [
            "\b\b\b\b\b\b\b\b\b\b\b\b\b\b\b\b\b\b\b\b\b\b\b\b\b\b\b\b\b\b\b\b\b\b\b\b\b\b\b\b\b\b\b\b\b\b\b\b\b\b\b\b\b\b\b\b\b\b\b\b\b\b\b\b\b\r70/70 [==============================] - 2s 28ms/step - loss: 162.1378 - val_loss: 881.1057\n",
            "Epoch 6/100\n",
            "70/70 [==============================] - 0s 6ms/step - loss: 154.4248 - val_loss: 1048.9911\n",
            "Epoch 7/100\n",
            "65/70 [==========================>...] - ETA: 0s - loss: 155.6785"
          ]
        },
        {
          "output_type": "stream",
          "name": "stderr",
          "text": [
            "WARNING:absl:<keras.layers.recurrent.LSTMCell object at 0x7f0b50beb4d0> has the same name 'LSTMCell' as a built-in Keras object. Consider renaming <class 'keras.layers.recurrent.LSTMCell'> to avoid naming conflicts when loading with `tf.keras.models.load_model`. If renaming is not possible, pass the object in the `custom_objects` parameter of the load function.\n"
          ]
        },
        {
          "output_type": "stream",
          "name": "stdout",
          "text": [
            "\b\b\b\b\b\b\b\b\b\b\b\b\b\b\b\b\b\b\b\b\b\b\b\b\b\b\b\b\b\b\b\b\b\b\b\b\b\b\b\b\b\b\b\b\b\b\b\b\b\b\b\b\b\b\b\b\b\b\b\b\b\b\b\b\b\r70/70 [==============================] - 2s 33ms/step - loss: 151.9672 - val_loss: 817.6928\n",
            "Epoch 8/100\n",
            "62/70 [=========================>....] - ETA: 0s - loss: 147.1066"
          ]
        },
        {
          "output_type": "stream",
          "name": "stderr",
          "text": [
            "WARNING:absl:<keras.layers.recurrent.LSTMCell object at 0x7f0b50beb4d0> has the same name 'LSTMCell' as a built-in Keras object. Consider renaming <class 'keras.layers.recurrent.LSTMCell'> to avoid naming conflicts when loading with `tf.keras.models.load_model`. If renaming is not possible, pass the object in the `custom_objects` parameter of the load function.\n"
          ]
        },
        {
          "output_type": "stream",
          "name": "stdout",
          "text": [
            "\b\b\b\b\b\b\b\b\b\b\b\b\b\b\b\b\b\b\b\b\b\b\b\b\b\b\b\b\b\b\b\b\b\b\b\b\b\b\b\b\b\b\b\b\b\b\b\b\b\b\b\b\b\b\b\b\b\b\b\b\b\b\b\b\b\r70/70 [==============================] - 2s 29ms/step - loss: 148.8312 - val_loss: 783.2538\n",
            "Epoch 9/100\n",
            "70/70 [==============================] - 0s 6ms/step - loss: 140.9373 - val_loss: 801.6102\n",
            "Epoch 10/100\n",
            "70/70 [==============================] - 0s 6ms/step - loss: 145.7707 - val_loss: 848.7509\n",
            "Epoch 11/100\n",
            "62/70 [=========================>....] - ETA: 0s - loss: 140.1361"
          ]
        },
        {
          "output_type": "stream",
          "name": "stderr",
          "text": [
            "WARNING:absl:<keras.layers.recurrent.LSTMCell object at 0x7f0b50beb4d0> has the same name 'LSTMCell' as a built-in Keras object. Consider renaming <class 'keras.layers.recurrent.LSTMCell'> to avoid naming conflicts when loading with `tf.keras.models.load_model`. If renaming is not possible, pass the object in the `custom_objects` parameter of the load function.\n"
          ]
        },
        {
          "output_type": "stream",
          "name": "stdout",
          "text": [
            "\b\b\b\b\b\b\b\b\b\b\b\b\b\b\b\b\b\b\b\b\b\b\b\b\b\b\b\b\b\b\b\b\b\b\b\b\b\b\b\b\b\b\b\b\b\b\b\b\b\b\b\b\b\b\b\b\b\b\b\b\b\b\b\b\b\r70/70 [==============================] - 2s 28ms/step - loss: 138.0576 - val_loss: 777.6620\n",
            "Epoch 12/100\n",
            "66/70 [===========================>..] - ETA: 0s - loss: 135.6432"
          ]
        },
        {
          "output_type": "stream",
          "name": "stderr",
          "text": [
            "WARNING:absl:<keras.layers.recurrent.LSTMCell object at 0x7f0b50beb4d0> has the same name 'LSTMCell' as a built-in Keras object. Consider renaming <class 'keras.layers.recurrent.LSTMCell'> to avoid naming conflicts when loading with `tf.keras.models.load_model`. If renaming is not possible, pass the object in the `custom_objects` parameter of the load function.\n"
          ]
        },
        {
          "output_type": "stream",
          "name": "stdout",
          "text": [
            "\b\b\b\b\b\b\b\b\b\b\b\b\b\b\b\b\b\b\b\b\b\b\b\b\b\b\b\b\b\b\b\b\b\b\b\b\b\b\b\b\b\b\b\b\b\b\b\b\b\b\b\b\b\b\b\b\b\b\b\b\b\b\b\b\b\r70/70 [==============================] - 2s 28ms/step - loss: 136.0284 - val_loss: 724.0181\n",
            "Epoch 13/100\n",
            "70/70 [==============================] - 0s 6ms/step - loss: 131.3890 - val_loss: 955.6802\n",
            "Epoch 14/100\n",
            "70/70 [==============================] - 0s 6ms/step - loss: 133.7509 - val_loss: 789.2650\n",
            "Epoch 15/100\n",
            "62/70 [=========================>....] - ETA: 0s - loss: 130.2543"
          ]
        },
        {
          "output_type": "stream",
          "name": "stderr",
          "text": [
            "WARNING:absl:<keras.layers.recurrent.LSTMCell object at 0x7f0b50beb4d0> has the same name 'LSTMCell' as a built-in Keras object. Consider renaming <class 'keras.layers.recurrent.LSTMCell'> to avoid naming conflicts when loading with `tf.keras.models.load_model`. If renaming is not possible, pass the object in the `custom_objects` parameter of the load function.\n"
          ]
        },
        {
          "output_type": "stream",
          "name": "stdout",
          "text": [
            "\b\b\b\b\b\b\b\b\b\b\b\b\b\b\b\b\b\b\b\b\b\b\b\b\b\b\b\b\b\b\b\b\b\b\b\b\b\b\b\b\b\b\b\b\b\b\b\b\b\b\b\b\b\b\b\b\b\b\b\b\b\b\b\b\b\r70/70 [==============================] - 2s 33ms/step - loss: 128.5206 - val_loss: 684.2516\n",
            "Epoch 16/100\n",
            "64/70 [==========================>...] - ETA: 0s - loss: 124.5350"
          ]
        },
        {
          "output_type": "stream",
          "name": "stderr",
          "text": [
            "WARNING:absl:<keras.layers.recurrent.LSTMCell object at 0x7f0b50beb4d0> has the same name 'LSTMCell' as a built-in Keras object. Consider renaming <class 'keras.layers.recurrent.LSTMCell'> to avoid naming conflicts when loading with `tf.keras.models.load_model`. If renaming is not possible, pass the object in the `custom_objects` parameter of the load function.\n"
          ]
        },
        {
          "output_type": "stream",
          "name": "stdout",
          "text": [
            "\b\b\b\b\b\b\b\b\b\b\b\b\b\b\b\b\b\b\b\b\b\b\b\b\b\b\b\b\b\b\b\b\b\b\b\b\b\b\b\b\b\b\b\b\b\b\b\b\b\b\b\b\b\b\b\b\b\b\b\b\b\b\b\b\b\r70/70 [==============================] - 2s 28ms/step - loss: 126.0890 - val_loss: 670.2017\n",
            "Epoch 17/100\n",
            "70/70 [==============================] - 0s 6ms/step - loss: 123.1890 - val_loss: 734.0786\n",
            "Epoch 18/100\n",
            "60/70 [========================>.....] - ETA: 0s - loss: 136.6076"
          ]
        },
        {
          "output_type": "stream",
          "name": "stderr",
          "text": [
            "WARNING:absl:<keras.layers.recurrent.LSTMCell object at 0x7f0b50beb4d0> has the same name 'LSTMCell' as a built-in Keras object. Consider renaming <class 'keras.layers.recurrent.LSTMCell'> to avoid naming conflicts when loading with `tf.keras.models.load_model`. If renaming is not possible, pass the object in the `custom_objects` parameter of the load function.\n"
          ]
        },
        {
          "output_type": "stream",
          "name": "stdout",
          "text": [
            "\b\b\b\b\b\b\b\b\b\b\b\b\b\b\b\b\b\b\b\b\b\b\b\b\b\b\b\b\b\b\b\b\b\b\b\b\b\b\b\b\b\b\b\b\b\b\b\b\b\b\b\b\b\b\b\b\b\b\b\b\b\b\b\b\b\r70/70 [==============================] - 2s 28ms/step - loss: 130.8150 - val_loss: 654.8058\n",
            "Epoch 19/100\n",
            "70/70 [==============================] - 0s 6ms/step - loss: 124.7924 - val_loss: 701.4959\n",
            "Epoch 20/100\n",
            "70/70 [==============================] - 0s 6ms/step - loss: 119.9926 - val_loss: 657.3356\n",
            "Epoch 21/100\n",
            "70/70 [==============================] - 0s 6ms/step - loss: 120.1237 - val_loss: 677.9814\n",
            "Epoch 22/100\n",
            "63/70 [==========================>...] - ETA: 0s - loss: 121.2290"
          ]
        },
        {
          "output_type": "stream",
          "name": "stderr",
          "text": [
            "WARNING:absl:<keras.layers.recurrent.LSTMCell object at 0x7f0b50beb4d0> has the same name 'LSTMCell' as a built-in Keras object. Consider renaming <class 'keras.layers.recurrent.LSTMCell'> to avoid naming conflicts when loading with `tf.keras.models.load_model`. If renaming is not possible, pass the object in the `custom_objects` parameter of the load function.\n"
          ]
        },
        {
          "output_type": "stream",
          "name": "stdout",
          "text": [
            "\b\b\b\b\b\b\b\b\b\b\b\b\b\b\b\b\b\b\b\b\b\b\b\b\b\b\b\b\b\b\b\b\b\b\b\b\b\b\b\b\b\b\b\b\b\b\b\b\b\b\b\b\b\b\b\b\b\b\b\b\b\b\b\b\b\r70/70 [==============================] - 2s 28ms/step - loss: 119.3270 - val_loss: 644.2029\n",
            "Epoch 23/100\n",
            "70/70 [==============================] - 1s 9ms/step - loss: 122.7527 - val_loss: 730.0645\n",
            "Epoch 24/100\n",
            "68/70 [============================>.] - ETA: 0s - loss: 120.0368"
          ]
        },
        {
          "output_type": "stream",
          "name": "stderr",
          "text": [
            "WARNING:absl:<keras.layers.recurrent.LSTMCell object at 0x7f0b50beb4d0> has the same name 'LSTMCell' as a built-in Keras object. Consider renaming <class 'keras.layers.recurrent.LSTMCell'> to avoid naming conflicts when loading with `tf.keras.models.load_model`. If renaming is not possible, pass the object in the `custom_objects` parameter of the load function.\n"
          ]
        },
        {
          "output_type": "stream",
          "name": "stdout",
          "text": [
            "\b\b\b\b\b\b\b\b\b\b\b\b\b\b\b\b\b\b\b\b\b\b\b\b\b\b\b\b\b\b\b\b\b\b\b\b\b\b\b\b\b\b\b\b\b\b\b\b\b\b\b\b\b\b\b\b\b\b\b\b\b\b\b\b\b\r70/70 [==============================] - 3s 46ms/step - loss: 118.7916 - val_loss: 630.5251\n",
            "Epoch 25/100\n",
            "60/70 [========================>.....] - ETA: 0s - loss: 123.7498"
          ]
        },
        {
          "output_type": "stream",
          "name": "stderr",
          "text": [
            "WARNING:absl:<keras.layers.recurrent.LSTMCell object at 0x7f0b50beb4d0> has the same name 'LSTMCell' as a built-in Keras object. Consider renaming <class 'keras.layers.recurrent.LSTMCell'> to avoid naming conflicts when loading with `tf.keras.models.load_model`. If renaming is not possible, pass the object in the `custom_objects` parameter of the load function.\n"
          ]
        },
        {
          "output_type": "stream",
          "name": "stdout",
          "text": [
            "\b\b\b\b\b\b\b\b\b\b\b\b\b\b\b\b\b\b\b\b\b\b\b\b\b\b\b\b\b\b\b\b\b\b\b\b\b\b\b\b\b\b\b\b\b\b\b\b\b\b\b\b\b\b\b\b\b\b\b\b\b\b\b\b\b\r70/70 [==============================] - 2s 29ms/step - loss: 119.3102 - val_loss: 622.8295\n",
            "Epoch 26/100\n",
            "70/70 [==============================] - 0s 6ms/step - loss: 124.2459 - val_loss: 632.5388\n",
            "Epoch 27/100\n",
            "70/70 [==============================] - 0s 6ms/step - loss: 121.0156 - val_loss: 688.8699\n",
            "Epoch 28/100\n",
            "62/70 [=========================>....] - ETA: 0s - loss: 114.7448"
          ]
        },
        {
          "output_type": "stream",
          "name": "stderr",
          "text": [
            "WARNING:absl:<keras.layers.recurrent.LSTMCell object at 0x7f0b50beb4d0> has the same name 'LSTMCell' as a built-in Keras object. Consider renaming <class 'keras.layers.recurrent.LSTMCell'> to avoid naming conflicts when loading with `tf.keras.models.load_model`. If renaming is not possible, pass the object in the `custom_objects` parameter of the load function.\n"
          ]
        },
        {
          "output_type": "stream",
          "name": "stdout",
          "text": [
            "\b\b\b\b\b\b\b\b\b\b\b\b\b\b\b\b\b\b\b\b\b\b\b\b\b\b\b\b\b\b\b\b\b\b\b\b\b\b\b\b\b\b\b\b\b\b\b\b\b\b\b\b\b\b\b\b\b\b\b\b\b\b\b\b\b\r70/70 [==============================] - 2s 28ms/step - loss: 115.0217 - val_loss: 611.2283\n",
            "Epoch 29/100\n",
            "70/70 [==============================] - 0s 6ms/step - loss: 119.5380 - val_loss: 624.9897\n",
            "Epoch 30/100\n",
            "70/70 [==============================] - 0s 6ms/step - loss: 115.5532 - val_loss: 615.2344\n",
            "Epoch 31/100\n",
            "70/70 [==============================] - 0s 6ms/step - loss: 116.2119 - val_loss: 677.5491\n",
            "Epoch 32/100\n",
            "70/70 [==============================] - 0s 6ms/step - loss: 114.9912 - val_loss: 615.0742\n",
            "Epoch 33/100\n",
            "70/70 [==============================] - 0s 6ms/step - loss: 115.1890 - val_loss: 660.7283\n",
            "Epoch 34/100\n",
            "70/70 [==============================] - 0s 6ms/step - loss: 121.4952 - val_loss: 617.4849\n",
            "Epoch 35/100\n",
            "65/70 [==========================>...] - ETA: 0s - loss: 114.1208"
          ]
        },
        {
          "output_type": "stream",
          "name": "stderr",
          "text": [
            "WARNING:absl:<keras.layers.recurrent.LSTMCell object at 0x7f0b50beb4d0> has the same name 'LSTMCell' as a built-in Keras object. Consider renaming <class 'keras.layers.recurrent.LSTMCell'> to avoid naming conflicts when loading with `tf.keras.models.load_model`. If renaming is not possible, pass the object in the `custom_objects` parameter of the load function.\n"
          ]
        },
        {
          "output_type": "stream",
          "name": "stdout",
          "text": [
            "\b\b\b\b\b\b\b\b\b\b\b\b\b\b\b\b\b\b\b\b\b\b\b\b\b\b\b\b\b\b\b\b\b\b\b\b\b\b\b\b\b\b\b\b\b\b\b\b\b\b\b\b\b\b\b\b\b\b\b\b\b\b\b\b\b\r70/70 [==============================] - 2s 28ms/step - loss: 114.3644 - val_loss: 601.5720\n",
            "Epoch 36/100\n",
            "70/70 [==============================] - 0s 6ms/step - loss: 115.0390 - val_loss: 638.0224\n",
            "Epoch 37/100\n",
            "70/70 [==============================] - 0s 6ms/step - loss: 115.5464 - val_loss: 630.5712\n",
            "Epoch 38/100\n",
            "70/70 [==============================] - 0s 6ms/step - loss: 127.9032 - val_loss: 729.8533\n",
            "Epoch 39/100\n",
            "70/70 [==============================] - 0s 6ms/step - loss: 119.1471 - val_loss: 768.5645\n",
            "Epoch 40/100\n",
            "70/70 [==============================] - ETA: 0s - loss: 120.7206"
          ]
        },
        {
          "output_type": "stream",
          "name": "stderr",
          "text": [
            "WARNING:absl:<keras.layers.recurrent.LSTMCell object at 0x7f0b50beb4d0> has the same name 'LSTMCell' as a built-in Keras object. Consider renaming <class 'keras.layers.recurrent.LSTMCell'> to avoid naming conflicts when loading with `tf.keras.models.load_model`. If renaming is not possible, pass the object in the `custom_objects` parameter of the load function.\n"
          ]
        },
        {
          "output_type": "stream",
          "name": "stdout",
          "text": [
            "\b\b\b\b\b\b\b\b\b\b\b\b\b\b\b\b\b\b\b\b\b\b\b\b\b\b\b\b\b\b\b\b\b\b\b\b\b\b\b\b\b\b\b\b\b\b\b\b\b\b\b\b\b\b\b\b\b\b\b\b\b\b\b\b\b\r70/70 [==============================] - 2s 33ms/step - loss: 120.7206 - val_loss: 593.0177\n",
            "Epoch 41/100\n",
            "70/70 [==============================] - 0s 6ms/step - loss: 111.7753 - val_loss: 658.1022\n",
            "Epoch 42/100\n",
            "70/70 [==============================] - 0s 6ms/step - loss: 112.6756 - val_loss: 603.8380\n",
            "Epoch 43/100\n",
            "70/70 [==============================] - 0s 6ms/step - loss: 113.0656 - val_loss: 609.7631\n",
            "Epoch 44/100\n",
            "70/70 [==============================] - 0s 6ms/step - loss: 115.2705 - val_loss: 702.2490\n",
            "Epoch 45/100\n",
            "69/70 [============================>.] - ETA: 0s - loss: 113.3529"
          ]
        },
        {
          "output_type": "stream",
          "name": "stderr",
          "text": [
            "WARNING:absl:<keras.layers.recurrent.LSTMCell object at 0x7f0b50beb4d0> has the same name 'LSTMCell' as a built-in Keras object. Consider renaming <class 'keras.layers.recurrent.LSTMCell'> to avoid naming conflicts when loading with `tf.keras.models.load_model`. If renaming is not possible, pass the object in the `custom_objects` parameter of the load function.\n"
          ]
        },
        {
          "output_type": "stream",
          "name": "stdout",
          "text": [
            "\b\b\b\b\b\b\b\b\b\b\b\b\b\b\b\b\b\b\b\b\b\b\b\b\b\b\b\b\b\b\b\b\b\b\b\b\b\b\b\b\b\b\b\b\b\b\b\b\b\b\b\b\b\b\b\b\b\b\b\b\b\b\b\b\b\r70/70 [==============================] - 2s 28ms/step - loss: 112.9802 - val_loss: 587.7270\n",
            "Epoch 46/100\n",
            "70/70 [==============================] - 0s 6ms/step - loss: 123.1217 - val_loss: 670.1492\n",
            "Epoch 47/100\n",
            "70/70 [==============================] - 0s 6ms/step - loss: 114.0793 - val_loss: 736.3560\n",
            "Epoch 48/100\n",
            "63/70 [==========================>...] - ETA: 0s - loss: 115.8336"
          ]
        },
        {
          "output_type": "stream",
          "name": "stderr",
          "text": [
            "WARNING:absl:<keras.layers.recurrent.LSTMCell object at 0x7f0b50beb4d0> has the same name 'LSTMCell' as a built-in Keras object. Consider renaming <class 'keras.layers.recurrent.LSTMCell'> to avoid naming conflicts when loading with `tf.keras.models.load_model`. If renaming is not possible, pass the object in the `custom_objects` parameter of the load function.\n"
          ]
        },
        {
          "output_type": "stream",
          "name": "stdout",
          "text": [
            "\b\b\b\b\b\b\b\b\b\b\b\b\b\b\b\b\b\b\b\b\b\b\b\b\b\b\b\b\b\b\b\b\b\b\b\b\b\b\b\b\b\b\b\b\b\b\b\b\b\b\b\b\b\b\b\b\b\b\b\b\b\b\b\b\b\r70/70 [==============================] - 2s 28ms/step - loss: 116.1055 - val_loss: 584.6566\n",
            "Epoch 49/100\n",
            "64/70 [==========================>...] - ETA: 0s - loss: 112.0137"
          ]
        },
        {
          "output_type": "stream",
          "name": "stderr",
          "text": [
            "WARNING:absl:<keras.layers.recurrent.LSTMCell object at 0x7f0b50beb4d0> has the same name 'LSTMCell' as a built-in Keras object. Consider renaming <class 'keras.layers.recurrent.LSTMCell'> to avoid naming conflicts when loading with `tf.keras.models.load_model`. If renaming is not possible, pass the object in the `custom_objects` parameter of the load function.\n"
          ]
        },
        {
          "output_type": "stream",
          "name": "stdout",
          "text": [
            "\b\b\b\b\b\b\b\b\b\b\b\b\b\b\b\b\b\b\b\b\b\b\b\b\b\b\b\b\b\b\b\b\b\b\b\b\b\b\b\b\b\b\b\b\b\b\b\b\b\b\b\b\b\b\b\b\b\b\b\b\b\b\b\b\b\r70/70 [==============================] - 2s 28ms/step - loss: 111.6030 - val_loss: 584.3054\n",
            "Epoch 50/100\n",
            "70/70 [==============================] - 0s 6ms/step - loss: 113.0661 - val_loss: 597.9438\n",
            "Epoch 51/100\n",
            "70/70 [==============================] - 0s 6ms/step - loss: 115.9821 - val_loss: 608.9402\n",
            "Epoch 52/100\n",
            "70/70 [==============================] - 0s 6ms/step - loss: 118.3501 - val_loss: 601.7717\n",
            "Epoch 53/100\n",
            "70/70 [==============================] - 0s 6ms/step - loss: 110.5680 - val_loss: 591.6512\n",
            "Epoch 54/100\n",
            "70/70 [==============================] - 0s 6ms/step - loss: 112.0331 - val_loss: 598.9587\n",
            "Epoch 55/100\n",
            "63/70 [==========================>...] - ETA: 0s - loss: 113.7872"
          ]
        },
        {
          "output_type": "stream",
          "name": "stderr",
          "text": [
            "WARNING:absl:<keras.layers.recurrent.LSTMCell object at 0x7f0b50beb4d0> has the same name 'LSTMCell' as a built-in Keras object. Consider renaming <class 'keras.layers.recurrent.LSTMCell'> to avoid naming conflicts when loading with `tf.keras.models.load_model`. If renaming is not possible, pass the object in the `custom_objects` parameter of the load function.\n"
          ]
        },
        {
          "output_type": "stream",
          "name": "stdout",
          "text": [
            "\b\b\b\b\b\b\b\b\b\b\b\b\b\b\b\b\b\b\b\b\b\b\b\b\b\b\b\b\b\b\b\b\b\b\b\b\b\b\b\b\b\b\b\b\b\b\b\b\b\b\b\b\b\b\b\b\b\b\b\b\b\b\b\b\b\r70/70 [==============================] - 2s 33ms/step - loss: 110.0361 - val_loss: 578.8579\n",
            "Epoch 56/100\n",
            "70/70 [==============================] - 0s 6ms/step - loss: 113.3981 - val_loss: 651.3969\n",
            "Epoch 57/100\n",
            "70/70 [==============================] - 0s 6ms/step - loss: 113.3235 - val_loss: 579.8799\n",
            "Epoch 58/100\n",
            "70/70 [==============================] - 0s 6ms/step - loss: 110.9348 - val_loss: 594.9945\n",
            "Epoch 59/100\n",
            "70/70 [==============================] - 0s 6ms/step - loss: 111.0759 - val_loss: 598.4797\n",
            "Epoch 60/100\n",
            "70/70 [==============================] - 0s 6ms/step - loss: 110.0784 - val_loss: 624.2524\n",
            "Epoch 61/100\n",
            "70/70 [==============================] - 0s 6ms/step - loss: 113.0026 - val_loss: 633.1222\n",
            "Epoch 62/100\n",
            "70/70 [==============================] - 0s 6ms/step - loss: 109.7577 - val_loss: 580.9935\n",
            "Epoch 63/100\n",
            "61/70 [=========================>....] - ETA: 0s - loss: 110.3631"
          ]
        },
        {
          "output_type": "stream",
          "name": "stderr",
          "text": [
            "WARNING:absl:<keras.layers.recurrent.LSTMCell object at 0x7f0b50beb4d0> has the same name 'LSTMCell' as a built-in Keras object. Consider renaming <class 'keras.layers.recurrent.LSTMCell'> to avoid naming conflicts when loading with `tf.keras.models.load_model`. If renaming is not possible, pass the object in the `custom_objects` parameter of the load function.\n"
          ]
        },
        {
          "output_type": "stream",
          "name": "stdout",
          "text": [
            "\b\b\b\b\b\b\b\b\b\b\b\b\b\b\b\b\b\b\b\b\b\b\b\b\b\b\b\b\b\b\b\b\b\b\b\b\b\b\b\b\b\b\b\b\b\b\b\b\b\b\b\b\b\b\b\b\b\b\b\b\b\b\b\b\b\r70/70 [==============================] - 2s 29ms/step - loss: 108.9819 - val_loss: 577.5323\n",
            "Epoch 64/100\n",
            "70/70 [==============================] - 0s 6ms/step - loss: 113.2528 - val_loss: 626.8867\n",
            "Epoch 65/100\n",
            "70/70 [==============================] - 0s 6ms/step - loss: 111.6353 - val_loss: 578.3531\n",
            "Epoch 66/100\n",
            "70/70 [==============================] - 0s 6ms/step - loss: 109.5341 - val_loss: 612.4676\n",
            "Epoch 67/100\n",
            "64/70 [==========================>...] - ETA: 0s - loss: 106.6577"
          ]
        },
        {
          "output_type": "stream",
          "name": "stderr",
          "text": [
            "WARNING:absl:<keras.layers.recurrent.LSTMCell object at 0x7f0b50beb4d0> has the same name 'LSTMCell' as a built-in Keras object. Consider renaming <class 'keras.layers.recurrent.LSTMCell'> to avoid naming conflicts when loading with `tf.keras.models.load_model`. If renaming is not possible, pass the object in the `custom_objects` parameter of the load function.\n"
          ]
        },
        {
          "output_type": "stream",
          "name": "stdout",
          "text": [
            "\b\b\b\b\b\b\b\b\b\b\b\b\b\b\b\b\b\b\b\b\b\b\b\b\b\b\b\b\b\b\b\b\b\b\b\b\b\b\b\b\b\b\b\b\b\b\b\b\b\b\b\b\b\b\b\b\b\b\b\b\b\b\b\b\b\r70/70 [==============================] - 2s 29ms/step - loss: 109.4162 - val_loss: 573.5859\n",
            "Epoch 68/100\n",
            "70/70 [==============================] - 0s 6ms/step - loss: 108.1778 - val_loss: 574.8300\n",
            "Epoch 69/100\n",
            "70/70 [==============================] - 0s 6ms/step - loss: 115.6086 - val_loss: 685.5164\n",
            "Epoch 70/100\n",
            "70/70 [==============================] - 0s 6ms/step - loss: 110.8787 - val_loss: 575.0029\n",
            "Epoch 71/100\n",
            "70/70 [==============================] - 0s 6ms/step - loss: 113.6486 - val_loss: 708.1323\n",
            "Epoch 72/100\n",
            "70/70 [==============================] - 0s 6ms/step - loss: 111.9779 - val_loss: 637.9200\n",
            "Epoch 73/100\n",
            "70/70 [==============================] - 0s 6ms/step - loss: 108.1487 - val_loss: 573.9632\n",
            "Epoch 74/100\n",
            "65/70 [==========================>...] - ETA: 0s - loss: 111.1600"
          ]
        },
        {
          "output_type": "stream",
          "name": "stderr",
          "text": [
            "WARNING:absl:<keras.layers.recurrent.LSTMCell object at 0x7f0b50beb4d0> has the same name 'LSTMCell' as a built-in Keras object. Consider renaming <class 'keras.layers.recurrent.LSTMCell'> to avoid naming conflicts when loading with `tf.keras.models.load_model`. If renaming is not possible, pass the object in the `custom_objects` parameter of the load function.\n"
          ]
        },
        {
          "output_type": "stream",
          "name": "stdout",
          "text": [
            "\b\b\b\b\b\b\b\b\b\b\b\b\b\b\b\b\b\b\b\b\b\b\b\b\b\b\b\b\b\b\b\b\b\b\b\b\b\b\b\b\b\b\b\b\b\b\b\b\b\b\b\b\b\b\b\b\b\b\b\b\b\b\b\b\b\r70/70 [==============================] - 2s 29ms/step - loss: 111.4731 - val_loss: 573.0729\n",
            "Epoch 75/100\n",
            "70/70 [==============================] - 0s 6ms/step - loss: 109.8500 - val_loss: 693.3377\n",
            "Epoch 76/100\n",
            "70/70 [==============================] - 0s 6ms/step - loss: 113.6983 - val_loss: 578.7035\n",
            "Epoch 77/100\n",
            "70/70 [==============================] - 0s 6ms/step - loss: 110.2631 - val_loss: 584.1373\n",
            "Epoch 78/100\n",
            "70/70 [==============================] - 0s 6ms/step - loss: 110.2029 - val_loss: 573.2184\n",
            "Epoch 79/100\n",
            "70/70 [==============================] - 0s 6ms/step - loss: 112.6008 - val_loss: 605.0843\n",
            "Epoch 80/100\n",
            "62/70 [=========================>....] - ETA: 0s - loss: 117.9610"
          ]
        },
        {
          "output_type": "stream",
          "name": "stderr",
          "text": [
            "WARNING:absl:<keras.layers.recurrent.LSTMCell object at 0x7f0b50beb4d0> has the same name 'LSTMCell' as a built-in Keras object. Consider renaming <class 'keras.layers.recurrent.LSTMCell'> to avoid naming conflicts when loading with `tf.keras.models.load_model`. If renaming is not possible, pass the object in the `custom_objects` parameter of the load function.\n"
          ]
        },
        {
          "output_type": "stream",
          "name": "stdout",
          "text": [
            "\b\b\b\b\b\b\b\b\b\b\b\b\b\b\b\b\b\b\b\b\b\b\b\b\b\b\b\b\b\b\b\b\b\b\b\b\b\b\b\b\b\b\b\b\b\b\b\b\b\b\b\b\b\b\b\b\b\b\b\b\b\b\b\b\b\r70/70 [==============================] - 2s 33ms/step - loss: 114.8586 - val_loss: 572.6841\n",
            "Epoch 81/100\n",
            "70/70 [==============================] - 0s 6ms/step - loss: 108.8074 - val_loss: 640.2375\n",
            "Epoch 82/100\n",
            "70/70 [==============================] - 1s 9ms/step - loss: 116.8869 - val_loss: 730.2276\n",
            "Epoch 83/100\n",
            "70/70 [==============================] - 1s 11ms/step - loss: 110.3225 - val_loss: 573.4832\n",
            "Epoch 84/100\n",
            "66/70 [===========================>..] - ETA: 0s - loss: 108.8033"
          ]
        },
        {
          "output_type": "stream",
          "name": "stderr",
          "text": [
            "WARNING:absl:<keras.layers.recurrent.LSTMCell object at 0x7f0b50beb4d0> has the same name 'LSTMCell' as a built-in Keras object. Consider renaming <class 'keras.layers.recurrent.LSTMCell'> to avoid naming conflicts when loading with `tf.keras.models.load_model`. If renaming is not possible, pass the object in the `custom_objects` parameter of the load function.\n"
          ]
        },
        {
          "output_type": "stream",
          "name": "stdout",
          "text": [
            "\b\b\b\b\b\b\b\b\b\b\b\b\b\b\b\b\b\b\b\b\b\b\b\b\b\b\b\b\b\b\b\b\b\b\b\b\b\b\b\b\b\b\b\b\b\b\b\b\b\b\b\b\b\b\b\b\b\b\b\b\b\b\b\b\b\r70/70 [==============================] - 2s 36ms/step - loss: 108.9233 - val_loss: 569.6898\n",
            "Epoch 85/100\n",
            "70/70 [==============================] - 0s 6ms/step - loss: 107.2475 - val_loss: 572.3955\n",
            "Epoch 86/100\n",
            "70/70 [==============================] - 0s 6ms/step - loss: 113.9578 - val_loss: 592.4625\n",
            "Epoch 87/100\n",
            "70/70 [==============================] - 1s 8ms/step - loss: 109.9852 - val_loss: 587.0535\n",
            "Epoch 88/100\n",
            "70/70 [==============================] - 1s 10ms/step - loss: 112.5881 - val_loss: 580.7653\n",
            "Epoch 89/100\n",
            "70/70 [==============================] - 1s 11ms/step - loss: 110.0377 - val_loss: 684.1923\n",
            "Epoch 90/100\n",
            "70/70 [==============================] - 1s 9ms/step - loss: 111.3718 - val_loss: 620.7026\n",
            "Epoch 91/100\n",
            "70/70 [==============================] - 0s 6ms/step - loss: 111.0432 - val_loss: 626.7546\n",
            "Epoch 92/100\n",
            "70/70 [==============================] - ETA: 0s - loss: 109.8147"
          ]
        },
        {
          "output_type": "stream",
          "name": "stderr",
          "text": [
            "WARNING:absl:<keras.layers.recurrent.LSTMCell object at 0x7f0b50beb4d0> has the same name 'LSTMCell' as a built-in Keras object. Consider renaming <class 'keras.layers.recurrent.LSTMCell'> to avoid naming conflicts when loading with `tf.keras.models.load_model`. If renaming is not possible, pass the object in the `custom_objects` parameter of the load function.\n"
          ]
        },
        {
          "output_type": "stream",
          "name": "stdout",
          "text": [
            "\b\b\b\b\b\b\b\b\b\b\b\b\b\b\b\b\b\b\b\b\b\b\b\b\b\b\b\b\b\b\b\b\b\b\b\b\b\b\b\b\b\b\b\b\b\b\b\b\b\b\b\b\b\b\b\b\b\b\b\b\b\b\b\b\b\r70/70 [==============================] - 2s 28ms/step - loss: 109.8147 - val_loss: 568.9504\n",
            "Epoch 93/100\n",
            "70/70 [==============================] - 0s 6ms/step - loss: 107.7831 - val_loss: 590.6001\n",
            "Epoch 94/100\n",
            "70/70 [==============================] - 0s 6ms/step - loss: 112.7715 - val_loss: 621.3387\n",
            "Epoch 95/100\n",
            "70/70 [==============================] - 0s 6ms/step - loss: 110.3261 - val_loss: 602.2106\n",
            "Epoch 96/100\n",
            "70/70 [==============================] - 0s 6ms/step - loss: 114.0459 - val_loss: 642.1033\n",
            "Epoch 97/100\n",
            "70/70 [==============================] - 0s 6ms/step - loss: 114.3700 - val_loss: 578.8003\n",
            "Epoch 98/100\n",
            "70/70 [==============================] - 0s 6ms/step - loss: 110.4438 - val_loss: 578.9271\n",
            "Epoch 99/100\n",
            "70/70 [==============================] - 0s 6ms/step - loss: 111.1804 - val_loss: 580.5478\n",
            "Epoch 100/100\n",
            "70/70 [==============================] - 0s 6ms/step - loss: 109.8929 - val_loss: 570.3290\n"
          ]
        },
        {
          "output_type": "execute_result",
          "data": {
            "text/plain": [
              "<keras.callbacks.History at 0x7f0b5095d790>"
            ]
          },
          "metadata": {},
          "execution_count": 99
        }
      ]
    },
    {
      "cell_type": "code",
      "source": [
        "model_5.evaluate(test_windows, test_labels)"
      ],
      "metadata": {
        "colab": {
          "base_uri": "https://localhost:8080/"
        },
        "id": "t5rz4IiPFUMV",
        "outputId": "3ace5c8f-15fb-4ef2-88a8-a35371a0d891"
      },
      "execution_count": 100,
      "outputs": [
        {
          "output_type": "stream",
          "name": "stdout",
          "text": [
            "18/18 [==============================] - 0s 2ms/step - loss: 570.3290\n"
          ]
        },
        {
          "output_type": "execute_result",
          "data": {
            "text/plain": [
              "570.3290405273438"
            ]
          },
          "metadata": {},
          "execution_count": 100
        }
      ]
    },
    {
      "cell_type": "code",
      "source": [
        "# Load in the best version of model 5 from callback\n",
        "model_5 = tf.keras.models.load_model('model_experiments/model_5_lstm')\n",
        "model_5.evaluate(test_windows, test_labels)"
      ],
      "metadata": {
        "colab": {
          "base_uri": "https://localhost:8080/"
        },
        "id": "G92VZ5aWHMDO",
        "outputId": "c5e44486-df59-4a46-bb6f-523fb8128077"
      },
      "execution_count": 101,
      "outputs": [
        {
          "output_type": "stream",
          "name": "stderr",
          "text": [
            "WARNING:tensorflow:Layer lstm will not use cuDNN kernels since it doesn't meet the criteria. It will use a generic GPU kernel as fallback when running on GPU.\n"
          ]
        },
        {
          "output_type": "stream",
          "name": "stdout",
          "text": [
            "18/18 [==============================] - 1s 2ms/step - loss: 568.9504\n"
          ]
        },
        {
          "output_type": "execute_result",
          "data": {
            "text/plain": [
              "568.9503784179688"
            ]
          },
          "metadata": {},
          "execution_count": 101
        }
      ]
    },
    {
      "cell_type": "code",
      "source": [
        "# Make predictions\n",
        "model_5_preds = make_preds(model_5, test_windows)\n",
        "model_5_preds[:5]"
      ],
      "metadata": {
        "colab": {
          "base_uri": "https://localhost:8080/"
        },
        "id": "7IJaFJQwH1Eq",
        "outputId": "2743e772-5dcf-4d9e-b721-b28066c8c0f8"
      },
      "execution_count": 102,
      "outputs": [
        {
          "output_type": "execute_result",
          "data": {
            "text/plain": [
              "<tf.Tensor: shape=(5,), dtype=float32, numpy=\n",
              "array([8886.3955, 8785.118 , 9050.363 , 8812.146 , 8733.188 ],\n",
              "      dtype=float32)>"
            ]
          },
          "metadata": {},
          "execution_count": 102
        }
      ]
    },
    {
      "cell_type": "code",
      "source": [
        "# Evaluate model 5 predictions\n",
        "model_5_results = evaluate_preds(tf.squeeze(test_labels), model_5_preds)"
      ],
      "metadata": {
        "id": "eDvYrVvvH7gF"
      },
      "execution_count": 103,
      "outputs": []
    },
    {
      "cell_type": "code",
      "source": [
        "model_5_results"
      ],
      "metadata": {
        "colab": {
          "base_uri": "https://localhost:8080/"
        },
        "id": "KOuFUYSuIAyd",
        "outputId": "f3c18e91-fb56-4403-86f5-5ee6e6b17592"
      },
      "execution_count": 104,
      "outputs": [
        {
          "output_type": "execute_result",
          "data": {
            "text/plain": [
              "{'MAE': 568.9504,\n",
              " 'MSE': 1174135.5,\n",
              " 'RMSE': 1083.5753,\n",
              " 'MAPE': 2.5381343,\n",
              " 'MASE': 0.99948823}"
            ]
          },
          "metadata": {},
          "execution_count": 104
        }
      ]
    },
    {
      "cell_type": "markdown",
      "source": [
        "**Note** Because neural networks are such powerful algorithms, they can be used for almost any problem, however, tthat doesn't mean they'll achieve performant or usable results."
      ],
      "metadata": {
        "id": "be5brtBSICoS"
      }
    },
    {
      "cell_type": "markdown",
      "source": [
        "# Make Multivariate Time Series Dataset\n",
        "\n",
        "Before we add a feature to our ttime series, what is a feature we can use?\n",
        "\n",
        "One feature we could add is whether or not __ tweeted on that day.\n",
        "\n",
        "* day 1 - 0 (not tweeted)\n",
        "* day 2 - 1 (tweeted)\n",
        "* day 3 - 0 \n",
        "\n",
        "What's a better feature to use?\n",
        "\n",
        "How about Bitcoin Halving events?\n",
        "\n",
        "Since we're working with open system, literally anything can influence the prices.\n",
        "\n"
      ],
      "metadata": {
        "id": "kTQ77fin_DyK"
      }
    },
    {
      "cell_type": "code",
      "source": [
        "# Let's make a multivariate bitcoin\n",
        "bitcoin_prices.head()"
      ],
      "metadata": {
        "colab": {
          "base_uri": "https://localhost:8080/",
          "height": 237
        },
        "id": "6Z880yZc_M_H",
        "outputId": "e24320ea-46db-4bbe-ca96-dd33d2c01d3d"
      },
      "execution_count": 105,
      "outputs": [
        {
          "output_type": "execute_result",
          "data": {
            "text/plain": [
              "                Price\n",
              "Date                 \n",
              "2013-10-01  123.65499\n",
              "2013-10-02  125.45500\n",
              "2013-10-03  108.58483\n",
              "2013-10-04  118.67466\n",
              "2013-10-05  121.33866"
            ],
            "text/html": [
              "\n",
              "  <div id=\"df-77ca0a4f-7aea-4b7d-83dd-66b8fb5cc4ea\">\n",
              "    <div class=\"colab-df-container\">\n",
              "      <div>\n",
              "<style scoped>\n",
              "    .dataframe tbody tr th:only-of-type {\n",
              "        vertical-align: middle;\n",
              "    }\n",
              "\n",
              "    .dataframe tbody tr th {\n",
              "        vertical-align: top;\n",
              "    }\n",
              "\n",
              "    .dataframe thead th {\n",
              "        text-align: right;\n",
              "    }\n",
              "</style>\n",
              "<table border=\"1\" class=\"dataframe\">\n",
              "  <thead>\n",
              "    <tr style=\"text-align: right;\">\n",
              "      <th></th>\n",
              "      <th>Price</th>\n",
              "    </tr>\n",
              "    <tr>\n",
              "      <th>Date</th>\n",
              "      <th></th>\n",
              "    </tr>\n",
              "  </thead>\n",
              "  <tbody>\n",
              "    <tr>\n",
              "      <th>2013-10-01</th>\n",
              "      <td>123.65499</td>\n",
              "    </tr>\n",
              "    <tr>\n",
              "      <th>2013-10-02</th>\n",
              "      <td>125.45500</td>\n",
              "    </tr>\n",
              "    <tr>\n",
              "      <th>2013-10-03</th>\n",
              "      <td>108.58483</td>\n",
              "    </tr>\n",
              "    <tr>\n",
              "      <th>2013-10-04</th>\n",
              "      <td>118.67466</td>\n",
              "    </tr>\n",
              "    <tr>\n",
              "      <th>2013-10-05</th>\n",
              "      <td>121.33866</td>\n",
              "    </tr>\n",
              "  </tbody>\n",
              "</table>\n",
              "</div>\n",
              "      <button class=\"colab-df-convert\" onclick=\"convertToInteractive('df-77ca0a4f-7aea-4b7d-83dd-66b8fb5cc4ea')\"\n",
              "              title=\"Convert this dataframe to an interactive table.\"\n",
              "              style=\"display:none;\">\n",
              "        \n",
              "  <svg xmlns=\"http://www.w3.org/2000/svg\" height=\"24px\"viewBox=\"0 0 24 24\"\n",
              "       width=\"24px\">\n",
              "    <path d=\"M0 0h24v24H0V0z\" fill=\"none\"/>\n",
              "    <path d=\"M18.56 5.44l.94 2.06.94-2.06 2.06-.94-2.06-.94-.94-2.06-.94 2.06-2.06.94zm-11 1L8.5 8.5l.94-2.06 2.06-.94-2.06-.94L8.5 2.5l-.94 2.06-2.06.94zm10 10l.94 2.06.94-2.06 2.06-.94-2.06-.94-.94-2.06-.94 2.06-2.06.94z\"/><path d=\"M17.41 7.96l-1.37-1.37c-.4-.4-.92-.59-1.43-.59-.52 0-1.04.2-1.43.59L10.3 9.45l-7.72 7.72c-.78.78-.78 2.05 0 2.83L4 21.41c.39.39.9.59 1.41.59.51 0 1.02-.2 1.41-.59l7.78-7.78 2.81-2.81c.8-.78.8-2.07 0-2.86zM5.41 20L4 18.59l7.72-7.72 1.47 1.35L5.41 20z\"/>\n",
              "  </svg>\n",
              "      </button>\n",
              "      \n",
              "  <style>\n",
              "    .colab-df-container {\n",
              "      display:flex;\n",
              "      flex-wrap:wrap;\n",
              "      gap: 12px;\n",
              "    }\n",
              "\n",
              "    .colab-df-convert {\n",
              "      background-color: #E8F0FE;\n",
              "      border: none;\n",
              "      border-radius: 50%;\n",
              "      cursor: pointer;\n",
              "      display: none;\n",
              "      fill: #1967D2;\n",
              "      height: 32px;\n",
              "      padding: 0 0 0 0;\n",
              "      width: 32px;\n",
              "    }\n",
              "\n",
              "    .colab-df-convert:hover {\n",
              "      background-color: #E2EBFA;\n",
              "      box-shadow: 0px 1px 2px rgba(60, 64, 67, 0.3), 0px 1px 3px 1px rgba(60, 64, 67, 0.15);\n",
              "      fill: #174EA6;\n",
              "    }\n",
              "\n",
              "    [theme=dark] .colab-df-convert {\n",
              "      background-color: #3B4455;\n",
              "      fill: #D2E3FC;\n",
              "    }\n",
              "\n",
              "    [theme=dark] .colab-df-convert:hover {\n",
              "      background-color: #434B5C;\n",
              "      box-shadow: 0px 1px 3px 1px rgba(0, 0, 0, 0.15);\n",
              "      filter: drop-shadow(0px 1px 2px rgba(0, 0, 0, 0.3));\n",
              "      fill: #FFFFFF;\n",
              "    }\n",
              "  </style>\n",
              "\n",
              "      <script>\n",
              "        const buttonEl =\n",
              "          document.querySelector('#df-77ca0a4f-7aea-4b7d-83dd-66b8fb5cc4ea button.colab-df-convert');\n",
              "        buttonEl.style.display =\n",
              "          google.colab.kernel.accessAllowed ? 'block' : 'none';\n",
              "\n",
              "        async function convertToInteractive(key) {\n",
              "          const element = document.querySelector('#df-77ca0a4f-7aea-4b7d-83dd-66b8fb5cc4ea');\n",
              "          const dataTable =\n",
              "            await google.colab.kernel.invokeFunction('convertToInteractive',\n",
              "                                                     [key], {});\n",
              "          if (!dataTable) return;\n",
              "\n",
              "          const docLinkHtml = 'Like what you see? Visit the ' +\n",
              "            '<a target=\"_blank\" href=https://colab.research.google.com/notebooks/data_table.ipynb>data table notebook</a>'\n",
              "            + ' to learn more about interactive tables.';\n",
              "          element.innerHTML = '';\n",
              "          dataTable['output_type'] = 'display_data';\n",
              "          await google.colab.output.renderOutput(dataTable, element);\n",
              "          const docLink = document.createElement('div');\n",
              "          docLink.innerHTML = docLinkHtml;\n",
              "          element.appendChild(docLink);\n",
              "        }\n",
              "      </script>\n",
              "    </div>\n",
              "  </div>\n",
              "  "
            ]
          },
          "metadata": {},
          "execution_count": 105
        }
      ]
    },
    {
      "cell_type": "code",
      "source": [
        "# Let's add the bitcoin halving events to our dataset\n",
        "block_reward_1 = 50 # 3 january 2009 - this block reward isn't in our dataset\n",
        "block_reward_2 = 25 # 8 november 2012\n",
        "block_reward_3 = 12.5 # 9 july 2016\n",
        "block_reward_4 = 6.26 # 18 may 2020\n",
        "\n",
        "# block reward dates\n",
        "block_reward_2_datetime = np.datetime64(\"2012-11-28\")\n",
        "block_rewad_3_datetime = np.datetime64(\"2016-07-09\")\n",
        "block_rewad_4_datetime = np.datetime64('2020-05-18')"
      ],
      "metadata": {
        "id": "WmNbwstxAutl"
      },
      "execution_count": 106,
      "outputs": []
    },
    {
      "cell_type": "markdown",
      "source": [
        "We need to add this values to the dataframe"
      ],
      "metadata": {
        "id": "T8v16ypsBzlj"
      }
    },
    {
      "cell_type": "code",
      "source": [],
      "metadata": {
        "id": "BubtjSR-Bv6P"
      },
      "execution_count": null,
      "outputs": []
    }
  ]
}